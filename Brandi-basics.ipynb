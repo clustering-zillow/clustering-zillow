{
 "cells": [
  {
   "cell_type": "code",
   "execution_count": 1,
   "metadata": {},
   "outputs": [],
   "source": [
    "# ignore warnings\n",
    "import warnings\n",
    "warnings.filterwarnings(\"ignore\")\n",
    "\n",
    "# Wrangling\n",
    "import pandas as pd\n",
    "import numpy as np\n",
    "\n",
    "# Exploring\n",
    "import scipy.stats as stats\n",
    "\n",
    "# Impute missing values\n",
    "from sklearn.experimental import enable_iterative_imputer\n",
    "from sklearn.impute import IterativeImputer\n",
    "\n",
    "# Visualizing\n",
    "%matplotlib inline\n",
    "import matplotlib.pyplot as plt\n",
    "import seaborn as sns\n",
    "\n",
    "# default pandas decimal number display format\n",
    "pd.options.display.float_format = '{:20,.2f}'.format\n",
    "pd.set_option('display.max_columns', None, 'display.max_rows', None)\n",
    "\n",
    "import acquire\n",
    "import wrangle_zillow"
   ]
  },
  {
   "cell_type": "code",
   "execution_count": 2,
   "metadata": {},
   "outputs": [],
   "source": [
    "zillow = acquire.get_zillow(acquire.sql)\n",
    "# Save file to csv so I can quit asking the server for this data\n",
    "zillow.to_csv('zillow.csv')"
   ]
  },
  {
   "cell_type": "code",
   "execution_count": 3,
   "metadata": {},
   "outputs": [],
   "source": [
    "zillow = pd.read_csv('zillow.csv', index_col='id')\n",
    "# drop extra column that comes in from csv files\n",
    "# zillow = zillow.drop(columns='Unnamed: 0')"
   ]
  },
  {
   "cell_type": "code",
   "execution_count": 4,
   "metadata": {},
   "outputs": [
    {
     "name": "stdout",
     "output_type": "stream",
     "text": [
      "There are 77575 rows and 67 columns in the starting dataframe.\n"
     ]
    }
   ],
   "source": [
    "orig_rows = zillow.shape[0]\n",
    "orig_cols = zillow.shape[1]\n",
    "print (f'There are {orig_rows} rows and {orig_cols} columns in the starting dataframe.')"
   ]
  },
  {
   "cell_type": "markdown",
   "metadata": {},
   "source": [
    "# Project\n",
    "\n",
    "### Goal: Improve our original estimate of the log error by using clustering methodologies.\n",
    "\n",
    "## Acquisition, Prep, and Initial Exploration\n",
    "\n",
    "Using the notebook and files you created during the exercises make any changes, additions, etc. you want at this point. NOTE: You will NOT be splitting into train and test at this point."
   ]
  },
  {
   "cell_type": "code",
   "execution_count": null,
   "metadata": {},
   "outputs": [],
   "source": [
    "# Drop rows:\n",
    "# Restrict df to only properties that meet single use criteria\n",
    "single_use = [261, 262, 263, 264, 266, 268, 273, 276, 279]\n",
    "zillow = zillow[zillow.propertylandusetypeid.isin(single_use)]"
   ]
  },
  {
   "cell_type": "code",
   "execution_count": null,
   "metadata": {},
   "outputs": [],
   "source": [
    "# Restrict df to only those properties with at least 1 bath & bed\n",
    "zillow = zillow[(zillow.bedroomcnt > 0) & (zillow.bathroomcnt > 0)]"
   ]
  },
  {
   "cell_type": "code",
   "execution_count": null,
   "metadata": {},
   "outputs": [],
   "source": [
    "print (f'There are now {zillow.shape[0]} rows in the zillow dataframe.')"
   ]
  },
  {
   "cell_type": "code",
   "execution_count": null,
   "metadata": {},
   "outputs": [],
   "source": [
    "# Change the Y in taxdelinquencyflag to 1\n",
    "zillow.taxdelinquencyflag = np.where(zillow.taxdelinquencyflag == 'Y', 1, 0)\n",
    "zillow.taxdelinquencyflag.value_counts()"
   ]
  },
  {
   "cell_type": "code",
   "execution_count": null,
   "metadata": {},
   "outputs": [],
   "source": [
    "# Add column for counties\n",
    "zillow['county'] = np.where(zillow.fips == 6037, 'Los_Angeles',\n",
    "                            np.where(zillow.fips == 6059, 'Orange', 'Ventura'))"
   ]
  },
  {
   "cell_type": "code",
   "execution_count": null,
   "metadata": {},
   "outputs": [],
   "source": [
    "# Address that zip code with too many digits\n",
    "zillow[zillow.regionidzip > 100000].regionidzip.value_counts()"
   ]
  },
  {
   "cell_type": "code",
   "execution_count": null,
   "metadata": {},
   "outputs": [],
   "source": [
    "# pretty sure its just an extra digit\n",
    "# check if 99675 is a zipcode: nope, so its probably a typo\n",
    "zillow[zillow.regionidzip == 99675].regionidzip.value_counts()"
   ]
  },
  {
   "cell_type": "code",
   "execution_count": null,
   "metadata": {},
   "outputs": [],
   "source": [
    "zillow['regionidzip'] = zillow['regionidzip'].replace(399675, 99675)"
   ]
  },
  {
   "cell_type": "markdown",
   "metadata": {},
   "source": [
    "### Ideas:\n",
    "\n",
    "1. Data types:\n",
    "\n",
    "Write a function that takes in a dataframe and a list of column names and returns the dataframe with the datatypes of those columns changed to a non-numeric type.\n",
    "Use this function to appropriately transform any numeric columns that should not be treated as numbers."
   ]
  },
  {
   "cell_type": "code",
   "execution_count": null,
   "metadata": {},
   "outputs": [],
   "source": [
    "def numeric_to_object(df, num_cols):\n",
    "    \"\"\"\n",
    "    Takes in a dataframe and a list of the columns to be transformed. \n",
    "    Changes the type of each column in the list to object type.\n",
    "    \"\"\"\n",
    "    for col in num_cols:\n",
    "        df[col] = df[col].astype('object')\n",
    "    return df"
   ]
  },
  {
   "cell_type": "code",
   "execution_count": null,
   "metadata": {},
   "outputs": [],
   "source": [
    "# added this function to be sure numeric columns that should be integers and not floats are treated as such\n",
    "def numeric_to_int(df, num_cols):\n",
    "    \"\"\"\n",
    "    Takes in a dataframe and a list of the columns to be transformed. \n",
    "    Changes the type of each column in the list to integer type.\n",
    "    \"\"\"\n",
    "    for col in num_cols:\n",
    "        df[col] = df[col].astype('int')\n",
    "    return df"
   ]
  },
  {
   "cell_type": "markdown",
   "metadata": {},
   "source": [
    "2. Missing Values: Impute the values in land square feet.\n",
    "\n",
    "For land square feet, the goal is to impute the missing values by creating a linear model where landtaxvaluedollarcnt is the x-variable and the output/y-variable is the estimated land square feet.\n",
    "We'll then use this model to make predictions and fill in the missing values."
   ]
  },
  {
   "cell_type": "code",
   "execution_count": null,
   "metadata": {},
   "outputs": [],
   "source": [
    "zillow[zillow.landtaxvaluedollarcnt.isna()]"
   ]
  },
  {
   "cell_type": "code",
   "execution_count": null,
   "metadata": {},
   "outputs": [],
   "source": []
  },
  {
   "cell_type": "markdown",
   "metadata": {},
   "source": [
    "Write a function that accepts the zillow data frame and returns the data frame with the missing values filled in."
   ]
  },
  {
   "cell_type": "code",
   "execution_count": null,
   "metadata": {},
   "outputs": [],
   "source": [
    "def fill_nulls_with_zero(df, col_names):\n",
    "    for col in col_names:\n",
    "        df[col] = df[col].fillna(0)\n",
    "    return df"
   ]
  },
  {
   "cell_type": "code",
   "execution_count": null,
   "metadata": {},
   "outputs": [],
   "source": [
    "# Test function\n",
    "null_cols = ['airconditioningtypeid', 'basementsqft', 'decktypeid',\n",
    "             'fireplacecnt', 'garagecarcnt', 'garagetotalsqft',\n",
    "             'hashottuborspa', 'lotsizesquarefeet', 'poolcnt',\n",
    "             'poolsizesum', 'taxdelinquencyyear']\n",
    "\n",
    "zillow = fill_nulls_with_zero(zillow, null_cols)"
   ]
  },
  {
   "cell_type": "markdown",
   "metadata": {},
   "source": [
    "3. Missing Values: Of the remaining missing values, can they be imputed or otherwise estimated?\n",
    "\n",
    "Impute those that can be imputed with the method you feel best fits the attribute."
   ]
  },
  {
   "cell_type": "code",
   "execution_count": null,
   "metadata": {},
   "outputs": [],
   "source": [
    "def handle_other_nulls(df):\n",
    "    df.heatingorsystemtypeid.fillna(13, inplace=True)\n",
    "    df.numberofstories.fillna(1, inplace=True)\n",
    "    df.unitcnt.fillna(1, inplace=True)\n",
    "    return df"
   ]
  },
  {
   "cell_type": "code",
   "execution_count": null,
   "metadata": {},
   "outputs": [],
   "source": [
    "# Test function\n",
    "\n",
    "zillow = handle_other_nulls(zillow)"
   ]
  },
  {
   "cell_type": "code",
   "execution_count": null,
   "metadata": {},
   "outputs": [],
   "source": [
    "# use scikit learn's IterativeImputer\n",
    "# pre-emptively drop unnecessary columns\n",
    "\n",
    "zillow = wrangle_zillow.remove_columns(zillow, \n",
    "                                       ['parcelid',\n",
    "                                        'architecturalstyletypeid',\n",
    "                                        'buildingclasstypeid',\n",
    "                                        'finishedsquarefeet13',\n",
    "                                        'finishedsquarefeet15',\n",
    "                                        'finishedsquarefeet50',\n",
    "                                        'finishedsquarefeet6',\n",
    "                                        'finishedfloor1squarefeet',\n",
    "                                        'pooltypeid10',\n",
    "                                        'pooltypeid2',\n",
    "                                        'pooltypeid7',\n",
    "                                        'fireplaceflag',\n",
    "                                        'airconditioningdesc',\n",
    "                                        'storydesc',\n",
    "                                        'heatingorsystemdesc',\n",
    "                                        'architecturalstyledesc',\n",
    "                                        'buildingclassdesc',\n",
    "                                        'typeconstructiondesc',\n",
    "                                        'yardbuildingsqft17',\n",
    "                                        'yardbuildingsqft26',\n",
    "                                        'calculatedbathnbr',\n",
    "                                        'fullbathcnt',\n",
    "                                        'threequarterbathnbr',\n",
    "                                        'typeconstructiontypeid',\n",
    "                                        'storytypeid',\n",
    "                                        'propertyzoningdesc', \n",
    "                                        'calculatedfinishedsquarefeet', \n",
    "                                        'regionidneighborhood',\n",
    "                                        'regionidcity',\n",
    "                                        'regionidcounty',\n",
    "                                        'propertylandusetypeid',\n",
    "                                        'rawcensustractandblock',\n",
    "                                        'propertylandusedesc',\n",
    "                                        'assessmentyear'])"
   ]
  },
  {
   "cell_type": "code",
   "execution_count": null,
   "metadata": {},
   "outputs": [],
   "source": [
    "zillow.isna().sum().sort_values(ascending = False)"
   ]
  },
  {
   "cell_type": "code",
   "execution_count": null,
   "metadata": {},
   "outputs": [],
   "source": [
    "# Try using imputer function here\n",
    "# imputer function requires only numerical columns\n",
    "\n",
    "num_vars = list(zillow.select_dtypes('number').columns)\n",
    "null_df = zillow[num_vars]\n",
    "\n",
    "imp = IterativeImputer(random_state=423)\n",
    "\n",
    "imp.fit(null_df)\n",
    "imputed_vals = pd.DataFrame(data=imp.transform(null_df),\n",
    "                            columns=num_vars)\n",
    "imputed_vals.head()"
   ]
  },
  {
   "cell_type": "code",
   "execution_count": null,
   "metadata": {},
   "outputs": [],
   "source": [
    "# Build imputer function\n",
    "\n",
    "def zillow_imputer(df):\n",
    "    num_vars = list(df.select_dtypes('number').columns)\n",
    "    imp = IterativeImputer(random_state=423)\n",
    "    imp.fit(df[num_vars])\n",
    "    df[num_vars] = imp.transform(df[num_vars])\n",
    "    return df"
   ]
  },
  {
   "cell_type": "code",
   "execution_count": null,
   "metadata": {},
   "outputs": [],
   "source": [
    "# Test function \n",
    "\n",
    "zillow = zillow_imputer(zillow)\n",
    "zillow.isna().sum().sort_values(ascending = False)"
   ]
  },
  {
   "cell_type": "code",
   "execution_count": null,
   "metadata": {},
   "outputs": [],
   "source": [
    "# Imputed values are floats - be sure to reset integers to int\n",
    "\n",
    "# transform float cols to int\n",
    "int_cols = ['basementsqft', 'bathroomcnt', 'bedroomcnt', \n",
    "            'finishedsquarefeet12', 'fireplacecnt',\n",
    "            'garagecarcnt', 'garagetotalsqft', 'hashottuborspa',\n",
    "            'lotsizesquarefeet', 'poolcnt', 'poolsizesum',\n",
    "            'roomcnt', 'unitcnt', 'yearbuilt', 'numberofstories',\n",
    "            'structuretaxvaluedollarcnt', 'taxvaluedollarcnt',\n",
    "            'landtaxvaluedollarcnt', 'taxamount',\n",
    "            'taxdelinquencyflag', 'taxdelinquencyyear']\n",
    "\n",
    "zillow = numeric_to_int(zillow, int_cols)\n",
    "\n",
    "# transform float cols to object\n",
    "obj_cols = ['regionidzip', 'airconditioningtypeid',\n",
    "            'buildingqualitytypeid', 'decktypeid',\n",
    "            'heatingorsystemtypeid', 'censustractandblock']\n",
    "\n",
    "zillow = numeric_to_object(zillow, obj_cols)"
   ]
  },
  {
   "cell_type": "markdown",
   "metadata": {},
   "source": [
    "Decide whether to remove the rows or columns of any that cannot be reasonably imputed."
   ]
  },
  {
   "cell_type": "code",
   "execution_count": null,
   "metadata": {},
   "outputs": [],
   "source": []
  },
  {
   "cell_type": "markdown",
   "metadata": {},
   "source": [
    "Document your reasons for the decisions on how to handle each of those."
   ]
  },
  {
   "cell_type": "code",
   "execution_count": null,
   "metadata": {},
   "outputs": [],
   "source": []
  },
  {
   "cell_type": "markdown",
   "metadata": {},
   "source": [
    "4. Outliers: Original from exercises. Adapt as you see fit.\n",
    "\n",
    "Write a function that accepts a series (i.e. one column from a data frame) and summarizes how many outliers are in the series. This function should accept a second parameter that determines how outliers are detected, with the ability to detect outliers in 3 ways: IQR, standard deviations (z-score), percentiles)"
   ]
  },
  {
   "cell_type": "code",
   "execution_count": null,
   "metadata": {},
   "outputs": [],
   "source": []
  },
  {
   "cell_type": "markdown",
   "metadata": {},
   "source": [
    "5. Use your function defined above to identify columns where you should handle the outliers."
   ]
  },
  {
   "cell_type": "code",
   "execution_count": null,
   "metadata": {},
   "outputs": [],
   "source": []
  },
  {
   "cell_type": "markdown",
   "metadata": {},
   "source": [
    "Write a function that accepts the zillow data frame and removes the outliers. You should make a decision and document how you will remove outliers."
   ]
  },
  {
   "cell_type": "code",
   "execution_count": null,
   "metadata": {},
   "outputs": [],
   "source": []
  },
  {
   "cell_type": "markdown",
   "metadata": {},
   "source": [
    "Is there erroneous data you have found that you need to remove or repair? If so, take action."
   ]
  },
  {
   "cell_type": "code",
   "execution_count": null,
   "metadata": {},
   "outputs": [],
   "source": []
  },
  {
   "cell_type": "markdown",
   "metadata": {},
   "source": [
    "Are there outliers you want to \"squeeze in\" to a max value? (e.g. all bathrooms > 6 => bathrooms = 6). If so, make those changes."
   ]
  },
  {
   "cell_type": "code",
   "execution_count": null,
   "metadata": {},
   "outputs": [],
   "source": []
  },
  {
   "cell_type": "code",
   "execution_count": null,
   "metadata": {},
   "outputs": [],
   "source": []
  },
  {
   "cell_type": "code",
   "execution_count": null,
   "metadata": {},
   "outputs": [],
   "source": []
  },
  {
   "cell_type": "code",
   "execution_count": null,
   "metadata": {},
   "outputs": [],
   "source": []
  }
 ],
 "metadata": {
  "kernelspec": {
   "display_name": "Python 3",
   "language": "python",
   "name": "python3"
  },
  "language_info": {
   "codemirror_mode": {
    "name": "ipython",
    "version": 3
   },
   "file_extension": ".py",
   "mimetype": "text/x-python",
   "name": "python",
   "nbconvert_exporter": "python",
   "pygments_lexer": "ipython3",
   "version": "3.7.4"
  }
 },
 "nbformat": 4,
 "nbformat_minor": 4
}
