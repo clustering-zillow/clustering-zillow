{
 "cells": [
  {
   "cell_type": "markdown",
   "metadata": {},
   "source": [
    "# Project\n",
    "\n",
    "### Goal: Improve our original estimate of the log error by using clustering methodologies.\n",
    "\n",
    "## Acquisition, Prep, and Initial Exploration\n",
    "\n",
    "Using the notebook and files you created during the exercises make any changes, additions, etc. you want at this point. NOTE: You will NOT be splitting into train and test at this point."
   ]
  },
  {
   "cell_type": "code",
   "execution_count": 1,
   "metadata": {},
   "outputs": [],
   "source": [
    "# ignore warnings\n",
    "import warnings\n",
    "warnings.filterwarnings(\"ignore\")\n",
    "\n",
    "# Wrangling\n",
    "import pandas as pd\n",
    "import numpy as np\n",
    "\n",
    "# Exploring\n",
    "import scipy.stats as stats\n",
    "\n",
    "# Impute missing values\n",
    "from sklearn.experimental import enable_iterative_imputer\n",
    "from sklearn.impute import IterativeImputer\n",
    "\n",
    "# Visualizing\n",
    "%matplotlib inline\n",
    "import matplotlib.pyplot as plt\n",
    "import seaborn as sns\n",
    "\n",
    "# default pandas decimal number display format\n",
    "pd.options.display.float_format = '{:20,.2f}'.format\n",
    "pd.set_option('display.max_columns', None, 'display.max_rows', None)\n",
    "\n",
    "import acquire\n",
    "import wrangle_zillow\n",
    "import wrangle_zillow_r"
   ]
  },
  {
   "cell_type": "code",
   "execution_count": 2,
   "metadata": {},
   "outputs": [],
   "source": [
    "# zillow = acquire.get_zillow(acquire.sql)\n",
    "# Save file to csv so I can quit asking the server for this data\n",
    "# zillow.to_csv('zillow.csv')"
   ]
  },
  {
   "cell_type": "code",
   "execution_count": 3,
   "metadata": {},
   "outputs": [],
   "source": [
    "zillow = pd.read_csv('zillow.csv', index_col='id')\n",
    "# drop extra column that comes in from csv files\n",
    "# zillow = zillow.drop(columns='Unnamed: 0')"
   ]
  },
  {
   "cell_type": "code",
   "execution_count": 4,
   "metadata": {},
   "outputs": [
    {
     "name": "stdout",
     "output_type": "stream",
     "text": [
      "There are 77575 rows and 67 columns in the starting dataframe.\n"
     ]
    }
   ],
   "source": [
    "orig_rows = zillow.shape[0]\n",
    "orig_cols = zillow.shape[1]\n",
    "print (f'There are {orig_rows} rows and {orig_cols} columns in the starting dataframe.')"
   ]
  },
  {
   "cell_type": "code",
   "execution_count": 5,
   "metadata": {},
   "outputs": [],
   "source": [
    "# Drop rows:\n",
    "# Restrict df to only properties that meet single use criteria\n",
    "single_use = [261, 262, 263, 264, 266, 268, 273, 276, 279]\n",
    "zillow = zillow[zillow.propertylandusetypeid.isin(single_use)]"
   ]
  },
  {
   "cell_type": "code",
   "execution_count": 6,
   "metadata": {},
   "outputs": [],
   "source": [
    "# Restrict df to only those properties with at least 1 bath & bed\n",
    "zillow = zillow[(zillow.bedroomcnt > 0) & (zillow.bathroomcnt > 0)]"
   ]
  },
  {
   "cell_type": "code",
   "execution_count": 7,
   "metadata": {},
   "outputs": [
    {
     "name": "stdout",
     "output_type": "stream",
     "text": [
      "There are now 71406 rows in the zillow dataframe.\n"
     ]
    }
   ],
   "source": [
    "print (f'There are now {zillow.shape[0]} rows in the zillow dataframe.')"
   ]
  },
  {
   "cell_type": "code",
   "execution_count": 8,
   "metadata": {},
   "outputs": [
    {
     "data": {
      "text/plain": [
       "0    68807\n",
       "1     2599\n",
       "Name: taxdelinquencyflag, dtype: int64"
      ]
     },
     "execution_count": 8,
     "metadata": {},
     "output_type": "execute_result"
    }
   ],
   "source": [
    "# Change the Y in taxdelinquencyflag to 1\n",
    "zillow.taxdelinquencyflag = np.where(zillow.taxdelinquencyflag == 'Y', 1, 0)\n",
    "zillow.taxdelinquencyflag.value_counts()"
   ]
  },
  {
   "cell_type": "code",
   "execution_count": 9,
   "metadata": {},
   "outputs": [],
   "source": [
    "# Add column for counties\n",
    "zillow['county'] = np.where(zillow.fips == 6037, 'Los_Angeles',\n",
    "                            np.where(zillow.fips == 6059, 'Orange', 'Ventura'))"
   ]
  },
  {
   "cell_type": "code",
   "execution_count": 10,
   "metadata": {},
   "outputs": [
    {
     "data": {
      "text/plain": [
       "399,675.00    12\n",
       "Name: regionidzip, dtype: int64"
      ]
     },
     "execution_count": 10,
     "metadata": {},
     "output_type": "execute_result"
    }
   ],
   "source": [
    "# Address that zip code with too many digits\n",
    "zillow[zillow.regionidzip > 100000].regionidzip.value_counts()"
   ]
  },
  {
   "cell_type": "code",
   "execution_count": 11,
   "metadata": {},
   "outputs": [
    {
     "data": {
      "text/plain": [
       "Series([], Name: regionidzip, dtype: int64)"
      ]
     },
     "execution_count": 11,
     "metadata": {},
     "output_type": "execute_result"
    }
   ],
   "source": [
    "# pretty sure its just an extra digit\n",
    "# check if 99675 is a zipcode: nope, so its probably a typo\n",
    "zillow[zillow.regionidzip == 99675].regionidzip.value_counts()"
   ]
  },
  {
   "cell_type": "code",
   "execution_count": 12,
   "metadata": {},
   "outputs": [],
   "source": [
    "zillow['regionidzip'] = zillow['regionidzip'].replace(399675, 99675)"
   ]
  },
  {
   "cell_type": "markdown",
   "metadata": {},
   "source": [
    "### Ideas:\n",
    "\n",
    "1. Data types:\n",
    "\n",
    "Write a function that takes in a dataframe and a list of column names and returns the dataframe with the datatypes of those columns changed to a non-numeric type.\n",
    "Use this function to appropriately transform any numeric columns that should not be treated as numbers."
   ]
  },
  {
   "cell_type": "code",
   "execution_count": 14,
   "metadata": {},
   "outputs": [],
   "source": [
    "def numeric_to_object(df, num_cols):\n",
    "    \"\"\"\n",
    "    Takes in a dataframe and a list of the columns to be transformed. \n",
    "    Changes the type of each column in the list to object type.\n",
    "    \"\"\"\n",
    "    for col in num_cols:\n",
    "        df[col] = df[col].astype('int')\n",
    "        df[col] = df[col].astype('object')\n",
    "    return df"
   ]
  },
  {
   "cell_type": "code",
   "execution_count": 15,
   "metadata": {},
   "outputs": [],
   "source": [
    "# added this function to be sure numeric columns that should be integers and not floats are treated as such\n",
    "def numeric_to_int(df, num_cols):\n",
    "    \"\"\"\n",
    "    Takes in a dataframe and a list of the columns to be transformed. \n",
    "    Changes the type of each column in the list to integer type.\n",
    "    \"\"\"\n",
    "    for col in num_cols:\n",
    "        df[col] = df[col].astype('int')\n",
    "    return df"
   ]
  },
  {
   "cell_type": "markdown",
   "metadata": {},
   "source": [
    "Write a function that accepts the zillow data frame and returns the data frame with the missing values filled in."
   ]
  },
  {
   "cell_type": "code",
   "execution_count": 16,
   "metadata": {},
   "outputs": [],
   "source": [
    "def fill_nulls_with_zero(df, col_names):\n",
    "    for col in col_names:\n",
    "        df[col] = df[col].fillna(0)\n",
    "    return df"
   ]
  },
  {
   "cell_type": "code",
   "execution_count": 17,
   "metadata": {},
   "outputs": [],
   "source": [
    "# Test function\n",
    "null_cols = ['airconditioningtypeid', 'basementsqft', 'decktypeid',\n",
    "             'fireplacecnt', 'garagecarcnt', 'garagetotalsqft',\n",
    "             'hashottuborspa', 'lotsizesquarefeet', 'poolcnt',\n",
    "             'poolsizesum', 'taxdelinquencyyear']\n",
    "\n",
    "zillow = fill_nulls_with_zero(zillow, null_cols)"
   ]
  },
  {
   "cell_type": "markdown",
   "metadata": {},
   "source": [
    "3. Missing Values: Of the remaining missing values, can they be imputed or otherwise estimated?\n",
    "\n",
    "Impute those that can be imputed with the method you feel best fits the attribute."
   ]
  },
  {
   "cell_type": "code",
   "execution_count": 18,
   "metadata": {},
   "outputs": [],
   "source": [
    "# Impute location columns and info\n",
    "zillow = wrangle_zillow_r.zillow_impute_knn(zillow)"
   ]
  },
  {
   "cell_type": "code",
   "execution_count": 19,
   "metadata": {},
   "outputs": [],
   "source": [
    "# Heatingorsystemtypeid - None type is 13\n",
    "# Assume number of stories is 1\n",
    "# Assume unitcnt is 1\n",
    "\n",
    "def handle_other_nulls(df):\n",
    "    df.heatingorsystemtypeid.fillna(13, inplace=True)\n",
    "    df.numberofstories.fillna(1, inplace=True)\n",
    "    df.unitcnt.fillna(1, inplace=True)\n",
    "    return df"
   ]
  },
  {
   "cell_type": "code",
   "execution_count": 20,
   "metadata": {},
   "outputs": [],
   "source": [
    "# Test function\n",
    "\n",
    "zillow = handle_other_nulls(zillow)"
   ]
  },
  {
   "cell_type": "code",
   "execution_count": 21,
   "metadata": {},
   "outputs": [],
   "source": [
    "# pre-emptively drop unnecessary columns\n",
    "zillow = wrangle_zillow.remove_columns(zillow, \n",
    "                                       ['parcelid',\n",
    "                                        'architecturalstyletypeid',\n",
    "                                        'buildingclasstypeid',\n",
    "                                        'finishedsquarefeet13',\n",
    "                                        'finishedsquarefeet15',\n",
    "                                        'finishedsquarefeet50',\n",
    "                                        'finishedsquarefeet6',\n",
    "                                        'finishedfloor1squarefeet',\n",
    "                                        'pooltypeid10',\n",
    "                                        'pooltypeid2',\n",
    "                                        'pooltypeid7',\n",
    "                                        'fireplaceflag',\n",
    "                                        'airconditioningdesc',\n",
    "                                        'storydesc',\n",
    "                                        'heatingorsystemdesc',\n",
    "                                        'architecturalstyledesc',\n",
    "                                        'buildingclassdesc',\n",
    "                                        'typeconstructiondesc',\n",
    "                                        'yardbuildingsqft17',\n",
    "                                        'yardbuildingsqft26',\n",
    "                                        'calculatedbathnbr',\n",
    "                                        'fullbathcnt',\n",
    "                                        'threequarterbathnbr',\n",
    "                                        'typeconstructiontypeid',\n",
    "                                        'storytypeid',\n",
    "                                        'propertyzoningdesc', \n",
    "                                        'calculatedfinishedsquarefeet', \n",
    "                                        'regionidneighborhood',\n",
    "                                        'regionidcity',\n",
    "                                        'regionidcounty',\n",
    "                                        'propertylandusetypeid',\n",
    "                                        'rawcensustractandblock',\n",
    "                                        'propertylandusedesc',\n",
    "                                        'assessmentyear',\n",
    "                                        'fips'])"
   ]
  },
  {
   "cell_type": "code",
   "execution_count": 22,
   "metadata": {
    "scrolled": true
   },
   "outputs": [
    {
     "data": {
      "text/plain": [
       "buildingqualitytypeid         27187\n",
       "finishedsquarefeet12            177\n",
       "structuretaxvaluedollarcnt      107\n",
       "yearbuilt                        42\n",
       "taxamount                         5\n",
       "landtaxvaluedollarcnt             1\n",
       "taxvaluedollarcnt                 1\n",
       "fireplacecnt                      0\n",
       "heatingorsystemtypeid             0\n",
       "hashottuborspa                    0\n",
       "garagetotalsqft                   0\n",
       "garagecarcnt                      0\n",
       "census_tractandblock              0\n",
       "longitude                         0\n",
       "decktypeid                        0\n",
       "bedroomcnt                        0\n",
       "bathroomcnt                       0\n",
       "basementsqft                      0\n",
       "latitude                          0\n",
       "poolsizesum                       0\n",
       "lotsizesquarefeet                 0\n",
       "poolcnt                           0\n",
       "regionid_zip                      0\n",
       "propertycountylandusecode         0\n",
       "roomcnt                           0\n",
       "unitcnt                           0\n",
       "numberofstories                   0\n",
       "taxdelinquencyflag                0\n",
       "taxdelinquencyyear                0\n",
       "logerror                          0\n",
       "transactiondate                   0\n",
       "county                            0\n",
       "haversine_distance                0\n",
       "airconditioningtypeid             0\n",
       "dtype: int64"
      ]
     },
     "execution_count": 22,
     "metadata": {},
     "output_type": "execute_result"
    }
   ],
   "source": [
    "zillow.isna().sum().sort_values(ascending = False)"
   ]
  },
  {
   "cell_type": "code",
   "execution_count": 23,
   "metadata": {},
   "outputs": [
    {
     "data": {
      "text/html": [
       "<div>\n",
       "<style scoped>\n",
       "    .dataframe tbody tr th:only-of-type {\n",
       "        vertical-align: middle;\n",
       "    }\n",
       "\n",
       "    .dataframe tbody tr th {\n",
       "        vertical-align: top;\n",
       "    }\n",
       "\n",
       "    .dataframe thead th {\n",
       "        text-align: right;\n",
       "    }\n",
       "</style>\n",
       "<table border=\"1\" class=\"dataframe\">\n",
       "  <thead>\n",
       "    <tr style=\"text-align: right;\">\n",
       "      <th></th>\n",
       "      <th>airconditioningtypeid</th>\n",
       "      <th>basementsqft</th>\n",
       "      <th>bathroomcnt</th>\n",
       "      <th>bedroomcnt</th>\n",
       "      <th>buildingqualitytypeid</th>\n",
       "      <th>decktypeid</th>\n",
       "      <th>finishedsquarefeet12</th>\n",
       "      <th>fireplacecnt</th>\n",
       "      <th>garagecarcnt</th>\n",
       "      <th>garagetotalsqft</th>\n",
       "      <th>hashottuborspa</th>\n",
       "      <th>heatingorsystemtypeid</th>\n",
       "      <th>latitude</th>\n",
       "      <th>longitude</th>\n",
       "      <th>lotsizesquarefeet</th>\n",
       "      <th>poolcnt</th>\n",
       "      <th>poolsizesum</th>\n",
       "      <th>roomcnt</th>\n",
       "      <th>unitcnt</th>\n",
       "      <th>yearbuilt</th>\n",
       "      <th>numberofstories</th>\n",
       "      <th>structuretaxvaluedollarcnt</th>\n",
       "      <th>taxvaluedollarcnt</th>\n",
       "      <th>landtaxvaluedollarcnt</th>\n",
       "      <th>taxamount</th>\n",
       "      <th>taxdelinquencyflag</th>\n",
       "      <th>taxdelinquencyyear</th>\n",
       "      <th>logerror</th>\n",
       "      <th>haversine_distance</th>\n",
       "      <th>regionid_zip</th>\n",
       "    </tr>\n",
       "  </thead>\n",
       "  <tbody>\n",
       "    <tr>\n",
       "      <th>0</th>\n",
       "      <td>0.00</td>\n",
       "      <td>0.00</td>\n",
       "      <td>2.00</td>\n",
       "      <td>3.00</td>\n",
       "      <td>8.00</td>\n",
       "      <td>0.00</td>\n",
       "      <td>2,107.00</td>\n",
       "      <td>0.00</td>\n",
       "      <td>0.00</td>\n",
       "      <td>0.00</td>\n",
       "      <td>0.00</td>\n",
       "      <td>2.00</td>\n",
       "      <td>34,222,559.00</td>\n",
       "      <td>-118,617,387.00</td>\n",
       "      <td>9,158.00</td>\n",
       "      <td>1.00</td>\n",
       "      <td>0.00</td>\n",
       "      <td>0.00</td>\n",
       "      <td>1.00</td>\n",
       "      <td>1,972.00</td>\n",
       "      <td>1.00</td>\n",
       "      <td>249,655.00</td>\n",
       "      <td>624,139.00</td>\n",
       "      <td>374,484.00</td>\n",
       "      <td>7,659.36</td>\n",
       "      <td>0.00</td>\n",
       "      <td>0.00</td>\n",
       "      <td>-0.01</td>\n",
       "      <td>87.51</td>\n",
       "      <td>96,339.00</td>\n",
       "    </tr>\n",
       "    <tr>\n",
       "      <th>1</th>\n",
       "      <td>1.00</td>\n",
       "      <td>0.00</td>\n",
       "      <td>2.00</td>\n",
       "      <td>4.00</td>\n",
       "      <td>8.00</td>\n",
       "      <td>0.00</td>\n",
       "      <td>1,882.00</td>\n",
       "      <td>0.00</td>\n",
       "      <td>0.00</td>\n",
       "      <td>0.00</td>\n",
       "      <td>0.00</td>\n",
       "      <td>2.00</td>\n",
       "      <td>34,220,261.00</td>\n",
       "      <td>-118,616,409.00</td>\n",
       "      <td>9,035.00</td>\n",
       "      <td>1.00</td>\n",
       "      <td>0.00</td>\n",
       "      <td>0.00</td>\n",
       "      <td>1.00</td>\n",
       "      <td>1,972.00</td>\n",
       "      <td>1.00</td>\n",
       "      <td>253,000.00</td>\n",
       "      <td>660,000.00</td>\n",
       "      <td>407,000.00</td>\n",
       "      <td>8,123.91</td>\n",
       "      <td>0.00</td>\n",
       "      <td>0.00</td>\n",
       "      <td>0.02</td>\n",
       "      <td>87.60</td>\n",
       "      <td>96,339.00</td>\n",
       "    </tr>\n",
       "    <tr>\n",
       "      <th>2</th>\n",
       "      <td>1.00</td>\n",
       "      <td>0.00</td>\n",
       "      <td>2.00</td>\n",
       "      <td>4.00</td>\n",
       "      <td>8.00</td>\n",
       "      <td>0.00</td>\n",
       "      <td>1,882.00</td>\n",
       "      <td>0.00</td>\n",
       "      <td>0.00</td>\n",
       "      <td>0.00</td>\n",
       "      <td>0.00</td>\n",
       "      <td>2.00</td>\n",
       "      <td>34,222,491.00</td>\n",
       "      <td>-118,616,854.00</td>\n",
       "      <td>9,800.00</td>\n",
       "      <td>0.00</td>\n",
       "      <td>0.00</td>\n",
       "      <td>0.00</td>\n",
       "      <td>1.00</td>\n",
       "      <td>1,972.00</td>\n",
       "      <td>1.00</td>\n",
       "      <td>257,591.00</td>\n",
       "      <td>542,923.00</td>\n",
       "      <td>285,332.00</td>\n",
       "      <td>6,673.24</td>\n",
       "      <td>0.00</td>\n",
       "      <td>0.00</td>\n",
       "      <td>0.08</td>\n",
       "      <td>87.47</td>\n",
       "      <td>96,339.00</td>\n",
       "    </tr>\n",
       "    <tr>\n",
       "      <th>3</th>\n",
       "      <td>0.00</td>\n",
       "      <td>0.00</td>\n",
       "      <td>2.00</td>\n",
       "      <td>3.00</td>\n",
       "      <td>8.00</td>\n",
       "      <td>0.00</td>\n",
       "      <td>1,477.00</td>\n",
       "      <td>0.00</td>\n",
       "      <td>0.00</td>\n",
       "      <td>0.00</td>\n",
       "      <td>0.00</td>\n",
       "      <td>2.00</td>\n",
       "      <td>34,221,864.00</td>\n",
       "      <td>-118,615,739.00</td>\n",
       "      <td>11,285.00</td>\n",
       "      <td>1.00</td>\n",
       "      <td>0.00</td>\n",
       "      <td>0.00</td>\n",
       "      <td>1.00</td>\n",
       "      <td>1,960.00</td>\n",
       "      <td>1.00</td>\n",
       "      <td>57,968.00</td>\n",
       "      <td>78,031.00</td>\n",
       "      <td>20,063.00</td>\n",
       "      <td>1,116.46</td>\n",
       "      <td>0.00</td>\n",
       "      <td>0.00</td>\n",
       "      <td>-0.04</td>\n",
       "      <td>87.44</td>\n",
       "      <td>96,339.00</td>\n",
       "    </tr>\n",
       "    <tr>\n",
       "      <th>4</th>\n",
       "      <td>0.00</td>\n",
       "      <td>0.00</td>\n",
       "      <td>2.00</td>\n",
       "      <td>4.00</td>\n",
       "      <td>8.00</td>\n",
       "      <td>0.00</td>\n",
       "      <td>1,918.00</td>\n",
       "      <td>0.00</td>\n",
       "      <td>0.00</td>\n",
       "      <td>0.00</td>\n",
       "      <td>0.00</td>\n",
       "      <td>2.00</td>\n",
       "      <td>34,220,619.00</td>\n",
       "      <td>-118,615,253.00</td>\n",
       "      <td>11,239.00</td>\n",
       "      <td>1.00</td>\n",
       "      <td>0.00</td>\n",
       "      <td>0.00</td>\n",
       "      <td>1.00</td>\n",
       "      <td>1,960.00</td>\n",
       "      <td>1.00</td>\n",
       "      <td>167,869.00</td>\n",
       "      <td>415,459.00</td>\n",
       "      <td>247,590.00</td>\n",
       "      <td>5,239.85</td>\n",
       "      <td>0.00</td>\n",
       "      <td>0.00</td>\n",
       "      <td>-0.01</td>\n",
       "      <td>87.49</td>\n",
       "      <td>96,339.00</td>\n",
       "    </tr>\n",
       "  </tbody>\n",
       "</table>\n",
       "</div>"
      ],
      "text/plain": [
       "   airconditioningtypeid         basementsqft          bathroomcnt  \\\n",
       "0                   0.00                 0.00                 2.00   \n",
       "1                   1.00                 0.00                 2.00   \n",
       "2                   1.00                 0.00                 2.00   \n",
       "3                   0.00                 0.00                 2.00   \n",
       "4                   0.00                 0.00                 2.00   \n",
       "\n",
       "            bedroomcnt  buildingqualitytypeid           decktypeid  \\\n",
       "0                 3.00                   8.00                 0.00   \n",
       "1                 4.00                   8.00                 0.00   \n",
       "2                 4.00                   8.00                 0.00   \n",
       "3                 3.00                   8.00                 0.00   \n",
       "4                 4.00                   8.00                 0.00   \n",
       "\n",
       "   finishedsquarefeet12         fireplacecnt         garagecarcnt  \\\n",
       "0              2,107.00                 0.00                 0.00   \n",
       "1              1,882.00                 0.00                 0.00   \n",
       "2              1,882.00                 0.00                 0.00   \n",
       "3              1,477.00                 0.00                 0.00   \n",
       "4              1,918.00                 0.00                 0.00   \n",
       "\n",
       "       garagetotalsqft       hashottuborspa  heatingorsystemtypeid  \\\n",
       "0                 0.00                 0.00                   2.00   \n",
       "1                 0.00                 0.00                   2.00   \n",
       "2                 0.00                 0.00                   2.00   \n",
       "3                 0.00                 0.00                   2.00   \n",
       "4                 0.00                 0.00                   2.00   \n",
       "\n",
       "              latitude            longitude    lotsizesquarefeet  \\\n",
       "0        34,222,559.00      -118,617,387.00             9,158.00   \n",
       "1        34,220,261.00      -118,616,409.00             9,035.00   \n",
       "2        34,222,491.00      -118,616,854.00             9,800.00   \n",
       "3        34,221,864.00      -118,615,739.00            11,285.00   \n",
       "4        34,220,619.00      -118,615,253.00            11,239.00   \n",
       "\n",
       "               poolcnt          poolsizesum              roomcnt  \\\n",
       "0                 1.00                 0.00                 0.00   \n",
       "1                 1.00                 0.00                 0.00   \n",
       "2                 0.00                 0.00                 0.00   \n",
       "3                 1.00                 0.00                 0.00   \n",
       "4                 1.00                 0.00                 0.00   \n",
       "\n",
       "               unitcnt            yearbuilt      numberofstories  \\\n",
       "0                 1.00             1,972.00                 1.00   \n",
       "1                 1.00             1,972.00                 1.00   \n",
       "2                 1.00             1,972.00                 1.00   \n",
       "3                 1.00             1,960.00                 1.00   \n",
       "4                 1.00             1,960.00                 1.00   \n",
       "\n",
       "   structuretaxvaluedollarcnt    taxvaluedollarcnt  landtaxvaluedollarcnt  \\\n",
       "0                  249,655.00           624,139.00             374,484.00   \n",
       "1                  253,000.00           660,000.00             407,000.00   \n",
       "2                  257,591.00           542,923.00             285,332.00   \n",
       "3                   57,968.00            78,031.00              20,063.00   \n",
       "4                  167,869.00           415,459.00             247,590.00   \n",
       "\n",
       "             taxamount   taxdelinquencyflag   taxdelinquencyyear  \\\n",
       "0             7,659.36                 0.00                 0.00   \n",
       "1             8,123.91                 0.00                 0.00   \n",
       "2             6,673.24                 0.00                 0.00   \n",
       "3             1,116.46                 0.00                 0.00   \n",
       "4             5,239.85                 0.00                 0.00   \n",
       "\n",
       "              logerror   haversine_distance         regionid_zip  \n",
       "0                -0.01                87.51            96,339.00  \n",
       "1                 0.02                87.60            96,339.00  \n",
       "2                 0.08                87.47            96,339.00  \n",
       "3                -0.04                87.44            96,339.00  \n",
       "4                -0.01                87.49            96,339.00  "
      ]
     },
     "execution_count": 23,
     "metadata": {},
     "output_type": "execute_result"
    }
   ],
   "source": [
    "# Try using imputer function here\n",
    "# imputer function requires only numerical columns\n",
    "\n",
    "num_vars = list(zillow.select_dtypes('number').columns)\n",
    "null_df = zillow[num_vars]\n",
    "\n",
    "imp = IterativeImputer(random_state=423)\n",
    "\n",
    "imp.fit(null_df)\n",
    "imputed_vals = pd.DataFrame(data=imp.transform(null_df),\n",
    "                            columns=num_vars)\n",
    "imputed_vals.head()"
   ]
  },
  {
   "cell_type": "code",
   "execution_count": 24,
   "metadata": {},
   "outputs": [],
   "source": [
    "# Build imputer function\n",
    "\n",
    "def zillow_imputer(df):\n",
    "    num_vars = list(df.select_dtypes('number').columns)\n",
    "    imp = IterativeImputer(random_state=423)\n",
    "    imp.fit(df[num_vars])\n",
    "    df[num_vars] = imp.transform(df[num_vars])\n",
    "    return df"
   ]
  },
  {
   "cell_type": "code",
   "execution_count": 25,
   "metadata": {
    "scrolled": true
   },
   "outputs": [
    {
     "data": {
      "text/plain": [
       "census_tractandblock          0\n",
       "garagecarcnt                  0\n",
       "lotsizesquarefeet             0\n",
       "longitude                     0\n",
       "latitude                      0\n",
       "heatingorsystemtypeid         0\n",
       "hashottuborspa                0\n",
       "garagetotalsqft               0\n",
       "fireplacecnt                  0\n",
       "regionid_zip                  0\n",
       "finishedsquarefeet12          0\n",
       "decktypeid                    0\n",
       "buildingqualitytypeid         0\n",
       "bedroomcnt                    0\n",
       "bathroomcnt                   0\n",
       "basementsqft                  0\n",
       "poolcnt                       0\n",
       "poolsizesum                   0\n",
       "propertycountylandusecode     0\n",
       "roomcnt                       0\n",
       "unitcnt                       0\n",
       "yearbuilt                     0\n",
       "numberofstories               0\n",
       "structuretaxvaluedollarcnt    0\n",
       "taxvaluedollarcnt             0\n",
       "landtaxvaluedollarcnt         0\n",
       "taxamount                     0\n",
       "taxdelinquencyflag            0\n",
       "taxdelinquencyyear            0\n",
       "logerror                      0\n",
       "transactiondate               0\n",
       "county                        0\n",
       "haversine_distance            0\n",
       "airconditioningtypeid         0\n",
       "dtype: int64"
      ]
     },
     "execution_count": 25,
     "metadata": {},
     "output_type": "execute_result"
    }
   ],
   "source": [
    "# Test function \n",
    "\n",
    "zillow = zillow_imputer(zillow)\n",
    "zillow.isna().sum().sort_values(ascending = False)"
   ]
  },
  {
   "cell_type": "code",
   "execution_count": 26,
   "metadata": {},
   "outputs": [],
   "source": [
    "# Imputed values are floats - be sure to reset integers to int\n",
    "\n",
    "# transform float cols to int\n",
    "int_cols = ['basementsqft', 'bathroomcnt', 'bedroomcnt', \n",
    "            'finishedsquarefeet12', 'fireplacecnt',\n",
    "            'garagecarcnt', 'garagetotalsqft', 'hashottuborspa',\n",
    "            'lotsizesquarefeet', 'poolcnt', 'poolsizesum',\n",
    "            'roomcnt', 'unitcnt', 'yearbuilt', 'numberofstories',\n",
    "            'structuretaxvaluedollarcnt', 'taxvaluedollarcnt',\n",
    "            'landtaxvaluedollarcnt', 'taxamount',\n",
    "            'taxdelinquencyflag', 'taxdelinquencyyear']\n",
    "\n",
    "zillow = numeric_to_int(zillow, int_cols)\n",
    "\n",
    "# transform float cols to object\n",
    "obj_cols = ['airconditioningtypeid', 'buildingqualitytypeid',\n",
    "            'decktypeid', 'heatingorsystemtypeid']\n",
    "\n",
    "zillow = numeric_to_object(zillow, obj_cols)"
   ]
  },
  {
   "cell_type": "code",
   "execution_count": 27,
   "metadata": {},
   "outputs": [
    {
     "name": "stdout",
     "output_type": "stream",
     "text": [
      "<class 'pandas.core.frame.DataFrame'>\n",
      "Int64Index: 73752 entries, 0 to 73751\n",
      "Data columns (total 34 columns):\n",
      "airconditioningtypeid         73752 non-null object\n",
      "basementsqft                  73752 non-null int64\n",
      "bathroomcnt                   73752 non-null int64\n",
      "bedroomcnt                    73752 non-null int64\n",
      "buildingqualitytypeid         73752 non-null object\n",
      "decktypeid                    73752 non-null object\n",
      "finishedsquarefeet12          73752 non-null int64\n",
      "fireplacecnt                  73752 non-null int64\n",
      "garagecarcnt                  73752 non-null int64\n",
      "garagetotalsqft               73752 non-null int64\n",
      "hashottuborspa                73752 non-null int64\n",
      "heatingorsystemtypeid         73752 non-null object\n",
      "latitude                      73752 non-null float64\n",
      "longitude                     73752 non-null float64\n",
      "lotsizesquarefeet             73752 non-null int64\n",
      "poolcnt                       73752 non-null int64\n",
      "poolsizesum                   73752 non-null int64\n",
      "propertycountylandusecode     73752 non-null object\n",
      "roomcnt                       73752 non-null int64\n",
      "unitcnt                       73752 non-null int64\n",
      "yearbuilt                     73752 non-null int64\n",
      "numberofstories               73752 non-null int64\n",
      "structuretaxvaluedollarcnt    73752 non-null int64\n",
      "taxvaluedollarcnt             73752 non-null int64\n",
      "landtaxvaluedollarcnt         73752 non-null int64\n",
      "taxamount                     73752 non-null int64\n",
      "taxdelinquencyflag            73752 non-null int64\n",
      "taxdelinquencyyear            73752 non-null int64\n",
      "logerror                      73752 non-null float64\n",
      "transactiondate               73752 non-null object\n",
      "county                        73752 non-null object\n",
      "haversine_distance            73752 non-null float64\n",
      "regionid_zip                  73752 non-null float64\n",
      "census_tractandblock          73752 non-null object\n",
      "dtypes: float64(5), int64(21), object(8)\n",
      "memory usage: 19.7+ MB\n"
     ]
    }
   ],
   "source": [
    "zillow.info()"
   ]
  },
  {
   "cell_type": "markdown",
   "metadata": {},
   "source": [
    "Decide whether to remove the rows or columns of any that cannot be reasonably imputed."
   ]
  },
  {
   "cell_type": "code",
   "execution_count": 28,
   "metadata": {},
   "outputs": [],
   "source": [
    "# We handled the null values well enough with imputation, no reason to drop anything"
   ]
  },
  {
   "cell_type": "markdown",
   "metadata": {},
   "source": [
    "4. Outliers: Original from exercises. Adapt as you see fit.\n",
    "\n",
    "Write a function that accepts a series (i.e. one column from a data frame) and summarizes how many outliers are in the series. This function should accept a second parameter that determines how outliers are detected, with the ability to detect outliers in 3 ways: IQR, standard deviations (z-score), percentiles)"
   ]
  },
  {
   "cell_type": "code",
   "execution_count": 29,
   "metadata": {},
   "outputs": [],
   "source": [
    "# IQR outlier detection\n",
    "def iqr_upper_outliers(s, k):\n",
    "    '''\n",
    "    Given a series and a cutoff value, k, returns the upper outliers for the series.\n",
    "\n",
    "    The values returned will be either 0 (if the point is not an outlier), or a\n",
    "    number that indicates how far away from the upper bound the observation is.\n",
    "    '''\n",
    "    q1, q3 = s.quantile([.25, .75])\n",
    "    iqr = q3 - q1\n",
    "    upper_bound = q3 + k * iqr\n",
    "    return s.apply(lambda x: max([x - upper_bound, 0]))\n",
    "\n",
    "def add_iqr_outliers(df, out_vars, k):\n",
    "    '''\n",
    "    Add a column with the suffix _outliers for all the numeric columns\n",
    "    in the given dataframe.\n",
    "    '''\n",
    "    for col in df[out_vars]:\n",
    "        df[col + '_iqr'] = iqr_upper_outliers(df[col], k)\n",
    "    return df"
   ]
  },
  {
   "cell_type": "code",
   "execution_count": 30,
   "metadata": {},
   "outputs": [],
   "source": [
    "# zscore outlier detection\n",
    "def zscore_outliers(s, k):\n",
    "    '''\n",
    "    Given a series and a cutoff value, k, returns the upper outliers for the series.\n",
    "\n",
    "    The values returned will be either 0 (if the point is not an outlier), or a\n",
    "    number that indicates how far away from the upper bound the observation is.\n",
    "    '''\n",
    "    outliers = []\n",
    "    threshold = k\n",
    "    mean = s.mean()\n",
    "    std = (s.std() + 0.0001) \n",
    "    # just in case the std is 0, add a small amount to avoid the divide by zero error\n",
    "    \n",
    "    for x in s:\n",
    "        z_score= (x - mean)/std \n",
    "        if np.abs(z_score) > threshold:\n",
    "            outliers.append(z_score)\n",
    "        else:\n",
    "            outliers.append(0)\n",
    "    return outliers\n",
    "\n",
    "def add_zscore_outliers(df, out_vars, k):\n",
    "    '''\n",
    "    Add a column with the suffix _outliers for all the numeric columns\n",
    "    in the given dataframe.\n",
    "    '''\n",
    "    for col in df[out_vars]:\n",
    "        df[col + '_zscore'] = zscore_outliers(df[col], k)\n",
    "    return df"
   ]
  },
  {
   "cell_type": "code",
   "execution_count": 31,
   "metadata": {},
   "outputs": [],
   "source": [
    "# percentile outliers\n",
    "def percentile_outliers(s, k):\n",
    "    '''\n",
    "    Given a series and a percent value, k, returns the upper outliers for the series.\n",
    "\n",
    "    The values returned will be either 0 (if the point is not an outlier), or a\n",
    "    number that indicates how far away from the upper bound the observation is.\n",
    "    '''\n",
    "    upper = 100 - k\n",
    "    lower_bound, upper_bound = np.percentile(s, [k, upper])\n",
    "    return s.apply(lambda x: max([x - upper_bound, 0]))\n",
    "\n",
    "def add_pct_outliers(df, out_vars, k):\n",
    "    '''\n",
    "    Add a column with the suffix _outliers for all the numeric columns\n",
    "    in the given dataframe.\n",
    "    '''\n",
    "    for col in df[out_vars]:\n",
    "        df[col + '_pct'] = percentile_outliers(df[col], k)\n",
    "    return df"
   ]
  },
  {
   "cell_type": "code",
   "execution_count": 32,
   "metadata": {},
   "outputs": [],
   "source": [
    "# this function is too intense, can't actually run it\n",
    "def outliers_df(df, out_vars, style):\n",
    "    if style == 'iqr':\n",
    "        add_iqr_outliers(df, out_vars, 1.5)\n",
    "    elif style == 'zscore':\n",
    "        add_zscore_outliers(df, out_vars, 3)\n",
    "    elif style == 'percentile':\n",
    "        add_pct_outliers(df, out_vars, 10)\n",
    "    else:\n",
    "        return print ('valid style options are: iqr, zscore, or percentile')\n",
    "    return df"
   ]
  },
  {
   "cell_type": "markdown",
   "metadata": {},
   "source": [
    "Use your function defined above to identify columns where you should handle the outliers."
   ]
  },
  {
   "cell_type": "code",
   "execution_count": 33,
   "metadata": {},
   "outputs": [],
   "source": [
    "# too intense\n",
    "# outliers_df(zillow, outliers, style='iqr')"
   ]
  },
  {
   "cell_type": "markdown",
   "metadata": {},
   "source": [
    "Write a function that accepts the zillow data frame and removes the outliers. You should make a decision and document how you will remove outliers."
   ]
  },
  {
   "cell_type": "code",
   "execution_count": 34,
   "metadata": {},
   "outputs": [],
   "source": [
    "# Columns to look for outliers\n",
    "outliers = ['basementsqft', 'bathroomcnt', 'bedroomcnt',\n",
    "            'finishedsquarefeet12', 'garagetotalsqft',\n",
    "            'lotsizesquarefeet', 'poolsizesum',\n",
    "            'roomcnt', 'structuretaxvaluedollarcnt',\n",
    "            'taxvaluedollarcnt', 'landtaxvaluedollarcnt',\n",
    "            'taxamount']"
   ]
  },
  {
   "cell_type": "code",
   "execution_count": 35,
   "metadata": {},
   "outputs": [],
   "source": [
    "def outlier_function(df, cols):\n",
    "    for col in df[cols]:\n",
    "        mean = df[col].mean()\n",
    "        std = (df[col].std() + 0.0001) \n",
    "        # just in case the std is 0, add a small amount to avoid the divide by zero error\n",
    "        df = df[df[col] < (mean + (3*std))]\n",
    "    return df"
   ]
  },
  {
   "cell_type": "code",
   "execution_count": 37,
   "metadata": {},
   "outputs": [],
   "source": [
    "# test function\n",
    "outliers_df = outlier_function(zillow, outliers)"
   ]
  },
  {
   "cell_type": "code",
   "execution_count": 40,
   "metadata": {},
   "outputs": [
    {
     "data": {
      "text/html": [
       "<div>\n",
       "<style scoped>\n",
       "    .dataframe tbody tr th:only-of-type {\n",
       "        vertical-align: middle;\n",
       "    }\n",
       "\n",
       "    .dataframe tbody tr th {\n",
       "        vertical-align: top;\n",
       "    }\n",
       "\n",
       "    .dataframe thead th {\n",
       "        text-align: right;\n",
       "    }\n",
       "</style>\n",
       "<table border=\"1\" class=\"dataframe\">\n",
       "  <thead>\n",
       "    <tr style=\"text-align: right;\">\n",
       "      <th></th>\n",
       "      <th>airconditioningtypeid</th>\n",
       "      <th>basementsqft</th>\n",
       "      <th>bathroomcnt</th>\n",
       "      <th>bedroomcnt</th>\n",
       "      <th>buildingqualitytypeid</th>\n",
       "      <th>decktypeid</th>\n",
       "      <th>finishedsquarefeet12</th>\n",
       "      <th>fireplacecnt</th>\n",
       "      <th>garagecarcnt</th>\n",
       "      <th>garagetotalsqft</th>\n",
       "      <th>hashottuborspa</th>\n",
       "      <th>heatingorsystemtypeid</th>\n",
       "      <th>latitude</th>\n",
       "      <th>longitude</th>\n",
       "      <th>lotsizesquarefeet</th>\n",
       "      <th>poolcnt</th>\n",
       "      <th>poolsizesum</th>\n",
       "      <th>propertycountylandusecode</th>\n",
       "      <th>roomcnt</th>\n",
       "      <th>unitcnt</th>\n",
       "      <th>yearbuilt</th>\n",
       "      <th>numberofstories</th>\n",
       "      <th>structuretaxvaluedollarcnt</th>\n",
       "      <th>taxvaluedollarcnt</th>\n",
       "      <th>landtaxvaluedollarcnt</th>\n",
       "      <th>taxamount</th>\n",
       "      <th>taxdelinquencyflag</th>\n",
       "      <th>taxdelinquencyyear</th>\n",
       "      <th>logerror</th>\n",
       "      <th>transactiondate</th>\n",
       "      <th>county</th>\n",
       "      <th>haversine_distance</th>\n",
       "      <th>regionid_zip</th>\n",
       "      <th>census_tractandblock</th>\n",
       "    </tr>\n",
       "  </thead>\n",
       "  <tbody>\n",
       "    <tr>\n",
       "      <th>0</th>\n",
       "      <td>0</td>\n",
       "      <td>0</td>\n",
       "      <td>2</td>\n",
       "      <td>3</td>\n",
       "      <td>8</td>\n",
       "      <td>0</td>\n",
       "      <td>2107</td>\n",
       "      <td>0</td>\n",
       "      <td>0</td>\n",
       "      <td>0</td>\n",
       "      <td>0</td>\n",
       "      <td>2</td>\n",
       "      <td>34,222,559.00</td>\n",
       "      <td>-118,617,387.00</td>\n",
       "      <td>9158</td>\n",
       "      <td>1</td>\n",
       "      <td>0</td>\n",
       "      <td>0101</td>\n",
       "      <td>0</td>\n",
       "      <td>1</td>\n",
       "      <td>1972</td>\n",
       "      <td>1</td>\n",
       "      <td>249655</td>\n",
       "      <td>624139</td>\n",
       "      <td>374484</td>\n",
       "      <td>7659</td>\n",
       "      <td>0</td>\n",
       "      <td>0</td>\n",
       "      <td>-0.01</td>\n",
       "      <td>2017-07-07</td>\n",
       "      <td>Los_Angeles</td>\n",
       "      <td>87.51</td>\n",
       "      <td>96,339.00</td>\n",
       "      <td>60,371,132,321,007.00</td>\n",
       "    </tr>\n",
       "    <tr>\n",
       "      <th>1</th>\n",
       "      <td>1</td>\n",
       "      <td>0</td>\n",
       "      <td>2</td>\n",
       "      <td>4</td>\n",
       "      <td>8</td>\n",
       "      <td>0</td>\n",
       "      <td>1882</td>\n",
       "      <td>0</td>\n",
       "      <td>0</td>\n",
       "      <td>0</td>\n",
       "      <td>0</td>\n",
       "      <td>2</td>\n",
       "      <td>34,220,261.00</td>\n",
       "      <td>-118,616,409.00</td>\n",
       "      <td>9035</td>\n",
       "      <td>1</td>\n",
       "      <td>0</td>\n",
       "      <td>0101</td>\n",
       "      <td>0</td>\n",
       "      <td>1</td>\n",
       "      <td>1972</td>\n",
       "      <td>1</td>\n",
       "      <td>253000</td>\n",
       "      <td>660000</td>\n",
       "      <td>407000</td>\n",
       "      <td>8123</td>\n",
       "      <td>0</td>\n",
       "      <td>0</td>\n",
       "      <td>0.02</td>\n",
       "      <td>2017-08-29</td>\n",
       "      <td>Los_Angeles</td>\n",
       "      <td>87.60</td>\n",
       "      <td>96,339.00</td>\n",
       "      <td>60,371,132,321,007.00</td>\n",
       "    </tr>\n",
       "    <tr>\n",
       "      <th>2</th>\n",
       "      <td>1</td>\n",
       "      <td>0</td>\n",
       "      <td>2</td>\n",
       "      <td>4</td>\n",
       "      <td>8</td>\n",
       "      <td>0</td>\n",
       "      <td>1882</td>\n",
       "      <td>0</td>\n",
       "      <td>0</td>\n",
       "      <td>0</td>\n",
       "      <td>0</td>\n",
       "      <td>2</td>\n",
       "      <td>34,222,491.00</td>\n",
       "      <td>-118,616,854.00</td>\n",
       "      <td>9800</td>\n",
       "      <td>0</td>\n",
       "      <td>0</td>\n",
       "      <td>0100</td>\n",
       "      <td>0</td>\n",
       "      <td>1</td>\n",
       "      <td>1972</td>\n",
       "      <td>1</td>\n",
       "      <td>257591</td>\n",
       "      <td>542923</td>\n",
       "      <td>285332</td>\n",
       "      <td>6673</td>\n",
       "      <td>0</td>\n",
       "      <td>0</td>\n",
       "      <td>0.08</td>\n",
       "      <td>2017-04-04</td>\n",
       "      <td>Los_Angeles</td>\n",
       "      <td>87.47</td>\n",
       "      <td>96,339.00</td>\n",
       "      <td>60,371,132,321,007.00</td>\n",
       "    </tr>\n",
       "    <tr>\n",
       "      <th>3</th>\n",
       "      <td>0</td>\n",
       "      <td>0</td>\n",
       "      <td>2</td>\n",
       "      <td>3</td>\n",
       "      <td>8</td>\n",
       "      <td>0</td>\n",
       "      <td>1477</td>\n",
       "      <td>0</td>\n",
       "      <td>0</td>\n",
       "      <td>0</td>\n",
       "      <td>0</td>\n",
       "      <td>2</td>\n",
       "      <td>34,221,864.00</td>\n",
       "      <td>-118,615,739.00</td>\n",
       "      <td>11285</td>\n",
       "      <td>1</td>\n",
       "      <td>0</td>\n",
       "      <td>0101</td>\n",
       "      <td>0</td>\n",
       "      <td>1</td>\n",
       "      <td>1960</td>\n",
       "      <td>1</td>\n",
       "      <td>57968</td>\n",
       "      <td>78031</td>\n",
       "      <td>20063</td>\n",
       "      <td>1116</td>\n",
       "      <td>0</td>\n",
       "      <td>0</td>\n",
       "      <td>-0.04</td>\n",
       "      <td>2017-03-17</td>\n",
       "      <td>Los_Angeles</td>\n",
       "      <td>87.44</td>\n",
       "      <td>96,339.00</td>\n",
       "      <td>60,371,132,321,008.00</td>\n",
       "    </tr>\n",
       "    <tr>\n",
       "      <th>4</th>\n",
       "      <td>0</td>\n",
       "      <td>0</td>\n",
       "      <td>2</td>\n",
       "      <td>4</td>\n",
       "      <td>8</td>\n",
       "      <td>0</td>\n",
       "      <td>1918</td>\n",
       "      <td>0</td>\n",
       "      <td>0</td>\n",
       "      <td>0</td>\n",
       "      <td>0</td>\n",
       "      <td>2</td>\n",
       "      <td>34,220,619.00</td>\n",
       "      <td>-118,615,253.00</td>\n",
       "      <td>11239</td>\n",
       "      <td>1</td>\n",
       "      <td>0</td>\n",
       "      <td>0101</td>\n",
       "      <td>0</td>\n",
       "      <td>1</td>\n",
       "      <td>1960</td>\n",
       "      <td>1</td>\n",
       "      <td>167869</td>\n",
       "      <td>415459</td>\n",
       "      <td>247590</td>\n",
       "      <td>5239</td>\n",
       "      <td>0</td>\n",
       "      <td>0</td>\n",
       "      <td>-0.01</td>\n",
       "      <td>2017-03-24</td>\n",
       "      <td>Los_Angeles</td>\n",
       "      <td>87.49</td>\n",
       "      <td>96,339.00</td>\n",
       "      <td>60,371,132,321,008.00</td>\n",
       "    </tr>\n",
       "  </tbody>\n",
       "</table>\n",
       "</div>"
      ],
      "text/plain": [
       "  airconditioningtypeid  basementsqft  bathroomcnt  bedroomcnt  \\\n",
       "0                     0             0            2           3   \n",
       "1                     1             0            2           4   \n",
       "2                     1             0            2           4   \n",
       "3                     0             0            2           3   \n",
       "4                     0             0            2           4   \n",
       "\n",
       "  buildingqualitytypeid decktypeid  finishedsquarefeet12  fireplacecnt  \\\n",
       "0                     8          0                  2107             0   \n",
       "1                     8          0                  1882             0   \n",
       "2                     8          0                  1882             0   \n",
       "3                     8          0                  1477             0   \n",
       "4                     8          0                  1918             0   \n",
       "\n",
       "   garagecarcnt  garagetotalsqft  hashottuborspa heatingorsystemtypeid  \\\n",
       "0             0                0               0                     2   \n",
       "1             0                0               0                     2   \n",
       "2             0                0               0                     2   \n",
       "3             0                0               0                     2   \n",
       "4             0                0               0                     2   \n",
       "\n",
       "              latitude            longitude  lotsizesquarefeet  poolcnt  \\\n",
       "0        34,222,559.00      -118,617,387.00               9158        1   \n",
       "1        34,220,261.00      -118,616,409.00               9035        1   \n",
       "2        34,222,491.00      -118,616,854.00               9800        0   \n",
       "3        34,221,864.00      -118,615,739.00              11285        1   \n",
       "4        34,220,619.00      -118,615,253.00              11239        1   \n",
       "\n",
       "   poolsizesum propertycountylandusecode  roomcnt  unitcnt  yearbuilt  \\\n",
       "0            0                      0101        0        1       1972   \n",
       "1            0                      0101        0        1       1972   \n",
       "2            0                      0100        0        1       1972   \n",
       "3            0                      0101        0        1       1960   \n",
       "4            0                      0101        0        1       1960   \n",
       "\n",
       "   numberofstories  structuretaxvaluedollarcnt  taxvaluedollarcnt  \\\n",
       "0                1                      249655             624139   \n",
       "1                1                      253000             660000   \n",
       "2                1                      257591             542923   \n",
       "3                1                       57968              78031   \n",
       "4                1                      167869             415459   \n",
       "\n",
       "   landtaxvaluedollarcnt  taxamount  taxdelinquencyflag  taxdelinquencyyear  \\\n",
       "0                 374484       7659                   0                   0   \n",
       "1                 407000       8123                   0                   0   \n",
       "2                 285332       6673                   0                   0   \n",
       "3                  20063       1116                   0                   0   \n",
       "4                 247590       5239                   0                   0   \n",
       "\n",
       "              logerror transactiondate       county   haversine_distance  \\\n",
       "0                -0.01      2017-07-07  Los_Angeles                87.51   \n",
       "1                 0.02      2017-08-29  Los_Angeles                87.60   \n",
       "2                 0.08      2017-04-04  Los_Angeles                87.47   \n",
       "3                -0.04      2017-03-17  Los_Angeles                87.44   \n",
       "4                -0.01      2017-03-24  Los_Angeles                87.49   \n",
       "\n",
       "          regionid_zip  census_tractandblock  \n",
       "0            96,339.00 60,371,132,321,007.00  \n",
       "1            96,339.00 60,371,132,321,007.00  \n",
       "2            96,339.00 60,371,132,321,007.00  \n",
       "3            96,339.00 60,371,132,321,008.00  \n",
       "4            96,339.00 60,371,132,321,008.00  "
      ]
     },
     "execution_count": 40,
     "metadata": {},
     "output_type": "execute_result"
    }
   ],
   "source": [
    "outliers_df.head()"
   ]
  },
  {
   "cell_type": "code",
   "execution_count": 41,
   "metadata": {},
   "outputs": [
    {
     "data": {
      "text/plain": [
       "((64841, 34), (73752, 34))"
      ]
     },
     "execution_count": 41,
     "metadata": {},
     "output_type": "execute_result"
    }
   ],
   "source": [
    "outliers_df.shape, zillow.shape"
   ]
  },
  {
   "cell_type": "markdown",
   "metadata": {},
   "source": [
    "Is there erroneous data you have found that you need to remove or repair? If so, take action."
   ]
  },
  {
   "cell_type": "code",
   "execution_count": null,
   "metadata": {},
   "outputs": [],
   "source": []
  },
  {
   "cell_type": "markdown",
   "metadata": {},
   "source": [
    "Are there outliers you want to \"squeeze in\" to a max value? (e.g. all bathrooms > 6 => bathrooms = 6). If so, make those changes."
   ]
  },
  {
   "cell_type": "code",
   "execution_count": null,
   "metadata": {},
   "outputs": [],
   "source": []
  },
  {
   "cell_type": "markdown",
   "metadata": {},
   "source": [
    "## Exploration with Clustering\n",
    "\n",
    "### Cluster the Target Variable\n",
    "\n",
    "Perform clustering with logerror as the only feature used in the clustering algorithm. Decide on a number of clusters to use, and store the cluster predictions back onto your data frame as cluster_target. Look at the centroids that were produced in this process. What do they tell you?"
   ]
  },
  {
   "cell_type": "code",
   "execution_count": null,
   "metadata": {},
   "outputs": [],
   "source": []
  },
  {
   "cell_type": "markdown",
   "metadata": {},
   "source": [
    "Use the produced clusters to help you explore through visualization how logerror relates to other variables. (A common way to do this is to use color to indicate the cluster id, and the other variables can be your x-axis and y-axis. (hint: look at your swarmplot function))."
   ]
  },
  {
   "cell_type": "code",
   "execution_count": null,
   "metadata": {},
   "outputs": [],
   "source": []
  },
  {
   "cell_type": "markdown",
   "metadata": {},
   "source": [
    "### Cluster Independent Variables\n",
    "\n",
    "You should also perform some clustering based on a number of independent variables. Create and evaluate several clustering models based on subsets of the independent variables. Here are some ideas:\n",
    "\n",
    "- Location, that is, latitude and longitude\n",
    "- Size (finished square feet)\n",
    "- Location and size\n",
    "\n",
    "Be sure to use these new clusters in exploring your data, and interpret what these clusters tell you."
   ]
  },
  {
   "cell_type": "code",
   "execution_count": null,
   "metadata": {},
   "outputs": [],
   "source": []
  },
  {
   "cell_type": "markdown",
   "metadata": {},
   "source": [
    "### Test the Significance of Clusters\n",
    "Use statistical testing methods to determine whether the clusters you have created are significant in terms of their relationship to logerror."
   ]
  },
  {
   "cell_type": "code",
   "execution_count": null,
   "metadata": {},
   "outputs": [],
   "source": []
  },
  {
   "cell_type": "markdown",
   "metadata": {},
   "source": [
    "## Modeling\n",
    "\n",
    "### Feature Engineering\n",
    "\n",
    "Remove variables that are not needed, wanted, useful, or are redundant."
   ]
  },
  {
   "cell_type": "code",
   "execution_count": null,
   "metadata": {},
   "outputs": [],
   "source": []
  },
  {
   "cell_type": "markdown",
   "metadata": {},
   "source": [
    "Add any features you think may be useful."
   ]
  },
  {
   "cell_type": "code",
   "execution_count": null,
   "metadata": {},
   "outputs": [],
   "source": [
    "# Age = yearbuilt - 2017\n",
    "# Tax Rate = \n",
    "# Avg tax rate by censustractandblockid\n",
    "# $/sqft\n",
    "# $/sqft structure only\n",
    "# $/sqft lot only\n",
    "# Avg $/sqft by censustractandblockid\n"
   ]
  },
  {
   "cell_type": "markdown",
   "metadata": {},
   "source": [
    "Split your data into training and test sets."
   ]
  },
  {
   "cell_type": "code",
   "execution_count": null,
   "metadata": {},
   "outputs": [],
   "source": [
    "#train, test = wrangle_zillow.split_my_data(df, train_pct)\n",
    "\n",
    "# what about scaling?"
   ]
  },
  {
   "cell_type": "markdown",
   "metadata": {},
   "source": [
    "Create subsets of data if you would like to create multiple models and then merge (such as, a different model for each cluster or for each county)."
   ]
  },
  {
   "cell_type": "code",
   "execution_count": null,
   "metadata": {},
   "outputs": [],
   "source": []
  },
  {
   "cell_type": "markdown",
   "metadata": {},
   "source": [
    "## Model Selection\n",
    "\n",
    "Train at least 3 different models (a model is different if there are changes in one or more of the following: features, hyper-parameters, algorithm). Create object, fit, predict & evaluate. Use mean absolute error or mean squared error to evaluate. Also, try regression algorithms you have not used before."
   ]
  },
  {
   "cell_type": "code",
   "execution_count": null,
   "metadata": {},
   "outputs": [],
   "source": []
  },
  {
   "cell_type": "code",
   "execution_count": null,
   "metadata": {},
   "outputs": [],
   "source": []
  },
  {
   "cell_type": "code",
   "execution_count": null,
   "metadata": {},
   "outputs": [],
   "source": []
  },
  {
   "cell_type": "markdown",
   "metadata": {},
   "source": [
    "Evaluate your best model on your test data set to get an idea of your model's out of sample error."
   ]
  },
  {
   "cell_type": "code",
   "execution_count": null,
   "metadata": {},
   "outputs": [],
   "source": []
  }
 ],
 "metadata": {
  "kernelspec": {
   "display_name": "Python 3",
   "language": "python",
   "name": "python3"
  },
  "language_info": {
   "codemirror_mode": {
    "name": "ipython",
    "version": 3
   },
   "file_extension": ".py",
   "mimetype": "text/x-python",
   "name": "python",
   "nbconvert_exporter": "python",
   "pygments_lexer": "ipython3",
   "version": "3.7.4"
  }
 },
 "nbformat": 4,
 "nbformat_minor": 4
}
