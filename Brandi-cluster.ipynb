{
 "cells": [
  {
   "cell_type": "markdown",
   "metadata": {},
   "source": [
    "# Project\n",
    "\n",
    "### Goal: Improve our original estimate of the log error by using clustering methodologies.\n",
    "\n",
    "## Acquisition, Prep, and Initial Exploration\n",
    "\n",
    "Using the notebook and files you created during the exercises make any changes, additions, etc. you want at this point. NOTE: You will NOT be splitting into train and test at this point."
   ]
  },
  {
   "cell_type": "code",
   "execution_count": 1,
   "metadata": {},
   "outputs": [],
   "source": [
    "# ignore warnings\n",
    "import warnings\n",
    "warnings.filterwarnings(\"ignore\")\n",
    "\n",
    "# Wrangling\n",
    "import pandas as pd\n",
    "import numpy as np\n",
    "\n",
    "# Exploring\n",
    "import scipy.stats as stats\n",
    "\n",
    "# Impute missing values\n",
    "from sklearn.experimental import enable_iterative_imputer\n",
    "from sklearn.impute import IterativeImputer\n",
    "\n",
    "# Visualizing\n",
    "%matplotlib inline\n",
    "import matplotlib.pyplot as plt\n",
    "import seaborn as sns\n",
    "\n",
    "# default pandas decimal number display format\n",
    "pd.options.display.float_format = '{:20,.2f}'.format\n",
    "pd.set_option('display.max_columns', None, 'display.max_rows', None)\n",
    "\n",
    "import acquire\n",
    "import wrangle_zillow\n",
    "import wrangle_zillow_r"
   ]
  },
  {
   "cell_type": "code",
   "execution_count": 2,
   "metadata": {},
   "outputs": [],
   "source": [
    "# zillow = acquire.get_zillow(acquire.sql)\n",
    "# Save file to csv so I can quit asking the server for this data\n",
    "# zillow.to_csv('zillow.csv')"
   ]
  },
  {
   "cell_type": "code",
   "execution_count": 3,
   "metadata": {},
   "outputs": [],
   "source": [
    "zillow = pd.read_csv('zillow.csv', index_col='id')\n",
    "# drop extra column that comes in from csv files\n",
    "# zillow = zillow.drop(columns='Unnamed: 0')"
   ]
  },
  {
   "cell_type": "code",
   "execution_count": 4,
   "metadata": {},
   "outputs": [
    {
     "name": "stdout",
     "output_type": "stream",
     "text": [
      "There are 77575 rows and 67 columns in the starting dataframe.\n"
     ]
    }
   ],
   "source": [
    "orig_rows = zillow.shape[0]\n",
    "orig_cols = zillow.shape[1]\n",
    "print (f'There are {orig_rows} rows and {orig_cols} columns in the starting dataframe.')"
   ]
  },
  {
   "cell_type": "code",
   "execution_count": 5,
   "metadata": {},
   "outputs": [],
   "source": [
    "# Test wrangle_zillow function"
   ]
  },
  {
   "cell_type": "code",
   "execution_count": 21,
   "metadata": {},
   "outputs": [],
   "source": [
    "zillow = wrangle_zillow.wrangle_zillow()"
   ]
  },
  {
   "cell_type": "code",
   "execution_count": null,
   "metadata": {},
   "outputs": [],
   "source": [
    "zillow.to_csv('zillow_reduced.csv')"
   ]
  },
  {
   "cell_type": "code",
   "execution_count": 19,
   "metadata": {},
   "outputs": [
    {
     "name": "stdout",
     "output_type": "stream",
     "text": [
      "There are 77575 rows and 67 columns in the starting dataframe.\n",
      "There are 64841 rows and 34 columns in the modified dataframe.\n"
     ]
    }
   ],
   "source": [
    "new_rows = zillow.shape[0]\n",
    "new_cols = zillow.shape[1]\n",
    "print (f'There are {orig_rows} rows and {orig_cols} columns in the starting dataframe.')\n",
    "print (f'There are {new_rows} rows and {new_cols} columns in the modified dataframe.')"
   ]
  },
  {
   "cell_type": "markdown",
   "metadata": {},
   "source": [
    "## Exploration with Clustering\n",
    "\n",
    "### Cluster the Target Variable\n",
    "\n",
    "Perform clustering with logerror as the only feature used in the clustering algorithm. Decide on a number of clusters to use, and store the cluster predictions back onto your data frame as cluster_target. Look at the centroids that were produced in this process. What do they tell you?"
   ]
  },
  {
   "cell_type": "code",
   "execution_count": null,
   "metadata": {},
   "outputs": [],
   "source": []
  },
  {
   "cell_type": "markdown",
   "metadata": {},
   "source": [
    "Use the produced clusters to help you explore through visualization how logerror relates to other variables. (A common way to do this is to use color to indicate the cluster id, and the other variables can be your x-axis and y-axis. (hint: look at your swarmplot function))."
   ]
  },
  {
   "cell_type": "code",
   "execution_count": null,
   "metadata": {},
   "outputs": [],
   "source": []
  },
  {
   "cell_type": "markdown",
   "metadata": {},
   "source": [
    "### Cluster Independent Variables\n",
    "\n",
    "You should also perform some clustering based on a number of independent variables. Create and evaluate several clustering models based on subsets of the independent variables. Here are some ideas:\n",
    "\n",
    "- Location, that is, latitude and longitude\n",
    "- Size (finished square feet)\n",
    "- Location and size\n",
    "\n",
    "Be sure to use these new clusters in exploring your data, and interpret what these clusters tell you."
   ]
  },
  {
   "cell_type": "code",
   "execution_count": null,
   "metadata": {},
   "outputs": [],
   "source": []
  },
  {
   "cell_type": "markdown",
   "metadata": {},
   "source": [
    "### Test the Significance of Clusters\n",
    "Use statistical testing methods to determine whether the clusters you have created are significant in terms of their relationship to logerror."
   ]
  },
  {
   "cell_type": "code",
   "execution_count": null,
   "metadata": {},
   "outputs": [],
   "source": []
  },
  {
   "cell_type": "markdown",
   "metadata": {},
   "source": [
    "## Modeling\n",
    "\n",
    "### Feature Engineering\n",
    "\n",
    "Remove variables that are not needed, wanted, useful, or are redundant."
   ]
  },
  {
   "cell_type": "code",
   "execution_count": null,
   "metadata": {},
   "outputs": [],
   "source": []
  },
  {
   "cell_type": "markdown",
   "metadata": {},
   "source": [
    "Add any features you think may be useful."
   ]
  },
  {
   "cell_type": "code",
   "execution_count": null,
   "metadata": {},
   "outputs": [],
   "source": [
    "# Age = yearbuilt - 2017\n",
    "zillow['age'] = 2017 - zillow.yearbuilt\n",
    "\n",
    "# Tax Rate = taxamount / \n",
    "zillow['tax_rate'] = zillow.taxamount / zillow.taxvaluedollarcnt\n",
    "\n",
    "# $/sqft\n",
    "zillow['cost_sf'] = zillow.taxamount / zillow.\n",
    "zillow['cost_structure'] = zillow.structuretaxvaluedollarcnt / zillow.\n",
    "\n",
    "# Avg tax rate by censustractandblockid\n",
    "\n",
    "# $/sqft structure only\n",
    "# $/sqft lot only\n",
    "# Avg $/sqft by censustractandblockid\n"
   ]
  },
  {
   "cell_type": "markdown",
   "metadata": {},
   "source": [
    "Split your data into training and test sets."
   ]
  },
  {
   "cell_type": "code",
   "execution_count": null,
   "metadata": {},
   "outputs": [],
   "source": [
    "#train, test = wrangle_zillow.split_my_data(df, train_pct)\n",
    "\n",
    "# what about scaling?"
   ]
  },
  {
   "cell_type": "markdown",
   "metadata": {},
   "source": [
    "Create subsets of data if you would like to create multiple models and then merge (such as, a different model for each cluster or for each county)."
   ]
  },
  {
   "cell_type": "code",
   "execution_count": null,
   "metadata": {},
   "outputs": [],
   "source": []
  },
  {
   "cell_type": "markdown",
   "metadata": {},
   "source": [
    "## Model Selection\n",
    "\n",
    "Train at least 3 different models (a model is different if there are changes in one or more of the following: features, hyper-parameters, algorithm). Create object, fit, predict & evaluate. Use mean absolute error or mean squared error to evaluate. Also, try regression algorithms you have not used before."
   ]
  },
  {
   "cell_type": "code",
   "execution_count": null,
   "metadata": {},
   "outputs": [],
   "source": []
  },
  {
   "cell_type": "code",
   "execution_count": null,
   "metadata": {},
   "outputs": [],
   "source": []
  },
  {
   "cell_type": "code",
   "execution_count": null,
   "metadata": {},
   "outputs": [],
   "source": []
  },
  {
   "cell_type": "markdown",
   "metadata": {},
   "source": [
    "Evaluate your best model on your test data set to get an idea of your model's out of sample error."
   ]
  },
  {
   "cell_type": "code",
   "execution_count": null,
   "metadata": {},
   "outputs": [],
   "source": []
  }
 ],
 "metadata": {
  "kernelspec": {
   "display_name": "Python 3",
   "language": "python",
   "name": "python3"
  },
  "language_info": {
   "codemirror_mode": {
    "name": "ipython",
    "version": 3
   },
   "file_extension": ".py",
   "mimetype": "text/x-python",
   "name": "python",
   "nbconvert_exporter": "python",
   "pygments_lexer": "ipython3",
   "version": "3.7.4"
  }
 },
 "nbformat": 4,
 "nbformat_minor": 4
}
