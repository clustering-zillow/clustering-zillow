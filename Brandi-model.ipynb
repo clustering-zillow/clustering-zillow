{
 "cells": [
  {
   "cell_type": "markdown",
   "metadata": {},
   "source": [
    "# Project\n",
    "\n",
    "### Goal: Improve our original estimate of the log error by using clustering methodologies.\n",
    "\n",
    "## Modeling"
   ]
  },
  {
   "cell_type": "code",
   "execution_count": 1,
   "metadata": {},
   "outputs": [],
   "source": [
    "# ignore warnings\n",
    "import warnings\n",
    "warnings.filterwarnings(\"ignore\")\n",
    "\n",
    "# Wrangling\n",
    "import pandas as pd\n",
    "import numpy as np\n",
    "\n",
    "# Modeling\n",
    "import scipy.stats as stats\n",
    "from sklearn.cluster import KMeans\n",
    "from sklearn.preprocessing import PolynomialFeatures\n",
    "from sklearn.linear_model import LinearRegression\n",
    "from sklearn.feature_selection import RFE\n",
    "\n",
    "# Visualizing\n",
    "%matplotlib inline\n",
    "import matplotlib.pyplot as plt\n",
    "import seaborn as sns\n",
    "\n",
    "# default pandas decimal number display format\n",
    "pd.options.display.float_format = '{:20,.2f}'.format\n",
    "pd.set_option('display.max_columns', None, 'display.max_rows', None)\n",
    "\n",
    "import wrangle_zillow\n",
    "import model\n",
    "\n",
    "zillow = pd.read_csv('zillow_fe.csv', index_col='Unnamed: 0')"
   ]
  },
  {
   "cell_type": "markdown",
   "metadata": {},
   "source": [
    "Split your data into training and test sets."
   ]
  },
  {
   "cell_type": "code",
   "execution_count": 2,
   "metadata": {},
   "outputs": [],
   "source": [
    "train_LA, test_LA = wrangle_zillow.split_my_data(zillow[zillow.county == 'Los_Angeles'], 0.8)\n",
    "train_OC, test_OC = wrangle_zillow.split_my_data(zillow[zillow.county == 'Orange'], 0.8)\n",
    "train_VC, test_VC = wrangle_zillow.split_my_data(zillow[zillow.county == 'Ventura'], 0.8)\n",
    "\n",
    "train_LA, valid_LA = wrangle_zillow.split_my_data(train_LA, 0.8)\n",
    "train_OC, valid_OC = wrangle_zillow.split_my_data(train_OC, 0.8)\n",
    "train_VC, valid_VC = wrangle_zillow.split_my_data(train_VC, 0.8)\n",
    "\n",
    "y_train_LA = train_LA[['logerror']]\n",
    "y_train_OC = train_OC[['logerror']]\n",
    "y_train_VC = train_VC[['logerror']]\n",
    "\n",
    "y_valid_LA = valid_LA[['logerror']]\n",
    "y_valid_OC = valid_OC[['logerror']]\n",
    "y_valid_VC = valid_VC[['logerror']]\n",
    "\n",
    "y_test_LA = test_LA[['logerror']]\n",
    "y_test_OC = test_OC[['logerror']]\n",
    "y_test_VC = test_VC[['logerror']]\n",
    "\n",
    "train_LA = train_LA.drop(columns=['logerror'])\n",
    "train_OC = train_OC.drop(columns=['logerror'])\n",
    "train_VC = train_VC.drop(columns=['logerror'])\n",
    "\n",
    "valid_LA = valid_LA.drop(columns=['logerror'])\n",
    "valid_OC = valid_OC.drop(columns=['logerror'])\n",
    "valid_VC = valid_VC.drop(columns=['logerror'])\n",
    "\n",
    "test_LA = test_LA.drop(columns=['logerror'])\n",
    "test_OC = test_OC.drop(columns=['logerror'])\n",
    "test_VC = test_VC.drop(columns=['logerror'])\n",
    "\n",
    "scaler, train_LA, valid_LA, test_LA = wrangle_zillow.min_max_scaler(train_LA, valid_LA, test_LA)\n",
    "scaler, train_OC, valid_OC, test_OC = wrangle_zillow.min_max_scaler(train_OC, valid_OC, test_OC)\n",
    "scaler, train_VC, valid_VC, test_VC = wrangle_zillow.min_max_scaler(train_VC, valid_VC, test_VC)"
   ]
  },
  {
   "cell_type": "markdown",
   "metadata": {},
   "source": [
    "## Model Selection\n",
    "\n",
    "Train at least 3 different models (a model is different if there are changes in one or more of the following: features, hyper-parameters, algorithm). Create object, fit, predict & evaluate. Use mean absolute error or mean squared error to evaluate. Also, try regression algorithms you have not used before."
   ]
  },
  {
   "cell_type": "markdown",
   "metadata": {},
   "source": [
    "### Los Angeles County"
   ]
  },
  {
   "cell_type": "code",
   "execution_count": 3,
   "metadata": {},
   "outputs": [],
   "source": [
    "predictions_LA = pd.DataFrame({\n",
    "    'actual': y_train_LA.logerror,\n",
    "    'baseline': y_train_LA.logerror.mean()\n",
    "})"
   ]
  },
  {
   "cell_type": "code",
   "execution_count": 4,
   "metadata": {},
   "outputs": [],
   "source": [
    "# Create variables holding the columns to make models\n",
    "MVP = ['bathroomcnt', 'bedroomcnt', 'finishedsquarefeet12']\n",
    "FE_1 = ['bathroomcnt', 'centroid_finishedsquarefeet12', 'centroid_buildingqualitytypeid', \n",
    "        'centroid_roomcnt', 'centroid_is_extra']\n",
    "FE_2 = ['bathroomcnt', 'centroid_finishedsquarefeet12', 'centroid_lotsizesquarefeet', \n",
    "        'centroid_landtaxvaluedollarcnt', 'centroid_new_zip']"
   ]
  },
  {
   "cell_type": "code",
   "execution_count": 5,
   "metadata": {},
   "outputs": [],
   "source": [
    "# MVP model from before\n",
    "\n",
    "X = train_LA[MVP]\n",
    "\n",
    "poly = PolynomialFeatures(degree=3)\n",
    "X_poly = poly.fit_transform(X)\n",
    "lm_poly = LinearRegression(normalize=False).fit(X_poly, y_train_LA)\n",
    "\n",
    "predictions_LA['MVP'] = lm_poly.predict(X_poly)"
   ]
  },
  {
   "cell_type": "code",
   "execution_count": 6,
   "metadata": {},
   "outputs": [],
   "source": [
    "# Try adding cluster & binned features\n",
    "\n",
    "X = train_LA[FE_1]\n",
    "\n",
    "poly = PolynomialFeatures(degree=5)\n",
    "X_poly = poly.fit_transform(X)\n",
    "lm_poly = LinearRegression(normalize=False).fit(X_poly, y_train_LA)\n",
    "\n",
    "predictions_LA['FE_1'] = lm_poly.predict(X_poly)"
   ]
  },
  {
   "cell_type": "code",
   "execution_count": 7,
   "metadata": {},
   "outputs": [],
   "source": [
    "# Try adding cluster & binned features\n",
    "\n",
    "X = train_LA[FE_2]\n",
    "\n",
    "poly = PolynomialFeatures(degree=5)\n",
    "X_poly = poly.fit_transform(X)\n",
    "lm_poly = LinearRegression(normalize=False).fit(X_poly, y_train_LA)\n",
    "\n",
    "predictions_LA['FE_2'] = lm_poly.predict(X_poly)"
   ]
  },
  {
   "cell_type": "code",
   "execution_count": 8,
   "metadata": {},
   "outputs": [
    {
     "name": "stdout",
     "output_type": "stream",
     "text": [
      "['tax_rate', 'centroid_buildingqualitytypeid']\n",
      "['tax_rate', 'centroid_buildingqualitytypeid', 'centroid_roomcnt']\n",
      "['finishedsquarefeet12', 'tax_rate', 'centroid_buildingqualitytypeid', 'centroid_roomcnt']\n",
      "['finishedsquarefeet12', 'tax_rate', 'has_garage', 'centroid_buildingqualitytypeid', 'centroid_roomcnt']\n",
      "['finishedsquarefeet12', 'age', 'tax_rate', 'has_garage', 'centroid_buildingqualitytypeid', 'centroid_roomcnt']\n",
      "['finishedsquarefeet12', 'taxvaluedollarcnt', 'age', 'tax_rate', 'has_garage', 'centroid_buildingqualitytypeid', 'centroid_roomcnt']\n"
     ]
    },
    {
     "data": {
      "text/plain": [
       "(None, None, None, None, None, None)"
      ]
     },
     "execution_count": 8,
     "metadata": {},
     "output_type": "execute_result"
    }
   ],
   "source": [
    "# Use RFE to select top 2 - 7 features\n",
    "# first remove string columns\n",
    "X = train_LA.drop(columns=['transactiondate', 'median_income', 'county',\n",
    "                           'cluster_fancy', 'cluster_lot', 'census_tractandblock',\n",
    "                           'latitude', 'longitude', 'taxdelinquencyyear', 'taxamount',\n",
    "                           'age_bin', 'sf_bin', 'tax_bin', 'cluster_bins'\n",
    "                          ])\n",
    "\n",
    "model.select_rfe(X, y_train_LA, 2), model.select_rfe(X, y_train_LA, 3), model.select_rfe(X, y_train_LA, 4), model.select_rfe(X, y_train_LA, 5), model.select_rfe(X, y_train_LA, 6), model.select_rfe(X, y_train_LA, 7)"
   ]
  },
  {
   "cell_type": "code",
   "execution_count": 9,
   "metadata": {},
   "outputs": [],
   "source": [
    "LA_RFE_2 = ['tax_rate', 'centroid_buildingqualitytypeid']\n",
    "LA_RFE_3 = ['tax_rate', 'centroid_buildingqualitytypeid', 'centroid_roomcnt']\n",
    "LA_RFE_4 = ['finishedsquarefeet12', 'tax_rate', 'centroid_buildingqualitytypeid', 'centroid_roomcnt']\n",
    "LA_RFE_5 = ['finishedsquarefeet12', 'tax_rate', 'has_garage', 'centroid_buildingqualitytypeid', 'centroid_roomcnt']\n",
    "LA_RFE_6 = ['finishedsquarefeet12', 'age', 'tax_rate', 'has_garage', 'centroid_buildingqualitytypeid', 'centroid_roomcnt']\n",
    "LA_RFE_7 = ['finishedsquarefeet12', 'taxvaluedollarcnt', 'age', 'tax_rate', 'has_garage', 'centroid_buildingqualitytypeid', 'centroid_roomcnt']"
   ]
  },
  {
   "cell_type": "code",
   "execution_count": 10,
   "metadata": {},
   "outputs": [],
   "source": [
    "X = train_LA[LA_RFE_2]\n",
    "\n",
    "poly = PolynomialFeatures(degree=2)\n",
    "X_poly = poly.fit_transform(X)\n",
    "lm_poly = LinearRegression(normalize=False).fit(X_poly, y_train_LA)\n",
    "\n",
    "predictions_LA['RFE_2'] = lm_poly.predict(X_poly)"
   ]
  },
  {
   "cell_type": "code",
   "execution_count": 11,
   "metadata": {},
   "outputs": [],
   "source": [
    "X = train_LA[LA_RFE_3]\n",
    "\n",
    "poly = PolynomialFeatures(degree=3)\n",
    "X_poly = poly.fit_transform(X)\n",
    "lm_poly = LinearRegression(normalize=False).fit(X_poly, y_train_LA)\n",
    "\n",
    "predictions_LA['RFE_3'] = lm_poly.predict(X_poly)"
   ]
  },
  {
   "cell_type": "code",
   "execution_count": 12,
   "metadata": {},
   "outputs": [],
   "source": [
    "X = train_LA[LA_RFE_4]\n",
    "\n",
    "poly = PolynomialFeatures(degree=4)\n",
    "X_poly = poly.fit_transform(X)\n",
    "lm_poly = LinearRegression(normalize=False).fit(X_poly, y_train_LA)\n",
    "\n",
    "predictions_LA['RFE_4'] = lm_poly.predict(X_poly)"
   ]
  },
  {
   "cell_type": "code",
   "execution_count": 13,
   "metadata": {},
   "outputs": [],
   "source": [
    "X = train_LA[LA_RFE_5]\n",
    "\n",
    "poly = PolynomialFeatures(degree=5)\n",
    "X_poly = poly.fit_transform(X)\n",
    "lm_poly = LinearRegression(normalize=False).fit(X_poly, y_train_LA)\n",
    "\n",
    "predictions_LA['RFE_5'] = lm_poly.predict(X_poly)"
   ]
  },
  {
   "cell_type": "code",
   "execution_count": 14,
   "metadata": {},
   "outputs": [],
   "source": [
    "X = train_LA[LA_RFE_6]\n",
    "\n",
    "poly = PolynomialFeatures(degree=6)\n",
    "X_poly = poly.fit_transform(X)\n",
    "lm_poly = LinearRegression(normalize=False).fit(X_poly, y_train_LA)\n",
    "\n",
    "predictions_LA['RFE_6'] = lm_poly.predict(X_poly)"
   ]
  },
  {
   "cell_type": "code",
   "execution_count": 15,
   "metadata": {},
   "outputs": [],
   "source": [
    "X = train_LA[LA_RFE_7]\n",
    "\n",
    "poly = PolynomialFeatures(degree=7)\n",
    "X_poly = poly.fit_transform(X)\n",
    "lm_poly = LinearRegression(normalize=False).fit(X_poly, y_train_LA)\n",
    "\n",
    "predictions_LA['RFE_7'] = lm_poly.predict(X_poly)"
   ]
  },
  {
   "cell_type": "code",
   "execution_count": 16,
   "metadata": {},
   "outputs": [],
   "source": [
    "# Modeling 8 features takes too long, I won't model more than 7"
   ]
  },
  {
   "cell_type": "code",
   "execution_count": 17,
   "metadata": {},
   "outputs": [],
   "source": [
    "# Set up RMSE functions\n",
    "RMSE_bl = model.RMSE(predictions_LA.actual, predictions_LA.baseline)\n",
    "RMSE_MVP = model.RMSE(predictions_LA.actual, predictions_LA.MVP)\n",
    "RMSE_fe1 = model.RMSE(predictions_LA.actual, predictions_LA.FE_1)\n",
    "RMSE_fe2 = model.RMSE(predictions_LA.actual, predictions_LA.FE_2)\n",
    "RMSE_rfe2 = model.RMSE(predictions_LA.actual, predictions_LA.RFE_2)\n",
    "RMSE_rfe3 = model.RMSE(predictions_LA.actual, predictions_LA.RFE_3)\n",
    "RMSE_rfe4 = model.RMSE(predictions_LA.actual, predictions_LA.RFE_4)\n",
    "RMSE_rfe5 = model.RMSE(predictions_LA.actual, predictions_LA.RFE_5)\n",
    "RMSE_rfe6 = model.RMSE(predictions_LA.actual, predictions_LA.RFE_6)\n",
    "RMSE_rfe6 = model.RMSE(predictions_LA.actual, predictions_LA.RFE_6)\n",
    "RMSE_rfe7 = model.RMSE(predictions_LA.actual, predictions_LA.RFE_7)"
   ]
  },
  {
   "cell_type": "code",
   "execution_count": 18,
   "metadata": {},
   "outputs": [
    {
     "data": {
      "text/html": [
       "<div>\n",
       "<style scoped>\n",
       "    .dataframe tbody tr th:only-of-type {\n",
       "        vertical-align: middle;\n",
       "    }\n",
       "\n",
       "    .dataframe tbody tr th {\n",
       "        vertical-align: top;\n",
       "    }\n",
       "\n",
       "    .dataframe thead th {\n",
       "        text-align: right;\n",
       "    }\n",
       "</style>\n",
       "<table border=\"1\" class=\"dataframe\">\n",
       "  <thead>\n",
       "    <tr style=\"text-align: right;\">\n",
       "      <th></th>\n",
       "      <th>models</th>\n",
       "      <th>model_errors</th>\n",
       "    </tr>\n",
       "  </thead>\n",
       "  <tbody>\n",
       "    <tr>\n",
       "      <th>0</th>\n",
       "      <td>baseline</td>\n",
       "      <td>0.153</td>\n",
       "    </tr>\n",
       "    <tr>\n",
       "      <th>1</th>\n",
       "      <td>MVP</td>\n",
       "      <td>0.153</td>\n",
       "    </tr>\n",
       "    <tr>\n",
       "      <th>2</th>\n",
       "      <td>FE_1</td>\n",
       "      <td>0.153</td>\n",
       "    </tr>\n",
       "    <tr>\n",
       "      <th>3</th>\n",
       "      <td>FE_2</td>\n",
       "      <td>0.152</td>\n",
       "    </tr>\n",
       "    <tr>\n",
       "      <th>4</th>\n",
       "      <td>RFE_2</td>\n",
       "      <td>0.153</td>\n",
       "    </tr>\n",
       "    <tr>\n",
       "      <th>5</th>\n",
       "      <td>RFE_3</td>\n",
       "      <td>0.153</td>\n",
       "    </tr>\n",
       "    <tr>\n",
       "      <th>6</th>\n",
       "      <td>RFE_4</td>\n",
       "      <td>0.153</td>\n",
       "    </tr>\n",
       "    <tr>\n",
       "      <th>7</th>\n",
       "      <td>RFE_5</td>\n",
       "      <td>0.152</td>\n",
       "    </tr>\n",
       "    <tr>\n",
       "      <th>8</th>\n",
       "      <td>RFE_6</td>\n",
       "      <td>0.152</td>\n",
       "    </tr>\n",
       "    <tr>\n",
       "      <th>9</th>\n",
       "      <td>RFE_7</td>\n",
       "      <td>0.150</td>\n",
       "    </tr>\n",
       "  </tbody>\n",
       "</table>\n",
       "</div>"
      ],
      "text/plain": [
       "     models  model_errors\n",
       "0  baseline         0.153\n",
       "1       MVP         0.153\n",
       "2      FE_1         0.153\n",
       "3      FE_2         0.152\n",
       "4     RFE_2         0.153\n",
       "5     RFE_3         0.153\n",
       "6     RFE_4         0.153\n",
       "7     RFE_5         0.152\n",
       "8     RFE_6         0.152\n",
       "9     RFE_7         0.150"
      ]
     },
     "execution_count": 18,
     "metadata": {},
     "output_type": "execute_result"
    }
   ],
   "source": [
    "# evaluation df\n",
    "LA_eval_df = pd.DataFrame(np.array(['baseline', 'MVP', 'FE_1', 'FE_2', 'RFE_2', 'RFE_3',\n",
    "                                 'RFE_4', 'RFE_5', 'RFE_6', 'RFE_7']), columns=['models'])\n",
    "LA_eval_df['model_errors'] = np.array([RMSE_bl, RMSE_MVP, RMSE_fe1, RMSE_fe2, RMSE_rfe2, RMSE_rfe3,\n",
    "                                    RMSE_rfe4, RMSE_rfe5, RMSE_rfe6, RMSE_rfe7])\n",
    "\n",
    "LA_eval_df"
   ]
  },
  {
   "cell_type": "markdown",
   "metadata": {},
   "source": [
    "### Orange County"
   ]
  },
  {
   "cell_type": "code",
   "execution_count": 19,
   "metadata": {},
   "outputs": [],
   "source": [
    "predictions_OC = pd.DataFrame({\n",
    "    'actual': y_train_OC.logerror,\n",
    "    'baseline': y_train_OC.logerror.mean()\n",
    "})"
   ]
  },
  {
   "cell_type": "code",
   "execution_count": 20,
   "metadata": {},
   "outputs": [],
   "source": [
    "# MVP model from before\n",
    "X = train_OC[MVP]\n",
    "\n",
    "poly = PolynomialFeatures(degree=3)\n",
    "X_poly = poly.fit_transform(X)\n",
    "lm_poly = LinearRegression(normalize=False).fit(X_poly, y_train_OC)\n",
    "\n",
    "predictions_OC['MVP'] = lm_poly.predict(X_poly)"
   ]
  },
  {
   "cell_type": "code",
   "execution_count": 21,
   "metadata": {},
   "outputs": [],
   "source": [
    "# Try adding cluster & binned features\n",
    "X = train_OC[FE_1]\n",
    "\n",
    "poly = PolynomialFeatures(degree=5)\n",
    "X_poly = poly.fit_transform(X)\n",
    "lm_poly = LinearRegression(normalize=False).fit(X_poly, y_train_OC)\n",
    "\n",
    "predictions_OC['FE_1'] = lm_poly.predict(X_poly)"
   ]
  },
  {
   "cell_type": "code",
   "execution_count": 22,
   "metadata": {},
   "outputs": [],
   "source": [
    "# Try adding cluster & binned features\n",
    "X = train_OC[FE_2]\n",
    "\n",
    "poly = PolynomialFeatures(degree=5)\n",
    "X_poly = poly.fit_transform(X)\n",
    "lm_poly = LinearRegression(normalize=False).fit(X_poly, y_train_OC)\n",
    "\n",
    "predictions_OC['FE_2'] = lm_poly.predict(X_poly)"
   ]
  },
  {
   "cell_type": "code",
   "execution_count": 23,
   "metadata": {},
   "outputs": [
    {
     "name": "stdout",
     "output_type": "stream",
     "text": [
      "['lotsizesquarefeet', 'tax_rate']\n",
      "['lotsizesquarefeet', 'tax_rate', 'cost_structure_sf']\n",
      "['lotsizesquarefeet', 'structuretaxvaluedollarcnt', 'tax_rate', 'cost_structure_sf']\n",
      "['lotsizesquarefeet', 'structuretaxvaluedollarcnt', 'tax_rate', 'cost_structure_sf', 'centroid_buildingqualitytypeid']\n",
      "['lotsizesquarefeet', 'structuretaxvaluedollarcnt', 'new_zip', 'tax_rate', 'cost_structure_sf', 'centroid_buildingqualitytypeid']\n",
      "['lotsizesquarefeet', 'structuretaxvaluedollarcnt', 'new_zip', 'tax_rate', 'cost_structure_sf', 'centroid_buildingqualitytypeid', 'centroid_new_zip']\n"
     ]
    },
    {
     "data": {
      "text/plain": [
       "(None, None, None, None, None, None)"
      ]
     },
     "execution_count": 23,
     "metadata": {},
     "output_type": "execute_result"
    }
   ],
   "source": [
    "# Use RFE to select top 2 - 7 features\n",
    "# first remove string columns\n",
    "X = train_OC.drop(columns=['transactiondate', 'median_income', 'county',\n",
    "                           'cluster_fancy', 'cluster_lot', 'census_tractandblock',\n",
    "                           'latitude', 'longitude', 'taxdelinquencyyear', 'taxamount',\n",
    "                           'age_bin', 'sf_bin', 'tax_bin', 'cluster_bins'\n",
    "                          ])\n",
    "\n",
    "model.select_rfe(X, y_train_OC, 2), model.select_rfe(X, y_train_OC, 3), model.select_rfe(X, y_train_OC, 4), model.select_rfe(X, y_train_OC, 5), model.select_rfe(X, y_train_OC, 6), model.select_rfe(X, y_train_OC, 7)"
   ]
  },
  {
   "cell_type": "code",
   "execution_count": 24,
   "metadata": {},
   "outputs": [],
   "source": [
    "OC_RFE_2 = ['lotsizesquarefeet', 'tax_rate']\n",
    "OC_RFE_3 = ['lotsizesquarefeet', 'tax_rate', 'cost_structure_sf']\n",
    "OC_RFE_4 = ['lotsizesquarefeet', 'structuretaxvaluedollarcnt', 'tax_rate', 'cost_structure_sf']\n",
    "OC_RFE_5 = ['lotsizesquarefeet', 'structuretaxvaluedollarcnt', 'tax_rate', 'cost_structure_sf', 'centroid_buildingqualitytypeid']\n",
    "OC_RFE_6 = ['lotsizesquarefeet', 'structuretaxvaluedollarcnt', 'new_zip', 'tax_rate', 'cost_structure_sf', 'centroid_buildingqualitytypeid']\n",
    "OC_RFE_7 = ['lotsizesquarefeet', 'structuretaxvaluedollarcnt', 'new_zip', 'tax_rate', 'cost_structure_sf', 'centroid_buildingqualitytypeid', 'centroid_new_zip']"
   ]
  },
  {
   "cell_type": "code",
   "execution_count": 25,
   "metadata": {},
   "outputs": [],
   "source": [
    "X = train_OC[OC_RFE_2]\n",
    "\n",
    "poly = PolynomialFeatures(degree=2)\n",
    "X_poly = poly.fit_transform(X)\n",
    "lm_poly = LinearRegression(normalize=False).fit(X_poly, y_train_OC)\n",
    "\n",
    "predictions_OC['RFE_2'] = lm_poly.predict(X_poly)"
   ]
  },
  {
   "cell_type": "code",
   "execution_count": 26,
   "metadata": {},
   "outputs": [],
   "source": [
    "X = train_OC[OC_RFE_3]\n",
    "\n",
    "poly = PolynomialFeatures(degree=3)\n",
    "X_poly = poly.fit_transform(X)\n",
    "lm_poly = LinearRegression(normalize=False).fit(X_poly, y_train_OC)\n",
    "\n",
    "predictions_OC['RFE_3'] = lm_poly.predict(X_poly)"
   ]
  },
  {
   "cell_type": "code",
   "execution_count": 27,
   "metadata": {},
   "outputs": [],
   "source": [
    "X = train_OC[OC_RFE_4]\n",
    "\n",
    "poly = PolynomialFeatures(degree=4)\n",
    "X_poly = poly.fit_transform(X)\n",
    "lm_poly = LinearRegression(normalize=False).fit(X_poly, y_train_OC)\n",
    "\n",
    "predictions_OC['RFE_4'] = lm_poly.predict(X_poly)"
   ]
  },
  {
   "cell_type": "code",
   "execution_count": 28,
   "metadata": {},
   "outputs": [],
   "source": [
    "X = train_OC[OC_RFE_5]\n",
    "\n",
    "poly = PolynomialFeatures(degree=5)\n",
    "X_poly = poly.fit_transform(X)\n",
    "lm_poly = LinearRegression(normalize=False).fit(X_poly, y_train_OC)\n",
    "\n",
    "predictions_OC['RFE_5'] = lm_poly.predict(X_poly)"
   ]
  },
  {
   "cell_type": "code",
   "execution_count": 29,
   "metadata": {},
   "outputs": [],
   "source": [
    "X = train_OC[OC_RFE_6]\n",
    "\n",
    "poly = PolynomialFeatures(degree=6)\n",
    "X_poly = poly.fit_transform(X)\n",
    "lm_poly = LinearRegression(normalize=False).fit(X_poly, y_train_OC)\n",
    "\n",
    "predictions_OC['RFE_6'] = lm_poly.predict(X_poly)"
   ]
  },
  {
   "cell_type": "code",
   "execution_count": 30,
   "metadata": {},
   "outputs": [],
   "source": [
    "X = train_OC[OC_RFE_7]\n",
    "\n",
    "poly = PolynomialFeatures(degree=7)\n",
    "X_poly = poly.fit_transform(X)\n",
    "lm_poly = LinearRegression(normalize=False).fit(X_poly, y_train_OC)\n",
    "\n",
    "predictions_OC['RFE_7'] = lm_poly.predict(X_poly)"
   ]
  },
  {
   "cell_type": "code",
   "execution_count": 31,
   "metadata": {},
   "outputs": [],
   "source": [
    "# Set up RMSE functions\n",
    "RMSE_bl = model.RMSE(predictions_OC.actual, predictions_OC.baseline)\n",
    "RMSE_MVP = model.RMSE(predictions_OC.actual, predictions_OC.MVP)\n",
    "RMSE_fe1 = model.RMSE(predictions_OC.actual, predictions_OC.FE_1)\n",
    "RMSE_fe2 = model.RMSE(predictions_OC.actual, predictions_OC.FE_2)\n",
    "RMSE_rfe2 = model.RMSE(predictions_OC.actual, predictions_OC.RFE_2)\n",
    "RMSE_rfe3 = model.RMSE(predictions_OC.actual, predictions_OC.RFE_3)\n",
    "RMSE_rfe4 = model.RMSE(predictions_OC.actual, predictions_OC.RFE_4)\n",
    "RMSE_rfe5 = model.RMSE(predictions_OC.actual, predictions_OC.RFE_5)\n",
    "RMSE_rfe6 = model.RMSE(predictions_OC.actual, predictions_OC.RFE_6)\n",
    "RMSE_rfe6 = model.RMSE(predictions_OC.actual, predictions_OC.RFE_6)\n",
    "RMSE_rfe7 = model.RMSE(predictions_OC.actual, predictions_OC.RFE_7)"
   ]
  },
  {
   "cell_type": "code",
   "execution_count": 32,
   "metadata": {},
   "outputs": [
    {
     "data": {
      "text/html": [
       "<div>\n",
       "<style scoped>\n",
       "    .dataframe tbody tr th:only-of-type {\n",
       "        vertical-align: middle;\n",
       "    }\n",
       "\n",
       "    .dataframe tbody tr th {\n",
       "        vertical-align: top;\n",
       "    }\n",
       "\n",
       "    .dataframe thead th {\n",
       "        text-align: right;\n",
       "    }\n",
       "</style>\n",
       "<table border=\"1\" class=\"dataframe\">\n",
       "  <thead>\n",
       "    <tr style=\"text-align: right;\">\n",
       "      <th></th>\n",
       "      <th>models</th>\n",
       "      <th>model_errors</th>\n",
       "    </tr>\n",
       "  </thead>\n",
       "  <tbody>\n",
       "    <tr>\n",
       "      <th>0</th>\n",
       "      <td>baseline</td>\n",
       "      <td>0.167</td>\n",
       "    </tr>\n",
       "    <tr>\n",
       "      <th>1</th>\n",
       "      <td>MVP</td>\n",
       "      <td>0.167</td>\n",
       "    </tr>\n",
       "    <tr>\n",
       "      <th>2</th>\n",
       "      <td>FE_1</td>\n",
       "      <td>0.166</td>\n",
       "    </tr>\n",
       "    <tr>\n",
       "      <th>3</th>\n",
       "      <td>FE_2</td>\n",
       "      <td>0.166</td>\n",
       "    </tr>\n",
       "    <tr>\n",
       "      <th>4</th>\n",
       "      <td>RFE_2</td>\n",
       "      <td>0.167</td>\n",
       "    </tr>\n",
       "    <tr>\n",
       "      <th>5</th>\n",
       "      <td>RFE_3</td>\n",
       "      <td>0.167</td>\n",
       "    </tr>\n",
       "    <tr>\n",
       "      <th>6</th>\n",
       "      <td>RFE_4</td>\n",
       "      <td>0.166</td>\n",
       "    </tr>\n",
       "    <tr>\n",
       "      <th>7</th>\n",
       "      <td>RFE_5</td>\n",
       "      <td>0.162</td>\n",
       "    </tr>\n",
       "    <tr>\n",
       "      <th>8</th>\n",
       "      <td>RFE_6</td>\n",
       "      <td>0.151</td>\n",
       "    </tr>\n",
       "    <tr>\n",
       "      <th>9</th>\n",
       "      <td>RFE_7</td>\n",
       "      <td>0.125</td>\n",
       "    </tr>\n",
       "  </tbody>\n",
       "</table>\n",
       "</div>"
      ],
      "text/plain": [
       "     models  model_errors\n",
       "0  baseline         0.167\n",
       "1       MVP         0.167\n",
       "2      FE_1         0.166\n",
       "3      FE_2         0.166\n",
       "4     RFE_2         0.167\n",
       "5     RFE_3         0.167\n",
       "6     RFE_4         0.166\n",
       "7     RFE_5         0.162\n",
       "8     RFE_6         0.151\n",
       "9     RFE_7         0.125"
      ]
     },
     "execution_count": 32,
     "metadata": {},
     "output_type": "execute_result"
    }
   ],
   "source": [
    "# evaluation df\n",
    "OC_eval_df = pd.DataFrame(np.array(['baseline', 'MVP', 'FE_1', 'FE_2', 'RFE_2', 'RFE_3',\n",
    "                                 'RFE_4', 'RFE_5', 'RFE_6', 'RFE_7']), columns=['models'])\n",
    "OC_eval_df['model_errors'] = np.array([RMSE_bl, RMSE_MVP, RMSE_fe1, RMSE_fe2, RMSE_rfe2, RMSE_rfe3,\n",
    "                                    RMSE_rfe4, RMSE_rfe5, RMSE_rfe6, RMSE_rfe7])\n",
    "\n",
    "OC_eval_df"
   ]
  },
  {
   "cell_type": "markdown",
   "metadata": {},
   "source": [
    "### Ventura County"
   ]
  },
  {
   "cell_type": "code",
   "execution_count": 33,
   "metadata": {},
   "outputs": [],
   "source": [
    "predictions_VC = pd.DataFrame({\n",
    "    'actual': y_train_VC.logerror,\n",
    "    'baseline': y_train_VC.logerror.mean()\n",
    "})"
   ]
  },
  {
   "cell_type": "code",
   "execution_count": 34,
   "metadata": {},
   "outputs": [],
   "source": [
    "# MVP model from before\n",
    "X = train_VC[MVP]\n",
    "\n",
    "poly = PolynomialFeatures(degree=3)\n",
    "X_poly = poly.fit_transform(X)\n",
    "lm_poly = LinearRegression(normalize=False).fit(X_poly, y_train_VC)\n",
    "\n",
    "predictions_VC['MVP'] = lm_poly.predict(X_poly)"
   ]
  },
  {
   "cell_type": "code",
   "execution_count": 35,
   "metadata": {},
   "outputs": [],
   "source": [
    "# Try adding cluster & binned features\n",
    "X = train_VC[FE_1]\n",
    "\n",
    "poly = PolynomialFeatures(degree=5)\n",
    "X_poly = poly.fit_transform(X)\n",
    "lm_poly = LinearRegression(normalize=False).fit(X_poly, y_train_VC)\n",
    "\n",
    "predictions_VC['FE_1'] = lm_poly.predict(X_poly)"
   ]
  },
  {
   "cell_type": "code",
   "execution_count": 36,
   "metadata": {},
   "outputs": [],
   "source": [
    "# Try adding cluster & binned features\n",
    "X = train_VC[FE_2]\n",
    "\n",
    "poly = PolynomialFeatures(degree=5)\n",
    "X_poly = poly.fit_transform(X)\n",
    "lm_poly = LinearRegression(normalize=False).fit(X_poly, y_train_VC)\n",
    "\n",
    "predictions_VC['FE_2'] = lm_poly.predict(X_poly)"
   ]
  },
  {
   "cell_type": "code",
   "execution_count": 37,
   "metadata": {},
   "outputs": [
    {
     "name": "stdout",
     "output_type": "stream",
     "text": [
      "['lotsizesquarefeet', 'cost_structure_sf']\n",
      "['lotsizesquarefeet', 'structuretaxvaluedollarcnt', 'cost_structure_sf']\n",
      "['bathroomcnt', 'lotsizesquarefeet', 'structuretaxvaluedollarcnt', 'cost_structure_sf']\n",
      "['bathroomcnt', 'lotsizesquarefeet', 'structuretaxvaluedollarcnt', 'tax_rate', 'cost_structure_sf']\n",
      "['bathroomcnt', 'lotsizesquarefeet', 'structuretaxvaluedollarcnt', 'tax_rate', 'cost_structure_sf', 'centroid_is_extra']\n",
      "['bathroomcnt', 'lotsizesquarefeet', 'structuretaxvaluedollarcnt', 'tax_rate', 'cost_structure_sf', 'centroid_roomcnt', 'centroid_is_extra']\n"
     ]
    },
    {
     "data": {
      "text/plain": [
       "(None, None, None, None, None, None)"
      ]
     },
     "execution_count": 37,
     "metadata": {},
     "output_type": "execute_result"
    }
   ],
   "source": [
    "# Use RFE to select top 2 - 7 features\n",
    "# first remove string columns\n",
    "X = train_VC.drop(columns=['transactiondate', 'median_income', 'county',\n",
    "                           'cluster_fancy', 'cluster_lot', 'census_tractandblock',\n",
    "                           'latitude', 'longitude', 'taxdelinquencyyear', 'taxamount',\n",
    "                           'age_bin', 'sf_bin', 'tax_bin', 'cluster_bins'\n",
    "                          ])\n",
    "\n",
    "model.select_rfe(X, y_train_VC, 2), model.select_rfe(X, y_train_VC, 3), model.select_rfe(X, y_train_VC, 4), model.select_rfe(X, y_train_VC, 5), model.select_rfe(X, y_train_VC, 6), model.select_rfe(X, y_train_VC, 7)"
   ]
  },
  {
   "cell_type": "code",
   "execution_count": 38,
   "metadata": {},
   "outputs": [],
   "source": [
    "VC_RFE_2 = ['lotsizesquarefeet', 'cost_structure_sf']\n",
    "VC_RFE_3 = ['lotsizesquarefeet', 'structuretaxvaluedollarcnt', 'cost_structure_sf']\n",
    "VC_RFE_4 = ['bathroomcnt', 'lotsizesquarefeet', 'structuretaxvaluedollarcnt', 'cost_structure_sf']\n",
    "VC_RFE_5 = ['bathroomcnt', 'lotsizesquarefeet', 'structuretaxvaluedollarcnt', 'tax_rate', 'cost_structure_sf']\n",
    "VC_RFE_6 = ['bathroomcnt', 'lotsizesquarefeet', 'structuretaxvaluedollarcnt', 'tax_rate', 'cost_structure_sf', 'centroid_is_extra']\n",
    "VC_RFE_7 = ['bathroomcnt', 'lotsizesquarefeet', 'structuretaxvaluedollarcnt', 'tax_rate', 'cost_structure_sf', 'centroid_roomcnt', 'centroid_is_extra']"
   ]
  },
  {
   "cell_type": "code",
   "execution_count": 39,
   "metadata": {},
   "outputs": [],
   "source": [
    "X = train_VC[VC_RFE_2]\n",
    "\n",
    "poly = PolynomialFeatures(degree=2)\n",
    "X_poly = poly.fit_transform(X)\n",
    "lm_poly = LinearRegression(normalize=False).fit(X_poly, y_train_VC)\n",
    "\n",
    "predictions_VC['RFE_2'] = lm_poly.predict(X_poly)"
   ]
  },
  {
   "cell_type": "code",
   "execution_count": 40,
   "metadata": {},
   "outputs": [],
   "source": [
    "X = train_VC[VC_RFE_3]\n",
    "\n",
    "poly = PolynomialFeatures(degree=3)\n",
    "X_poly = poly.fit_transform(X)\n",
    "lm_poly = LinearRegression(normalize=False).fit(X_poly, y_train_VC)\n",
    "\n",
    "predictions_VC['RFE_3'] = lm_poly.predict(X_poly)"
   ]
  },
  {
   "cell_type": "code",
   "execution_count": 41,
   "metadata": {},
   "outputs": [],
   "source": [
    "X = train_VC[VC_RFE_4]\n",
    "\n",
    "poly = PolynomialFeatures(degree=4)\n",
    "X_poly = poly.fit_transform(X)\n",
    "lm_poly = LinearRegression(normalize=False).fit(X_poly, y_train_VC)\n",
    "\n",
    "predictions_VC['RFE_4'] = lm_poly.predict(X_poly)"
   ]
  },
  {
   "cell_type": "code",
   "execution_count": 42,
   "metadata": {},
   "outputs": [],
   "source": [
    "X = train_VC[VC_RFE_5]\n",
    "\n",
    "poly = PolynomialFeatures(degree=5)\n",
    "X_poly = poly.fit_transform(X)\n",
    "lm_poly = LinearRegression(normalize=False).fit(X_poly, y_train_VC)\n",
    "\n",
    "predictions_VC['RFE_5'] = lm_poly.predict(X_poly)"
   ]
  },
  {
   "cell_type": "code",
   "execution_count": 43,
   "metadata": {},
   "outputs": [],
   "source": [
    "X = train_VC[VC_RFE_6]\n",
    "\n",
    "poly = PolynomialFeatures(degree=6)\n",
    "X_poly = poly.fit_transform(X)\n",
    "lm_poly = LinearRegression(normalize=False).fit(X_poly, y_train_VC)\n",
    "\n",
    "predictions_VC['RFE_6'] = lm_poly.predict(X_poly)"
   ]
  },
  {
   "cell_type": "code",
   "execution_count": 44,
   "metadata": {},
   "outputs": [],
   "source": [
    "X = train_VC[VC_RFE_7]\n",
    "\n",
    "poly = PolynomialFeatures(degree=7)\n",
    "X_poly = poly.fit_transform(X)\n",
    "lm_poly = LinearRegression(normalize=False).fit(X_poly, y_train_VC)\n",
    "\n",
    "predictions_VC['RFE_7'] = lm_poly.predict(X_poly)"
   ]
  },
  {
   "cell_type": "code",
   "execution_count": 45,
   "metadata": {},
   "outputs": [],
   "source": [
    "# Set up RMSE functions\n",
    "RMSE_bl = model.RMSE(predictions_VC.actual, predictions_VC.baseline)\n",
    "RMSE_MVP = model.RMSE(predictions_VC.actual, predictions_VC.MVP)\n",
    "RMSE_fe1 = model.RMSE(predictions_VC.actual, predictions_VC.FE_1)\n",
    "RMSE_fe2 = model.RMSE(predictions_VC.actual, predictions_VC.FE_2)\n",
    "RMSE_rfe2 = model.RMSE(predictions_VC.actual, predictions_VC.RFE_2)\n",
    "RMSE_rfe3 = model.RMSE(predictions_VC.actual, predictions_VC.RFE_3)\n",
    "RMSE_rfe4 = model.RMSE(predictions_VC.actual, predictions_VC.RFE_4)\n",
    "RMSE_rfe5 = model.RMSE(predictions_VC.actual, predictions_VC.RFE_5)\n",
    "RMSE_rfe6 = model.RMSE(predictions_VC.actual, predictions_VC.RFE_6)\n",
    "RMSE_rfe6 = model.RMSE(predictions_VC.actual, predictions_VC.RFE_6)\n",
    "RMSE_rfe7 = model.RMSE(predictions_VC.actual, predictions_VC.RFE_7)"
   ]
  },
  {
   "cell_type": "code",
   "execution_count": 46,
   "metadata": {},
   "outputs": [
    {
     "data": {
      "text/html": [
       "<div>\n",
       "<style scoped>\n",
       "    .dataframe tbody tr th:only-of-type {\n",
       "        vertical-align: middle;\n",
       "    }\n",
       "\n",
       "    .dataframe tbody tr th {\n",
       "        vertical-align: top;\n",
       "    }\n",
       "\n",
       "    .dataframe thead th {\n",
       "        text-align: right;\n",
       "    }\n",
       "</style>\n",
       "<table border=\"1\" class=\"dataframe\">\n",
       "  <thead>\n",
       "    <tr style=\"text-align: right;\">\n",
       "      <th></th>\n",
       "      <th>models</th>\n",
       "      <th>model_errors</th>\n",
       "    </tr>\n",
       "  </thead>\n",
       "  <tbody>\n",
       "    <tr>\n",
       "      <th>0</th>\n",
       "      <td>baseline</td>\n",
       "      <td>0.216</td>\n",
       "    </tr>\n",
       "    <tr>\n",
       "      <th>1</th>\n",
       "      <td>MVP</td>\n",
       "      <td>0.214</td>\n",
       "    </tr>\n",
       "    <tr>\n",
       "      <th>2</th>\n",
       "      <td>FE_1</td>\n",
       "      <td>0.215</td>\n",
       "    </tr>\n",
       "    <tr>\n",
       "      <th>3</th>\n",
       "      <td>FE_2</td>\n",
       "      <td>0.215</td>\n",
       "    </tr>\n",
       "    <tr>\n",
       "      <th>4</th>\n",
       "      <td>RFE_2</td>\n",
       "      <td>0.216</td>\n",
       "    </tr>\n",
       "    <tr>\n",
       "      <th>5</th>\n",
       "      <td>RFE_3</td>\n",
       "      <td>0.215</td>\n",
       "    </tr>\n",
       "    <tr>\n",
       "      <th>6</th>\n",
       "      <td>RFE_4</td>\n",
       "      <td>0.209</td>\n",
       "    </tr>\n",
       "    <tr>\n",
       "      <th>7</th>\n",
       "      <td>RFE_5</td>\n",
       "      <td>0.191</td>\n",
       "    </tr>\n",
       "    <tr>\n",
       "      <th>8</th>\n",
       "      <td>RFE_6</td>\n",
       "      <td>0.169</td>\n",
       "    </tr>\n",
       "    <tr>\n",
       "      <th>9</th>\n",
       "      <td>RFE_7</td>\n",
       "      <td>0.158</td>\n",
       "    </tr>\n",
       "  </tbody>\n",
       "</table>\n",
       "</div>"
      ],
      "text/plain": [
       "     models  model_errors\n",
       "0  baseline         0.216\n",
       "1       MVP         0.214\n",
       "2      FE_1         0.215\n",
       "3      FE_2         0.215\n",
       "4     RFE_2         0.216\n",
       "5     RFE_3         0.215\n",
       "6     RFE_4         0.209\n",
       "7     RFE_5         0.191\n",
       "8     RFE_6         0.169\n",
       "9     RFE_7         0.158"
      ]
     },
     "execution_count": 46,
     "metadata": {},
     "output_type": "execute_result"
    }
   ],
   "source": [
    "# evaluation df\n",
    "VC_eval_df = pd.DataFrame(np.array(['baseline', 'MVP', 'FE_1', 'FE_2', 'RFE_2', 'RFE_3',\n",
    "                                 'RFE_4', 'RFE_5', 'RFE_6', 'RFE_7']), columns=['models'])\n",
    "VC_eval_df['model_errors'] = np.array([RMSE_bl, RMSE_MVP, RMSE_fe1, RMSE_fe2, RMSE_rfe2, RMSE_rfe3,\n",
    "                                    RMSE_rfe4, RMSE_rfe5, RMSE_rfe6, RMSE_rfe7])\n",
    "\n",
    "VC_eval_df"
   ]
  },
  {
   "cell_type": "markdown",
   "metadata": {},
   "source": [
    "### Check performance on valid set"
   ]
  },
  {
   "cell_type": "code",
   "execution_count": 47,
   "metadata": {},
   "outputs": [],
   "source": [
    "valid_predictions_LA = pd.DataFrame({\n",
    "    'actual': y_valid_LA.logerror,\n",
    "    'baseline': y_valid_LA.logerror.mean()\n",
    "})"
   ]
  },
  {
   "cell_type": "code",
   "execution_count": 48,
   "metadata": {},
   "outputs": [],
   "source": [
    "# MVP model from before\n",
    "X = train_LA[MVP]\n",
    "\n",
    "poly = PolynomialFeatures(degree=3)\n",
    "X_poly = poly.fit_transform(X)\n",
    "lm_poly = LinearRegression(normalize=False).fit(X_poly, y_train_LA)\n",
    "\n",
    "X_valid = valid_LA[MVP]\n",
    "\n",
    "X_valid_poly = poly.transform(X_valid)\n",
    "valid_predictions_LA['MVP'] = lm_poly.predict(X_valid_poly)"
   ]
  },
  {
   "cell_type": "code",
   "execution_count": 49,
   "metadata": {},
   "outputs": [],
   "source": [
    "# Try adding cluster & binned features\n",
    "X = train_LA[FE_1]\n",
    "\n",
    "poly = PolynomialFeatures(degree=5)\n",
    "X_poly = poly.fit_transform(X)\n",
    "lm_poly = LinearRegression(normalize=False).fit(X_poly, y_train_LA)\n",
    "\n",
    "X_valid = valid_LA[FE_1]\n",
    "\n",
    "X_valid_poly = poly.transform(X_valid)\n",
    "valid_predictions_LA['FE_1'] = lm_poly.predict(X_valid_poly)"
   ]
  },
  {
   "cell_type": "code",
   "execution_count": 50,
   "metadata": {},
   "outputs": [],
   "source": [
    "# Try adding cluster & binned features\n",
    "X = train_LA[FE_2]\n",
    "\n",
    "poly = PolynomialFeatures(degree=5)\n",
    "X_poly = poly.fit_transform(X)\n",
    "lm_poly = LinearRegression(normalize=False).fit(X_poly, y_train_LA)\n",
    "\n",
    "X_valid = valid_LA[FE_2]\n",
    "\n",
    "X_valid_poly = poly.transform(X_valid)\n",
    "valid_predictions_LA['FE_2'] = lm_poly.predict(X_valid_poly)"
   ]
  },
  {
   "cell_type": "code",
   "execution_count": 51,
   "metadata": {},
   "outputs": [],
   "source": [
    "X = train_LA[LA_RFE_2]\n",
    "\n",
    "poly = PolynomialFeatures(degree=2)\n",
    "X_poly = poly.fit_transform(X)\n",
    "lm_poly = LinearRegression(normalize=False).fit(X_poly, y_train_LA)\n",
    "\n",
    "X_valid = valid_LA[LA_RFE_2]\n",
    "\n",
    "X_valid_poly = poly.transform(X_valid)\n",
    "valid_predictions_LA['RFE_2'] = lm_poly.predict(X_valid_poly)"
   ]
  },
  {
   "cell_type": "code",
   "execution_count": 52,
   "metadata": {},
   "outputs": [],
   "source": [
    "X = train_LA[LA_RFE_3]\n",
    "\n",
    "poly = PolynomialFeatures(degree=3)\n",
    "X_poly = poly.fit_transform(X)\n",
    "lm_poly = LinearRegression(normalize=False).fit(X_poly, y_train_LA)\n",
    "\n",
    "X_valid = valid_LA[LA_RFE_3]\n",
    "\n",
    "X_valid_poly = poly.transform(X_valid)\n",
    "valid_predictions_LA['RFE_3'] = lm_poly.predict(X_valid_poly)"
   ]
  },
  {
   "cell_type": "code",
   "execution_count": 53,
   "metadata": {},
   "outputs": [],
   "source": [
    "X = train_LA[LA_RFE_4]\n",
    "\n",
    "poly = PolynomialFeatures(degree=4)\n",
    "X_poly = poly.fit_transform(X)\n",
    "lm_poly = LinearRegression(normalize=False).fit(X_poly, y_train_LA)\n",
    "\n",
    "X_valid = valid_LA[LA_RFE_4]\n",
    "\n",
    "X_valid_poly = poly.transform(X_valid)\n",
    "valid_predictions_LA['RFE_4'] = lm_poly.predict(X_valid_poly)"
   ]
  },
  {
   "cell_type": "code",
   "execution_count": 54,
   "metadata": {},
   "outputs": [],
   "source": [
    "X = train_LA[LA_RFE_5]\n",
    "\n",
    "poly = PolynomialFeatures(degree=5)\n",
    "X_poly = poly.fit_transform(X)\n",
    "lm_poly = LinearRegression(normalize=False).fit(X_poly, y_train_LA)\n",
    "\n",
    "X_valid = valid_LA[LA_RFE_5]\n",
    "\n",
    "X_valid_poly = poly.transform(X_valid)\n",
    "valid_predictions_LA['RFE_5'] = lm_poly.predict(X_valid_poly)"
   ]
  },
  {
   "cell_type": "code",
   "execution_count": 55,
   "metadata": {},
   "outputs": [],
   "source": [
    "X = train_LA[LA_RFE_6]\n",
    "\n",
    "poly = PolynomialFeatures(degree=6)\n",
    "X_poly = poly.fit_transform(X)\n",
    "lm_poly = LinearRegression(normalize=False).fit(X_poly, y_train_LA)\n",
    "\n",
    "X_valid = valid_LA[LA_RFE_6]\n",
    "\n",
    "X_valid_poly = poly.transform(X_valid)\n",
    "valid_predictions_LA['RFE_6'] = lm_poly.predict(X_valid_poly)"
   ]
  },
  {
   "cell_type": "code",
   "execution_count": 56,
   "metadata": {},
   "outputs": [],
   "source": [
    "X = train_LA[LA_RFE_7]\n",
    "\n",
    "poly = PolynomialFeatures(degree=7)\n",
    "X_poly = poly.fit_transform(X)\n",
    "lm_poly = LinearRegression(normalize=False).fit(X_poly, y_train_LA)\n",
    "\n",
    "X_valid = valid_LA[LA_RFE_7]\n",
    "\n",
    "X_valid_poly = poly.transform(X_valid)\n",
    "valid_predictions_LA['RFE_7'] = lm_poly.predict(X_valid_poly)"
   ]
  },
  {
   "cell_type": "code",
   "execution_count": 57,
   "metadata": {},
   "outputs": [],
   "source": [
    "# Set up RMSE functions\n",
    "RMSE_blv = model.RMSE(valid_predictions_LA.actual, valid_predictions_LA.baseline)\n",
    "RMSE_MVPv = model.RMSE(valid_predictions_LA.actual, valid_predictions_LA.MVP)\n",
    "RMSE_fe1v = model.RMSE(valid_predictions_LA.actual, valid_predictions_LA.FE_1)\n",
    "RMSE_fe2v = model.RMSE(valid_predictions_LA.actual, valid_predictions_LA.FE_2)\n",
    "RMSE_rfe2v = model.RMSE(valid_predictions_LA.actual, valid_predictions_LA.RFE_2)\n",
    "RMSE_rfe3v = model.RMSE(valid_predictions_LA.actual, valid_predictions_LA.RFE_3)\n",
    "RMSE_rfe4v = model.RMSE(valid_predictions_LA.actual, valid_predictions_LA.RFE_4)\n",
    "RMSE_rfe5v = model.RMSE(valid_predictions_LA.actual, valid_predictions_LA.RFE_5)\n",
    "RMSE_rfe6v = model.RMSE(valid_predictions_LA.actual, valid_predictions_LA.RFE_6)\n",
    "RMSE_rfe7v = model.RMSE(valid_predictions_LA.actual, valid_predictions_LA.RFE_7)"
   ]
  },
  {
   "cell_type": "code",
   "execution_count": 58,
   "metadata": {},
   "outputs": [
    {
     "data": {
      "text/html": [
       "<div>\n",
       "<style scoped>\n",
       "    .dataframe tbody tr th:only-of-type {\n",
       "        vertical-align: middle;\n",
       "    }\n",
       "\n",
       "    .dataframe tbody tr th {\n",
       "        vertical-align: top;\n",
       "    }\n",
       "\n",
       "    .dataframe thead th {\n",
       "        text-align: right;\n",
       "    }\n",
       "</style>\n",
       "<table border=\"1\" class=\"dataframe\">\n",
       "  <thead>\n",
       "    <tr style=\"text-align: right;\">\n",
       "      <th></th>\n",
       "      <th>models</th>\n",
       "      <th>model_errors</th>\n",
       "      <th>valid_errors</th>\n",
       "    </tr>\n",
       "  </thead>\n",
       "  <tbody>\n",
       "    <tr>\n",
       "      <th>0</th>\n",
       "      <td>baseline</td>\n",
       "      <td>0.153</td>\n",
       "      <td>0.160</td>\n",
       "    </tr>\n",
       "    <tr>\n",
       "      <th>1</th>\n",
       "      <td>MVP</td>\n",
       "      <td>0.153</td>\n",
       "      <td>0.160</td>\n",
       "    </tr>\n",
       "    <tr>\n",
       "      <th>2</th>\n",
       "      <td>FE_1</td>\n",
       "      <td>0.153</td>\n",
       "      <td>0.160</td>\n",
       "    </tr>\n",
       "    <tr>\n",
       "      <th>3</th>\n",
       "      <td>FE_2</td>\n",
       "      <td>0.152</td>\n",
       "      <td>0.163</td>\n",
       "    </tr>\n",
       "    <tr>\n",
       "      <th>4</th>\n",
       "      <td>RFE_2</td>\n",
       "      <td>0.153</td>\n",
       "      <td>0.160</td>\n",
       "    </tr>\n",
       "    <tr>\n",
       "      <th>5</th>\n",
       "      <td>RFE_3</td>\n",
       "      <td>0.153</td>\n",
       "      <td>0.161</td>\n",
       "    </tr>\n",
       "    <tr>\n",
       "      <th>6</th>\n",
       "      <td>RFE_4</td>\n",
       "      <td>0.153</td>\n",
       "      <td>0.208</td>\n",
       "    </tr>\n",
       "    <tr>\n",
       "      <th>7</th>\n",
       "      <td>RFE_5</td>\n",
       "      <td>0.152</td>\n",
       "      <td>3.336</td>\n",
       "    </tr>\n",
       "    <tr>\n",
       "      <th>8</th>\n",
       "      <td>RFE_6</td>\n",
       "      <td>0.152</td>\n",
       "      <td>84.944</td>\n",
       "    </tr>\n",
       "    <tr>\n",
       "      <th>9</th>\n",
       "      <td>RFE_7</td>\n",
       "      <td>0.150</td>\n",
       "      <td>80269.390</td>\n",
       "    </tr>\n",
       "  </tbody>\n",
       "</table>\n",
       "</div>"
      ],
      "text/plain": [
       "     models  model_errors  valid_errors\n",
       "0  baseline         0.153         0.160\n",
       "1       MVP         0.153         0.160\n",
       "2      FE_1         0.153         0.160\n",
       "3      FE_2         0.152         0.163\n",
       "4     RFE_2         0.153         0.160\n",
       "5     RFE_3         0.153         0.161\n",
       "6     RFE_4         0.153         0.208\n",
       "7     RFE_5         0.152         3.336\n",
       "8     RFE_6         0.152        84.944\n",
       "9     RFE_7         0.150     80269.390"
      ]
     },
     "execution_count": 58,
     "metadata": {},
     "output_type": "execute_result"
    }
   ],
   "source": [
    "LA_eval_df['valid_errors'] = np.array([RMSE_blv, RMSE_MVPv, RMSE_fe1v, RMSE_fe2v, RMSE_rfe2v, RMSE_rfe3v,\n",
    "                                    RMSE_rfe4v, RMSE_rfe5v, RMSE_rfe6v, RMSE_rfe7v])\n",
    "\n",
    "LA_eval_df"
   ]
  },
  {
   "cell_type": "markdown",
   "metadata": {},
   "source": [
    "### Orange County"
   ]
  },
  {
   "cell_type": "code",
   "execution_count": 59,
   "metadata": {},
   "outputs": [],
   "source": [
    "valid_predictions_OC = pd.DataFrame({\n",
    "    'actual': y_valid_OC.logerror,\n",
    "    'baseline': y_valid_OC.logerror.mean()\n",
    "})"
   ]
  },
  {
   "cell_type": "code",
   "execution_count": 60,
   "metadata": {},
   "outputs": [],
   "source": [
    "# MVP model from before\n",
    "X = train_OC[MVP]\n",
    "\n",
    "poly = PolynomialFeatures(degree=3)\n",
    "X_poly = poly.fit_transform(X)\n",
    "lm_poly = LinearRegression(normalize=False).fit(X_poly, y_train_OC)\n",
    "\n",
    "X_valid = valid_OC[['bathroomcnt', 'bedroomcnt', 'finishedsquarefeet12']]\n",
    "\n",
    "X_valid_poly = poly.transform(X_valid)\n",
    "valid_predictions_OC['MVP'] = lm_poly.predict(X_valid_poly)"
   ]
  },
  {
   "cell_type": "code",
   "execution_count": 61,
   "metadata": {},
   "outputs": [],
   "source": [
    "# Try adding cluster & binned features\n",
    "X = train_OC[FE_1]\n",
    "\n",
    "poly = PolynomialFeatures(degree=5)\n",
    "X_poly = poly.fit_transform(X)\n",
    "lm_poly = LinearRegression(normalize=False).fit(X_poly, y_train_OC)\n",
    "\n",
    "X_valid = valid_OC[FE_1]\n",
    "\n",
    "X_valid_poly = poly.transform(X_valid)\n",
    "valid_predictions_OC['FE_1'] = lm_poly.predict(X_valid_poly)"
   ]
  },
  {
   "cell_type": "code",
   "execution_count": 62,
   "metadata": {},
   "outputs": [],
   "source": [
    "# Try adding cluster & binned features\n",
    "X = train_OC[FE_2]\n",
    "\n",
    "poly = PolynomialFeatures(degree=5)\n",
    "X_poly = poly.fit_transform(X)\n",
    "lm_poly = LinearRegression(normalize=False).fit(X_poly, y_train_OC)\n",
    "\n",
    "X_valid = valid_OC[FE_2]\n",
    "\n",
    "X_valid_poly = poly.transform(X_valid)\n",
    "valid_predictions_OC['FE_2'] = lm_poly.predict(X_valid_poly)"
   ]
  },
  {
   "cell_type": "code",
   "execution_count": 63,
   "metadata": {},
   "outputs": [],
   "source": [
    "X = train_OC[OC_RFE_2]\n",
    "\n",
    "poly = PolynomialFeatures(degree=2)\n",
    "X_poly = poly.fit_transform(X)\n",
    "lm_poly = LinearRegression(normalize=False).fit(X_poly, y_train_OC)\n",
    "\n",
    "X_valid = valid_OC[OC_RFE_2]\n",
    "\n",
    "X_valid_poly = poly.transform(X_valid)\n",
    "valid_predictions_OC['RFE_2'] = lm_poly.predict(X_valid_poly)"
   ]
  },
  {
   "cell_type": "code",
   "execution_count": 64,
   "metadata": {},
   "outputs": [],
   "source": [
    "X = train_OC[OC_RFE_3]\n",
    "\n",
    "poly = PolynomialFeatures(degree=3)\n",
    "X_poly = poly.fit_transform(X)\n",
    "lm_poly = LinearRegression(normalize=False).fit(X_poly, y_train_OC)\n",
    "\n",
    "X_valid = valid_OC[OC_RFE_3]\n",
    "\n",
    "X_valid_poly = poly.transform(X_valid)\n",
    "valid_predictions_OC['RFE_3'] = lm_poly.predict(X_valid_poly)"
   ]
  },
  {
   "cell_type": "code",
   "execution_count": 65,
   "metadata": {},
   "outputs": [],
   "source": [
    "X = train_OC[OC_RFE_4]\n",
    "\n",
    "poly = PolynomialFeatures(degree=4)\n",
    "X_poly = poly.fit_transform(X)\n",
    "lm_poly = LinearRegression(normalize=False).fit(X_poly, y_train_OC)\n",
    "\n",
    "X_valid = valid_OC[OC_RFE_4]\n",
    "\n",
    "X_valid_poly = poly.transform(X_valid)\n",
    "valid_predictions_OC['RFE_4'] = lm_poly.predict(X_valid_poly)"
   ]
  },
  {
   "cell_type": "code",
   "execution_count": 66,
   "metadata": {},
   "outputs": [],
   "source": [
    "X = train_OC[OC_RFE_5]\n",
    "\n",
    "poly = PolynomialFeatures(degree=5)\n",
    "X_poly = poly.fit_transform(X)\n",
    "lm_poly = LinearRegression(normalize=False).fit(X_poly, y_train_OC)\n",
    "\n",
    "X_valid = valid_OC[OC_RFE_5]\n",
    "\n",
    "X_valid_poly = poly.transform(X_valid)\n",
    "valid_predictions_OC['RFE_5'] = lm_poly.predict(X_valid_poly)"
   ]
  },
  {
   "cell_type": "code",
   "execution_count": 67,
   "metadata": {},
   "outputs": [],
   "source": [
    "X = train_OC[OC_RFE_6]\n",
    "\n",
    "poly = PolynomialFeatures(degree=6)\n",
    "X_poly = poly.fit_transform(X)\n",
    "lm_poly = LinearRegression(normalize=False).fit(X_poly, y_train_OC)\n",
    "\n",
    "X_valid = valid_OC[OC_RFE_6]\n",
    "\n",
    "X_valid_poly = poly.transform(X_valid)\n",
    "valid_predictions_OC['RFE_6'] = lm_poly.predict(X_valid_poly)"
   ]
  },
  {
   "cell_type": "code",
   "execution_count": 68,
   "metadata": {},
   "outputs": [],
   "source": [
    "X = train_OC[OC_RFE_7]\n",
    "\n",
    "poly = PolynomialFeatures(degree=7)\n",
    "X_poly = poly.fit_transform(X)\n",
    "lm_poly = LinearRegression(normalize=False).fit(X_poly, y_train_OC)\n",
    "\n",
    "X_valid = valid_OC[OC_RFE_7]\n",
    "\n",
    "X_valid_poly = poly.transform(X_valid)\n",
    "valid_predictions_OC['RFE_7'] = lm_poly.predict(X_valid_poly)"
   ]
  },
  {
   "cell_type": "code",
   "execution_count": 69,
   "metadata": {},
   "outputs": [],
   "source": [
    "# Set up RMSE functions\n",
    "RMSE_blv = model.RMSE(valid_predictions_OC.actual, valid_predictions_OC.baseline)\n",
    "RMSE_MVPv = model.RMSE(valid_predictions_OC.actual, valid_predictions_OC.MVP)\n",
    "RMSE_fe1v = model.RMSE(valid_predictions_OC.actual, valid_predictions_OC.FE_1)\n",
    "RMSE_fe2v = model.RMSE(valid_predictions_OC.actual, valid_predictions_OC.FE_2)\n",
    "RMSE_rfe2v = model.RMSE(valid_predictions_OC.actual, valid_predictions_OC.RFE_2)\n",
    "RMSE_rfe3v = model.RMSE(valid_predictions_OC.actual, valid_predictions_OC.RFE_3)\n",
    "RMSE_rfe4v = model.RMSE(valid_predictions_OC.actual, valid_predictions_OC.RFE_4)\n",
    "RMSE_rfe5v = model.RMSE(valid_predictions_OC.actual, valid_predictions_OC.RFE_5)\n",
    "RMSE_rfe6v = model.RMSE(valid_predictions_OC.actual, valid_predictions_OC.RFE_6)\n",
    "RMSE_rfe7v = model.RMSE(valid_predictions_OC.actual, valid_predictions_OC.RFE_7)"
   ]
  },
  {
   "cell_type": "code",
   "execution_count": 70,
   "metadata": {},
   "outputs": [
    {
     "data": {
      "text/html": [
       "<div>\n",
       "<style scoped>\n",
       "    .dataframe tbody tr th:only-of-type {\n",
       "        vertical-align: middle;\n",
       "    }\n",
       "\n",
       "    .dataframe tbody tr th {\n",
       "        vertical-align: top;\n",
       "    }\n",
       "\n",
       "    .dataframe thead th {\n",
       "        text-align: right;\n",
       "    }\n",
       "</style>\n",
       "<table border=\"1\" class=\"dataframe\">\n",
       "  <thead>\n",
       "    <tr style=\"text-align: right;\">\n",
       "      <th></th>\n",
       "      <th>models</th>\n",
       "      <th>model_errors</th>\n",
       "      <th>valid_errors</th>\n",
       "    </tr>\n",
       "  </thead>\n",
       "  <tbody>\n",
       "    <tr>\n",
       "      <th>0</th>\n",
       "      <td>baseline</td>\n",
       "      <td>0.167</td>\n",
       "      <td>0.182</td>\n",
       "    </tr>\n",
       "    <tr>\n",
       "      <th>1</th>\n",
       "      <td>MVP</td>\n",
       "      <td>0.167</td>\n",
       "      <td>0.182</td>\n",
       "    </tr>\n",
       "    <tr>\n",
       "      <th>2</th>\n",
       "      <td>FE_1</td>\n",
       "      <td>0.166</td>\n",
       "      <td>69437359993.772</td>\n",
       "    </tr>\n",
       "    <tr>\n",
       "      <th>3</th>\n",
       "      <td>FE_2</td>\n",
       "      <td>0.166</td>\n",
       "      <td>0.182</td>\n",
       "    </tr>\n",
       "    <tr>\n",
       "      <th>4</th>\n",
       "      <td>RFE_2</td>\n",
       "      <td>0.167</td>\n",
       "      <td>0.185</td>\n",
       "    </tr>\n",
       "    <tr>\n",
       "      <th>5</th>\n",
       "      <td>RFE_3</td>\n",
       "      <td>0.167</td>\n",
       "      <td>0.204</td>\n",
       "    </tr>\n",
       "    <tr>\n",
       "      <th>6</th>\n",
       "      <td>RFE_4</td>\n",
       "      <td>0.166</td>\n",
       "      <td>1.273</td>\n",
       "    </tr>\n",
       "    <tr>\n",
       "      <th>7</th>\n",
       "      <td>RFE_5</td>\n",
       "      <td>0.162</td>\n",
       "      <td>26.542</td>\n",
       "    </tr>\n",
       "    <tr>\n",
       "      <th>8</th>\n",
       "      <td>RFE_6</td>\n",
       "      <td>0.151</td>\n",
       "      <td>32426461.598</td>\n",
       "    </tr>\n",
       "    <tr>\n",
       "      <th>9</th>\n",
       "      <td>RFE_7</td>\n",
       "      <td>0.125</td>\n",
       "      <td>159947.991</td>\n",
       "    </tr>\n",
       "  </tbody>\n",
       "</table>\n",
       "</div>"
      ],
      "text/plain": [
       "     models  model_errors    valid_errors\n",
       "0  baseline         0.167           0.182\n",
       "1       MVP         0.167           0.182\n",
       "2      FE_1         0.166 69437359993.772\n",
       "3      FE_2         0.166           0.182\n",
       "4     RFE_2         0.167           0.185\n",
       "5     RFE_3         0.167           0.204\n",
       "6     RFE_4         0.166           1.273\n",
       "7     RFE_5         0.162          26.542\n",
       "8     RFE_6         0.151    32426461.598\n",
       "9     RFE_7         0.125      159947.991"
      ]
     },
     "execution_count": 70,
     "metadata": {},
     "output_type": "execute_result"
    }
   ],
   "source": [
    "OC_eval_df['valid_errors'] = np.array([RMSE_blv, RMSE_MVPv, RMSE_fe1v, RMSE_fe2v, RMSE_rfe2v, RMSE_rfe3v,\n",
    "                                    RMSE_rfe4v, RMSE_rfe5v, RMSE_rfe6v, RMSE_rfe7v])\n",
    "\n",
    "OC_eval_df"
   ]
  },
  {
   "cell_type": "markdown",
   "metadata": {},
   "source": [
    "### Ventura County"
   ]
  },
  {
   "cell_type": "code",
   "execution_count": 71,
   "metadata": {},
   "outputs": [],
   "source": [
    "valid_predictions_VC = pd.DataFrame({\n",
    "    'actual': y_valid_VC.logerror,\n",
    "    'baseline': y_valid_VC.logerror.mean()\n",
    "})"
   ]
  },
  {
   "cell_type": "code",
   "execution_count": 72,
   "metadata": {},
   "outputs": [],
   "source": [
    "# MVP model from before\n",
    "X = train_VC[MVP]\n",
    "\n",
    "poly = PolynomialFeatures(degree=3)\n",
    "X_poly = poly.fit_transform(X)\n",
    "lm_poly = LinearRegression(normalize=False).fit(X_poly, y_train_VC)\n",
    "\n",
    "X_valid = valid_VC[MVP]\n",
    "\n",
    "X_valid_poly = poly.transform(X_valid)\n",
    "valid_predictions_VC['MVP'] = lm_poly.predict(X_valid_poly)"
   ]
  },
  {
   "cell_type": "code",
   "execution_count": 73,
   "metadata": {},
   "outputs": [],
   "source": [
    "X = train_VC[FE_1]\n",
    "\n",
    "poly = PolynomialFeatures(degree=5)\n",
    "X_poly = poly.fit_transform(X)\n",
    "lm_poly = LinearRegression(normalize=False).fit(X_poly, y_train_VC)\n",
    "\n",
    "X_valid = valid_VC[FE_1]\n",
    "\n",
    "X_valid_poly = poly.transform(X_valid)\n",
    "valid_predictions_VC['FE_1'] = lm_poly.predict(X_valid_poly)"
   ]
  },
  {
   "cell_type": "code",
   "execution_count": 74,
   "metadata": {},
   "outputs": [],
   "source": [
    "X = train_VC[FE_2]\n",
    "\n",
    "poly = PolynomialFeatures(degree=5)\n",
    "X_poly = poly.fit_transform(X)\n",
    "lm_poly = LinearRegression(normalize=False).fit(X_poly, y_train_VC)\n",
    "\n",
    "X_valid = valid_VC[FE_2]\n",
    "\n",
    "X_valid_poly = poly.transform(X_valid)\n",
    "valid_predictions_VC['FE_2'] = lm_poly.predict(X_valid_poly)"
   ]
  },
  {
   "cell_type": "code",
   "execution_count": 75,
   "metadata": {},
   "outputs": [],
   "source": [
    "X = train_VC[VC_RFE_2]\n",
    "\n",
    "poly = PolynomialFeatures(degree=2)\n",
    "X_poly = poly.fit_transform(X)\n",
    "lm_poly = LinearRegression(normalize=False).fit(X_poly, y_train_VC)\n",
    "\n",
    "X_valid = valid_VC[VC_RFE_2]\n",
    "\n",
    "X_valid_poly = poly.transform(X_valid)\n",
    "valid_predictions_VC['RFE_2'] = lm_poly.predict(X_valid_poly)"
   ]
  },
  {
   "cell_type": "code",
   "execution_count": 76,
   "metadata": {},
   "outputs": [],
   "source": [
    "X = train_VC[VC_RFE_3]\n",
    "\n",
    "poly = PolynomialFeatures(degree=3)\n",
    "X_poly = poly.fit_transform(X)\n",
    "lm_poly = LinearRegression(normalize=False).fit(X_poly, y_train_VC)\n",
    "\n",
    "X_valid = valid_VC[VC_RFE_3]\n",
    "\n",
    "X_valid_poly = poly.transform(X_valid)\n",
    "valid_predictions_VC['RFE_3'] = lm_poly.predict(X_valid_poly)"
   ]
  },
  {
   "cell_type": "code",
   "execution_count": 77,
   "metadata": {},
   "outputs": [],
   "source": [
    "X = train_VC[VC_RFE_4]\n",
    "\n",
    "poly = PolynomialFeatures(degree=4)\n",
    "X_poly = poly.fit_transform(X)\n",
    "lm_poly = LinearRegression(normalize=False).fit(X_poly, y_train_VC)\n",
    "\n",
    "X_valid = valid_VC[VC_RFE_4]\n",
    "\n",
    "X_valid_poly = poly.transform(X_valid)\n",
    "valid_predictions_VC['RFE_4'] = lm_poly.predict(X_valid_poly)"
   ]
  },
  {
   "cell_type": "code",
   "execution_count": 78,
   "metadata": {},
   "outputs": [],
   "source": [
    "X = train_VC[VC_RFE_5]\n",
    "\n",
    "poly = PolynomialFeatures(degree=5)\n",
    "X_poly = poly.fit_transform(X)\n",
    "lm_poly = LinearRegression(normalize=False).fit(X_poly, y_train_VC)\n",
    "\n",
    "X_valid = valid_VC[VC_RFE_5]\n",
    "\n",
    "\n",
    "X_valid_poly = poly.transform(X_valid)\n",
    "valid_predictions_VC['RFE_5'] = lm_poly.predict(X_valid_poly)"
   ]
  },
  {
   "cell_type": "code",
   "execution_count": 79,
   "metadata": {},
   "outputs": [],
   "source": [
    "X = train_VC[VC_RFE_6]\n",
    "\n",
    "poly = PolynomialFeatures(degree=6)\n",
    "X_poly = poly.fit_transform(X)\n",
    "lm_poly = LinearRegression(normalize=False).fit(X_poly, y_train_VC)\n",
    "\n",
    "X_valid = valid_VC[VC_RFE_6]\n",
    "\n",
    "X_valid_poly = poly.transform(X_valid)\n",
    "valid_predictions_VC['RFE_6'] = lm_poly.predict(X_valid_poly)"
   ]
  },
  {
   "cell_type": "code",
   "execution_count": 80,
   "metadata": {},
   "outputs": [],
   "source": [
    "X = train_VC[VC_RFE_7]\n",
    "\n",
    "poly = PolynomialFeatures(degree=7)\n",
    "X_poly = poly.fit_transform(X)\n",
    "lm_poly = LinearRegression(normalize=False).fit(X_poly, y_train_VC)\n",
    "\n",
    "X_valid = valid_VC[VC_RFE_7]\n",
    "\n",
    "X_valid_poly = poly.transform(X_valid)\n",
    "valid_predictions_VC['RFE_7'] = lm_poly.predict(X_valid_poly)"
   ]
  },
  {
   "cell_type": "code",
   "execution_count": 81,
   "metadata": {},
   "outputs": [],
   "source": [
    "# Set up RMSE functions\n",
    "RMSE_blv = model.RMSE(valid_predictions_VC.actual, valid_predictions_VC.baseline)\n",
    "RMSE_MVPv = model.RMSE(valid_predictions_VC.actual, valid_predictions_VC.MVP)\n",
    "RMSE_fe1v = model.RMSE(valid_predictions_VC.actual, valid_predictions_VC.FE_1)\n",
    "RMSE_fe2v = model.RMSE(valid_predictions_VC.actual, valid_predictions_VC.FE_2)\n",
    "RMSE_rfe2v = model.RMSE(valid_predictions_VC.actual, valid_predictions_VC.RFE_2)\n",
    "RMSE_rfe3v = model.RMSE(valid_predictions_VC.actual, valid_predictions_VC.RFE_3)\n",
    "RMSE_rfe4v = model.RMSE(valid_predictions_VC.actual, valid_predictions_VC.RFE_4)\n",
    "RMSE_rfe5v = model.RMSE(valid_predictions_VC.actual, valid_predictions_VC.RFE_5)\n",
    "RMSE_rfe6v = model.RMSE(valid_predictions_VC.actual, valid_predictions_VC.RFE_6)\n",
    "RMSE_rfe7v = model.RMSE(valid_predictions_VC.actual, valid_predictions_VC.RFE_7)"
   ]
  },
  {
   "cell_type": "code",
   "execution_count": 82,
   "metadata": {},
   "outputs": [
    {
     "data": {
      "text/html": [
       "<div>\n",
       "<style scoped>\n",
       "    .dataframe tbody tr th:only-of-type {\n",
       "        vertical-align: middle;\n",
       "    }\n",
       "\n",
       "    .dataframe tbody tr th {\n",
       "        vertical-align: top;\n",
       "    }\n",
       "\n",
       "    .dataframe thead th {\n",
       "        text-align: right;\n",
       "    }\n",
       "</style>\n",
       "<table border=\"1\" class=\"dataframe\">\n",
       "  <thead>\n",
       "    <tr style=\"text-align: right;\">\n",
       "      <th></th>\n",
       "      <th>models</th>\n",
       "      <th>model_errors</th>\n",
       "      <th>valid_errors</th>\n",
       "    </tr>\n",
       "  </thead>\n",
       "  <tbody>\n",
       "    <tr>\n",
       "      <th>0</th>\n",
       "      <td>baseline</td>\n",
       "      <td>0.216</td>\n",
       "      <td>0.174</td>\n",
       "    </tr>\n",
       "    <tr>\n",
       "      <th>1</th>\n",
       "      <td>MVP</td>\n",
       "      <td>0.214</td>\n",
       "      <td>0.183</td>\n",
       "    </tr>\n",
       "    <tr>\n",
       "      <th>2</th>\n",
       "      <td>FE_1</td>\n",
       "      <td>0.215</td>\n",
       "      <td>0.174</td>\n",
       "    </tr>\n",
       "    <tr>\n",
       "      <th>3</th>\n",
       "      <td>FE_2</td>\n",
       "      <td>0.215</td>\n",
       "      <td>70697253775.255</td>\n",
       "    </tr>\n",
       "    <tr>\n",
       "      <th>4</th>\n",
       "      <td>RFE_2</td>\n",
       "      <td>0.216</td>\n",
       "      <td>0.176</td>\n",
       "    </tr>\n",
       "    <tr>\n",
       "      <th>5</th>\n",
       "      <td>RFE_3</td>\n",
       "      <td>0.215</td>\n",
       "      <td>0.223</td>\n",
       "    </tr>\n",
       "    <tr>\n",
       "      <th>6</th>\n",
       "      <td>RFE_4</td>\n",
       "      <td>0.209</td>\n",
       "      <td>0.995</td>\n",
       "    </tr>\n",
       "    <tr>\n",
       "      <th>7</th>\n",
       "      <td>RFE_5</td>\n",
       "      <td>0.191</td>\n",
       "      <td>145.558</td>\n",
       "    </tr>\n",
       "    <tr>\n",
       "      <th>8</th>\n",
       "      <td>RFE_6</td>\n",
       "      <td>0.169</td>\n",
       "      <td>43451934.333</td>\n",
       "    </tr>\n",
       "    <tr>\n",
       "      <th>9</th>\n",
       "      <td>RFE_7</td>\n",
       "      <td>0.158</td>\n",
       "      <td>557449191.839</td>\n",
       "    </tr>\n",
       "  </tbody>\n",
       "</table>\n",
       "</div>"
      ],
      "text/plain": [
       "     models  model_errors    valid_errors\n",
       "0  baseline         0.216           0.174\n",
       "1       MVP         0.214           0.183\n",
       "2      FE_1         0.215           0.174\n",
       "3      FE_2         0.215 70697253775.255\n",
       "4     RFE_2         0.216           0.176\n",
       "5     RFE_3         0.215           0.223\n",
       "6     RFE_4         0.209           0.995\n",
       "7     RFE_5         0.191         145.558\n",
       "8     RFE_6         0.169    43451934.333\n",
       "9     RFE_7         0.158   557449191.839"
      ]
     },
     "execution_count": 82,
     "metadata": {},
     "output_type": "execute_result"
    }
   ],
   "source": [
    "VC_eval_df['valid_errors'] = np.array([RMSE_blv, RMSE_MVPv, RMSE_fe1v, RMSE_fe2v, RMSE_rfe2v, RMSE_rfe3v,\n",
    "                                    RMSE_rfe4v, RMSE_rfe5v, RMSE_rfe6v, RMSE_rfe7v])\n",
    "\n",
    "VC_eval_df"
   ]
  },
  {
   "cell_type": "markdown",
   "metadata": {},
   "source": [
    "Evaluate your best model on your test data set to get an idea of your model's out of sample error."
   ]
  },
  {
   "cell_type": "code",
   "execution_count": null,
   "metadata": {},
   "outputs": [],
   "source": []
  },
  {
   "cell_type": "code",
   "execution_count": null,
   "metadata": {},
   "outputs": [],
   "source": []
  },
  {
   "cell_type": "code",
   "execution_count": null,
   "metadata": {},
   "outputs": [],
   "source": []
  },
  {
   "cell_type": "code",
   "execution_count": null,
   "metadata": {},
   "outputs": [],
   "source": []
  }
 ],
 "metadata": {
  "kernelspec": {
   "display_name": "Python 3",
   "language": "python",
   "name": "python3"
  },
  "language_info": {
   "codemirror_mode": {
    "name": "ipython",
    "version": 3
   },
   "file_extension": ".py",
   "mimetype": "text/x-python",
   "name": "python",
   "nbconvert_exporter": "python",
   "pygments_lexer": "ipython3",
   "version": "3.7.4"
  }
 },
 "nbformat": 4,
 "nbformat_minor": 4
}
