{
 "cells": [
  {
   "cell_type": "code",
   "execution_count": 1,
   "metadata": {},
   "outputs": [],
   "source": [
    "import pandas as pd\n",
    "import numpy as np\n",
    "import googlemaps\n",
    "from datetime import datetime\n",
    "import acquire_r\n",
    "from env import google_key, google_key1\n",
    "from googlemaps import convert\n",
    "import wrangle_zillow_r\n",
    "import wrangle_zillow\n",
    "import seaborn as sns\n",
    "import matplotlib.pyplot as plt\n",
    "import warnings\n",
    "warnings.filterwarnings(\"ignore\")\n",
    "import scipy.stats as stats\n",
    "from sklearn.experimental import enable_iterative_imputer\n",
    "from sklearn.impute import IterativeImputer\n",
    "from sklearn.model_selection import train_test_split\n",
    "from sklearn.cluster import KMeans\n",
    "from sklearn.preprocessing import MinMaxScaler\n",
    "import gmaps\n",
    "import gmaps.datasets\n",
    "gmaps.configure(api_key=google_key1) # Fill in with your API key\n",
    "%matplotlib inline\n",
    "import zillow_fe\n",
    "import feature_selection\n",
    "from sklearn.linear_model import LinearRegression\n",
    "from sklearn.feature_selection import RFE\n",
    "from sklearn.preprocessing import QuantileTransformer, quantile_transform\n",
    "from sklearn.metrics import median_absolute_error, r2_score, mean_absolute_error\n",
    "from math import sqrt\n",
    "from sklearn.preprocessing import PolynomialFeatures\n",
    "from pygam import LogisticGAM, LinearGAM, s, f, te\n",
    "from sklearn.linear_model import RidgeCV\n",
    "from sklearn.compose import TransformedTargetRegressor\n",
    "from statsmodels.formula.api import ols\n",
    "from sklearn.linear_model import LinearRegression\n",
    "from sklearn.metrics import mean_squared_error, explained_variance_score\n",
    "from scipy import stats\n",
    "import evaluate\n",
    "import explore\n",
    "import model\n",
    "from sklearn.preprocessing import LabelEncoder, OneHotEncoder"
   ]
  },
  {
   "cell_type": "code",
   "execution_count": 2,
   "metadata": {},
   "outputs": [
    {
     "name": "stdout",
     "output_type": "stream",
     "text": [
      "There are 64786 rows and 37 columns in the zillow dataframe.\n"
     ]
    }
   ],
   "source": [
    "# Read CSV file which was saved after data wrangling\n",
    "zillow = pd.read_csv('zillow_reduced.csv')\n",
    "orig_rows = zillow.shape[0]\n",
    "orig_cols = zillow.shape[1]\n",
    "print (f'There are {orig_rows} rows and {orig_cols} columns in the zillow dataframe.')"
   ]
  },
  {
   "cell_type": "code",
   "execution_count": 3,
   "metadata": {},
   "outputs": [
    {
     "name": "stdout",
     "output_type": "stream",
     "text": [
      "<class 'pandas.core.frame.DataFrame'>\n",
      "RangeIndex: 64786 entries, 0 to 64785\n",
      "Data columns (total 37 columns):\n",
      "Unnamed: 0                    64786 non-null int64\n",
      "airconditioningtypeid         64786 non-null int64\n",
      "basementsqft                  64786 non-null int64\n",
      "bathroomcnt                   64786 non-null int64\n",
      "bedroomcnt                    64786 non-null int64\n",
      "buildingqualitytypeid         64786 non-null int64\n",
      "decktypeid                    64786 non-null int64\n",
      "finishedsquarefeet12          64786 non-null int64\n",
      "fireplacecnt                  64786 non-null int64\n",
      "garagecarcnt                  64786 non-null int64\n",
      "garagetotalsqft               64786 non-null int64\n",
      "hashottuborspa                64786 non-null int64\n",
      "heatingorsystemtypeid         64786 non-null int64\n",
      "latitude                      64786 non-null float64\n",
      "longitude                     64786 non-null float64\n",
      "lotsizesquarefeet             64786 non-null int64\n",
      "poolcnt                       64786 non-null int64\n",
      "poolsizesum                   64786 non-null int64\n",
      "propertycountylandusecode     64786 non-null object\n",
      "roomcnt                       64786 non-null int64\n",
      "unitcnt                       64786 non-null int64\n",
      "yearbuilt                     64786 non-null int64\n",
      "numberofstories               64786 non-null int64\n",
      "structuretaxvaluedollarcnt    64786 non-null int64\n",
      "taxvaluedollarcnt             64786 non-null int64\n",
      "landtaxvaluedollarcnt         64786 non-null int64\n",
      "taxamount                     64786 non-null int64\n",
      "taxdelinquencyflag            64786 non-null int64\n",
      "taxdelinquencyyear            64786 non-null int64\n",
      "logerror                      64786 non-null float64\n",
      "transactiondate               64786 non-null object\n",
      "haversine_distance            64786 non-null float64\n",
      "regionid_zip                  64786 non-null float64\n",
      "census_tractandblock          64786 non-null float64\n",
      "new_zip                       64786 non-null float64\n",
      "median_income                 64786 non-null object\n",
      "county                        64786 non-null object\n",
      "dtypes: float64(7), int64(26), object(4)\n",
      "memory usage: 18.3+ MB\n"
     ]
    }
   ],
   "source": [
    "zillow.info()"
   ]
  },
  {
   "cell_type": "code",
   "execution_count": 4,
   "metadata": {},
   "outputs": [],
   "source": [
    "#fix median_income coversion from object to float\n",
    "zillow = wrangle_zillow_r.fix_med(zillow)\n",
    "zillow['living_area'] = zillow.lotsizesquarefeet/zillow.finishedsquarefeet12"
   ]
  },
  {
   "cell_type": "code",
   "execution_count": 5,
   "metadata": {},
   "outputs": [],
   "source": [
    "# split data in train/test (80/20)\n",
    "train, test = wrangle_zillow.split_my_data(zillow, 0.8)"
   ]
  },
  {
   "cell_type": "code",
   "execution_count": 6,
   "metadata": {},
   "outputs": [
    {
     "data": {
      "text/plain": [
       "((51828, 38), (12958, 38))"
      ]
     },
     "execution_count": 6,
     "metadata": {},
     "output_type": "execute_result"
    }
   ],
   "source": [
    "train.shape, test.shape"
   ]
  },
  {
   "cell_type": "code",
   "execution_count": 7,
   "metadata": {},
   "outputs": [],
   "source": [
    "# Split the train into train and validate sets (80/20)\n",
    "train, validate = wrangle_zillow.split_my_data(train, 0.8)"
   ]
  },
  {
   "cell_type": "code",
   "execution_count": 8,
   "metadata": {},
   "outputs": [
    {
     "data": {
      "text/plain": [
       "((41462, 38), (10366, 38))"
      ]
     },
     "execution_count": 8,
     "metadata": {},
     "output_type": "execute_result"
    }
   ],
   "source": [
    "#check train and validate shapes\n",
    "train.shape, validate.shape"
   ]
  },
  {
   "cell_type": "code",
   "execution_count": 9,
   "metadata": {},
   "outputs": [],
   "source": [
    "#add onehot encoding if needed\n",
    "#function in model.py\n",
    "# add age as a variable"
   ]
  },
  {
   "cell_type": "markdown",
   "metadata": {},
   "source": [
    "# Modeling"
   ]
  },
  {
   "cell_type": "markdown",
   "metadata": {},
   "source": [
    "### Baseline\n"
   ]
  },
  {
   "cell_type": "code",
   "execution_count": 10,
   "metadata": {},
   "outputs": [
    {
     "name": "stdout",
     "output_type": "stream",
     "text": [
      "The Baseline RMSE logerror is :0.1617462839126745\n"
     ]
    }
   ],
   "source": [
    "# Lets first establish a baseline\n",
    "\n",
    "train[\"base_logerror\"] = train.logerror.mean()\n",
    "\n",
    "RMSE_base = sqrt(mean_squared_error(train.logerror,train.base_logerror))\n",
    "\n",
    "print(f'The Baseline RMSE logerror is :{RMSE_base}')"
   ]
  },
  {
   "cell_type": "markdown",
   "metadata": {},
   "source": [
    "***"
   ]
  },
  {
   "cell_type": "markdown",
   "metadata": {},
   "source": [
    "### Polynomial Regression Method\n"
   ]
  },
  {
   "cell_type": "code",
   "execution_count": 11,
   "metadata": {},
   "outputs": [
    {
     "name": "stdout",
     "output_type": "stream",
     "text": [
      " The RMSE is : 0.159 and R2 is 0.037\n"
     ]
    }
   ],
   "source": [
    "features = ['bathroomcnt', 'bedroomcnt', 'finishedsquarefeet12', 'taxvaluedollarcnt', 'median_income', 'living_area']\n",
    "RMSE, R2 = model.poly_regression(train, features,6)\n",
    "print(f' The RMSE is : {RMSE} and R2 is {R2}')"
   ]
  },
  {
   "cell_type": "code",
   "execution_count": 12,
   "metadata": {},
   "outputs": [
    {
     "name": "stdout",
     "output_type": "stream",
     "text": [
      " The RMSE is : 0.154 and R2 is 0.098\n"
     ]
    }
   ],
   "source": [
    "features = ['bathroomcnt', 'bedroomcnt', 'finishedsquarefeet12', 'taxvaluedollarcnt', 'median_income', 'living_area']\n",
    "RMSE, R2 = model.poly_regression(validate, features,6)\n",
    "print(f' The RMSE is : {RMSE} and R2 is {R2}')"
   ]
  },
  {
   "cell_type": "markdown",
   "metadata": {},
   "source": [
    "***"
   ]
  },
  {
   "cell_type": "markdown",
   "metadata": {},
   "source": [
    "### Simple Linear Regression Method"
   ]
  },
  {
   "cell_type": "code",
   "execution_count": 13,
   "metadata": {},
   "outputs": [
    {
     "name": "stdout",
     "output_type": "stream",
     "text": [
      " The RMSE is : 0.162 and R2 is 0.002\n"
     ]
    }
   ],
   "source": [
    "features = ['bathroomcnt', 'bedroomcnt', 'finishedsquarefeet12', 'taxvaluedollarcnt', 'median_income', 'living_area']\n",
    "RMSE, R2 = model.linear_reg(train, features)\n",
    "print(f' The RMSE is : {RMSE} and R2 is {R2}')"
   ]
  },
  {
   "cell_type": "code",
   "execution_count": 14,
   "metadata": {},
   "outputs": [
    {
     "name": "stdout",
     "output_type": "stream",
     "text": [
      " The RMSE is : 0.162 and R2 is 0.003\n"
     ]
    }
   ],
   "source": [
    "features = ['bathroomcnt', 'bedroomcnt', 'finishedsquarefeet12', 'taxvaluedollarcnt', 'median_income', 'living_area']\n",
    "RMSE, R2 = model.linear_reg(validate, features)\n",
    "print(f' The RMSE is : {RMSE} and R2 is {R2}')"
   ]
  },
  {
   "cell_type": "markdown",
   "metadata": {},
   "source": [
    "***"
   ]
  },
  {
   "cell_type": "markdown",
   "metadata": {},
   "source": [
    "### GAM Model"
   ]
  },
  {
   "cell_type": "code",
   "execution_count": 15,
   "metadata": {},
   "outputs": [
    {
     "name": "stderr",
     "output_type": "stream",
     "text": [
      "100% (11 of 11) |########################| Elapsed Time: 0:00:11 Time:  0:00:11\n"
     ]
    },
    {
     "data": {
      "text/plain": [
       "(0.161, 0.004)"
      ]
     },
     "execution_count": 15,
     "metadata": {},
     "output_type": "execute_result"
    }
   ],
   "source": [
    "features = ['bathroomcnt', 'bedroomcnt', 'finishedsquarefeet12', 'taxvaluedollarcnt', 'median_income', 'living_area']\n",
    "\n",
    "model.GAM_model(train, features)"
   ]
  },
  {
   "cell_type": "code",
   "execution_count": 16,
   "metadata": {},
   "outputs": [
    {
     "name": "stderr",
     "output_type": "stream",
     "text": [
      "100% (11 of 11) |########################| Elapsed Time: 0:00:02 Time:  0:00:02\n"
     ]
    },
    {
     "data": {
      "text/plain": [
       "(0.162, 0.006)"
      ]
     },
     "execution_count": 16,
     "metadata": {},
     "output_type": "execute_result"
    }
   ],
   "source": [
    "model.GAM_model(validate, features)"
   ]
  },
  {
   "cell_type": "code",
   "execution_count": 17,
   "metadata": {},
   "outputs": [
    {
     "name": "stderr",
     "output_type": "stream",
     "text": [
      "100% (11 of 11) |########################| Elapsed Time: 0:00:03 Time:  0:00:03\n"
     ]
    },
    {
     "data": {
      "text/plain": [
       "(0.17, 0.007)"
      ]
     },
     "execution_count": 17,
     "metadata": {},
     "output_type": "execute_result"
    }
   ],
   "source": [
    "model.GAM_model(test, features)"
   ]
  },
  {
   "cell_type": "markdown",
   "metadata": {},
   "source": [
    "***\n",
    "### Run all functions together with a single function"
   ]
  },
  {
   "cell_type": "code",
   "execution_count": 18,
   "metadata": {},
   "outputs": [
    {
     "name": "stderr",
     "output_type": "stream",
     "text": [
      "100% (11 of 11) |########################| Elapsed Time: 0:00:11 Time:  0:00:11\n"
     ]
    },
    {
     "data": {
      "text/html": [
       "<div>\n",
       "<style scoped>\n",
       "    .dataframe tbody tr th:only-of-type {\n",
       "        vertical-align: middle;\n",
       "    }\n",
       "\n",
       "    .dataframe tbody tr th {\n",
       "        vertical-align: top;\n",
       "    }\n",
       "\n",
       "    .dataframe thead th {\n",
       "        text-align: right;\n",
       "    }\n",
       "</style>\n",
       "<table border=\"1\" class=\"dataframe\">\n",
       "  <thead>\n",
       "    <tr style=\"text-align: right;\">\n",
       "      <th></th>\n",
       "      <th>RMSE</th>\n",
       "      <th>R2</th>\n",
       "    </tr>\n",
       "  </thead>\n",
       "  <tbody>\n",
       "    <tr>\n",
       "      <th>Baseline</th>\n",
       "      <td>0.162</td>\n",
       "      <td>0.000</td>\n",
       "    </tr>\n",
       "    <tr>\n",
       "      <th>Linear_model</th>\n",
       "      <td>0.162</td>\n",
       "      <td>0.002</td>\n",
       "    </tr>\n",
       "    <tr>\n",
       "      <th>polynomial_LR</th>\n",
       "      <td>0.159</td>\n",
       "      <td>0.037</td>\n",
       "    </tr>\n",
       "    <tr>\n",
       "      <th>GAM</th>\n",
       "      <td>0.161</td>\n",
       "      <td>0.004</td>\n",
       "    </tr>\n",
       "  </tbody>\n",
       "</table>\n",
       "</div>"
      ],
      "text/plain": [
       "               RMSE    R2\n",
       "Baseline      0.162 0.000\n",
       "Linear_model  0.162 0.002\n",
       "polynomial_LR 0.159 0.037\n",
       "GAM           0.161 0.004"
      ]
     },
     "execution_count": 18,
     "metadata": {},
     "output_type": "execute_result"
    }
   ],
   "source": [
    "summary_results_train = model.run_all_functions(train,features)\n",
    "summary_results_train"
   ]
  },
  {
   "cell_type": "code",
   "execution_count": 19,
   "metadata": {},
   "outputs": [
    {
     "name": "stderr",
     "output_type": "stream",
     "text": [
      "100% (11 of 11) |########################| Elapsed Time: 0:00:03 Time:  0:00:03\n"
     ]
    },
    {
     "data": {
      "text/html": [
       "<div>\n",
       "<style scoped>\n",
       "    .dataframe tbody tr th:only-of-type {\n",
       "        vertical-align: middle;\n",
       "    }\n",
       "\n",
       "    .dataframe tbody tr th {\n",
       "        vertical-align: top;\n",
       "    }\n",
       "\n",
       "    .dataframe thead th {\n",
       "        text-align: right;\n",
       "    }\n",
       "</style>\n",
       "<table border=\"1\" class=\"dataframe\">\n",
       "  <thead>\n",
       "    <tr style=\"text-align: right;\">\n",
       "      <th></th>\n",
       "      <th>RMSE</th>\n",
       "      <th>R2</th>\n",
       "    </tr>\n",
       "  </thead>\n",
       "  <tbody>\n",
       "    <tr>\n",
       "      <th>Baseline</th>\n",
       "      <td>0.162</td>\n",
       "      <td>0.000</td>\n",
       "    </tr>\n",
       "    <tr>\n",
       "      <th>Linear_model</th>\n",
       "      <td>0.162</td>\n",
       "      <td>0.003</td>\n",
       "    </tr>\n",
       "    <tr>\n",
       "      <th>polynomial_LR</th>\n",
       "      <td>0.154</td>\n",
       "      <td>0.098</td>\n",
       "    </tr>\n",
       "    <tr>\n",
       "      <th>GAM</th>\n",
       "      <td>0.162</td>\n",
       "      <td>0.006</td>\n",
       "    </tr>\n",
       "  </tbody>\n",
       "</table>\n",
       "</div>"
      ],
      "text/plain": [
       "               RMSE    R2\n",
       "Baseline      0.162 0.000\n",
       "Linear_model  0.162 0.003\n",
       "polynomial_LR 0.154 0.098\n",
       "GAM           0.162 0.006"
      ]
     },
     "execution_count": 19,
     "metadata": {},
     "output_type": "execute_result"
    }
   ],
   "source": [
    "summary_results_validate = model.run_all_functions(validate,features)\n",
    "summary_results_validate"
   ]
  },
  {
   "cell_type": "markdown",
   "metadata": {},
   "source": [
    "#### Seems like polynomial linear regression model performed best. Lets run the test dataset on polynomial LR model"
   ]
  },
  {
   "cell_type": "code",
   "execution_count": 20,
   "metadata": {},
   "outputs": [
    {
     "name": "stdout",
     "output_type": "stream",
     "text": [
      " The RMSE is : 0.162 and R2 is 0.089\n"
     ]
    }
   ],
   "source": [
    "features = ['bathroomcnt', 'bedroomcnt', 'finishedsquarefeet12', 'taxvaluedollarcnt', 'median_income', 'living_area']\n",
    "RMSE, R2 = model.poly_regression(test, features,6)\n",
    "print(f' The RMSE is : {RMSE} and R2 is {R2}')"
   ]
  },
  {
   "cell_type": "code",
   "execution_count": null,
   "metadata": {},
   "outputs": [],
   "source": []
  },
  {
   "cell_type": "code",
   "execution_count": null,
   "metadata": {},
   "outputs": [],
   "source": []
  }
 ],
 "metadata": {
  "kernelspec": {
   "display_name": "Python 3",
   "language": "python",
   "name": "python3"
  },
  "language_info": {
   "codemirror_mode": {
    "name": "ipython",
    "version": 3
   },
   "file_extension": ".py",
   "mimetype": "text/x-python",
   "name": "python",
   "nbconvert_exporter": "python",
   "pygments_lexer": "ipython3",
   "version": "3.7.4"
  }
 },
 "nbformat": 4,
 "nbformat_minor": 2
}
