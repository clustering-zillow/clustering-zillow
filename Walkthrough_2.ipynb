{
 "cells": [
  {
   "cell_type": "code",
   "execution_count": 1,
   "metadata": {},
   "outputs": [],
   "source": [
    "import pandas as pd\n",
    "import numpy as np\n",
    "import googlemaps\n",
    "from datetime import datetime\n",
    "import acquire_r\n",
    "from env import google_key, google_key1\n",
    "from googlemaps import convert\n",
    "import wrangle_zillow_r\n",
    "import wrangle_zillow\n",
    "import seaborn as sns\n",
    "import matplotlib.pyplot as plt\n",
    "import warnings\n",
    "warnings.filterwarnings(\"ignore\")\n",
    "import scipy.stats as stats\n",
    "from sklearn.experimental import enable_iterative_imputer\n",
    "from sklearn.impute import IterativeImputer\n",
    "from sklearn.model_selection import train_test_split\n",
    "from sklearn.cluster import KMeans\n",
    "from sklearn.preprocessing import MinMaxScaler\n",
    "import gmaps\n",
    "import gmaps.datasets\n",
    "gmaps.configure(api_key=google_key1) # Fill in with your API key\n",
    "%matplotlib inline\n",
    "import zillow_fe\n",
    "import feature_selection\n",
    "from sklearn.linear_model import LinearRegression\n",
    "from sklearn.feature_selection import RFE\n",
    "from sklearn.metrics import median_absolute_error, r2_score, mean_absolute_error\n",
    "from math import sqrt\n",
    "from sklearn.preprocessing import PolynomialFeatures\n",
    "from pygam import LogisticGAM, LinearGAM, s, f, te\n",
    "from sklearn.linear_model import RidgeCV\n",
    "from sklearn.linear_model import LinearRegression\n",
    "from sklearn.metrics import mean_squared_error\n",
    "from scipy import stats\n",
    "import explore\n",
    "import evaluate\n",
    "import model\n",
    "from sklearn.preprocessing import LabelEncoder, OneHotEncoder\n",
    "from sklearn.preprocessing import MinMaxScaler"
   ]
  },
  {
   "cell_type": "code",
   "execution_count": 5,
   "metadata": {},
   "outputs": [
    {
     "name": "stdout",
     "output_type": "stream",
     "text": [
      "There are 64747 rows and 48 columns in the zillow dataframe.\n"
     ]
    }
   ],
   "source": [
    "# Read CSV file which was saved after data wrangling\n",
    "zillow = pd.read_csv('zillow_fe.csv')\n",
    "orig_rows = zillow.shape[0]\n",
    "orig_cols = zillow.shape[1]\n",
    "print (f'There are {orig_rows} rows and {orig_cols} columns in the zillow dataframe.')"
   ]
  },
  {
   "cell_type": "code",
   "execution_count": 6,
   "metadata": {},
   "outputs": [
    {
     "name": "stdout",
     "output_type": "stream",
     "text": [
      "<class 'pandas.core.frame.DataFrame'>\n",
      "RangeIndex: 64747 entries, 0 to 64746\n",
      "Data columns (total 48 columns):\n",
      "Unnamed: 0                        64747 non-null int64\n",
      "bathroomcnt                       64747 non-null int64\n",
      "bedroomcnt                        64747 non-null int64\n",
      "finishedsquarefeet12              64747 non-null int64\n",
      "garagecarcnt                      64747 non-null int64\n",
      "garagetotalsqft                   64747 non-null int64\n",
      "hashottuborspa                    64747 non-null int64\n",
      "latitude                          64747 non-null float64\n",
      "longitude                         64747 non-null float64\n",
      "lotsizesquarefeet                 64747 non-null int64\n",
      "poolcnt                           64747 non-null int64\n",
      "poolsizesum                       64747 non-null int64\n",
      "numberofstories                   64747 non-null int64\n",
      "structuretaxvaluedollarcnt        64747 non-null int64\n",
      "taxvaluedollarcnt                 64747 non-null int64\n",
      "taxamount                         64747 non-null int64\n",
      "taxdelinquencyflag                64747 non-null int64\n",
      "taxdelinquencyyear                64747 non-null int64\n",
      "logerror                          64747 non-null float64\n",
      "transactiondate                   64747 non-null object\n",
      "haversine_distance                64747 non-null float64\n",
      "regionid_zip                      64747 non-null float64\n",
      "census_tractandblock              64747 non-null float64\n",
      "new_zip                           64747 non-null float64\n",
      "median_income                     64747 non-null float64\n",
      "county                            64747 non-null object\n",
      "age                               64747 non-null int64\n",
      "tax_rate                          64747 non-null float64\n",
      "cost_structure_sf                 64747 non-null float64\n",
      "has_ac                            64747 non-null int64\n",
      "has_heating                       64747 non-null int64\n",
      "has_fire                          64747 non-null int64\n",
      "has_garage                        64747 non-null int64\n",
      "has_deck                          64747 non-null int64\n",
      "LA                                64747 non-null int64\n",
      "OC                                64747 non-null int64\n",
      "VC                                64747 non-null int64\n",
      "sf_bin                            64747 non-null int64\n",
      "age_bin                           64747 non-null int64\n",
      "tax_bin                           64747 non-null float64\n",
      "cluster_fancy                     64747 non-null object\n",
      "centroid_buildingqualitytypeid    64747 non-null float64\n",
      "centroid_roomcnt                  64747 non-null float64\n",
      "centroid_is_extra                 64747 non-null float64\n",
      "cluster_lot                       64747 non-null object\n",
      "centroid_lotsizesquarefeet        64747 non-null float64\n",
      "centroid_landtaxvaluedollarcnt    64747 non-null float64\n",
      "centroid_new_zip                  64747 non-null float64\n",
      "dtypes: float64(17), int64(27), object(4)\n",
      "memory usage: 23.7+ MB\n"
     ]
    }
   ],
   "source": [
    "zillow.info()"
   ]
  },
  {
   "cell_type": "code",
   "execution_count": 7,
   "metadata": {},
   "outputs": [],
   "source": [
    "zillow['living_area'] = zillow.lotsizesquarefeet/zillow.finishedsquarefeet12"
   ]
  },
  {
   "cell_type": "code",
   "execution_count": 8,
   "metadata": {},
   "outputs": [],
   "source": [
    "# split data in train/test (80/20)\n",
    "train, test = wrangle_zillow.split_my_data(zillow, 0.8)"
   ]
  },
  {
   "cell_type": "code",
   "execution_count": 9,
   "metadata": {},
   "outputs": [
    {
     "data": {
      "text/plain": [
       "((51797, 49), (12950, 49))"
      ]
     },
     "execution_count": 9,
     "metadata": {},
     "output_type": "execute_result"
    }
   ],
   "source": [
    "train.shape, test.shape"
   ]
  },
  {
   "cell_type": "code",
   "execution_count": 10,
   "metadata": {},
   "outputs": [],
   "source": [
    "# Split the train into train and validate sets (80/20)\n",
    "train, validate = wrangle_zillow.split_my_data(train, 0.8)"
   ]
  },
  {
   "cell_type": "code",
   "execution_count": 11,
   "metadata": {},
   "outputs": [
    {
     "data": {
      "text/plain": [
       "((41437, 49), (10360, 49))"
      ]
     },
     "execution_count": 11,
     "metadata": {},
     "output_type": "execute_result"
    }
   ],
   "source": [
    "#check train and validate shapes\n",
    "train.shape, validate.shape"
   ]
  },
  {
   "cell_type": "markdown",
   "metadata": {},
   "source": [
    "# Modeling"
   ]
  },
  {
   "cell_type": "markdown",
   "metadata": {},
   "source": [
    "### Baseline\n"
   ]
  },
  {
   "cell_type": "code",
   "execution_count": 12,
   "metadata": {},
   "outputs": [
    {
     "name": "stdout",
     "output_type": "stream",
     "text": [
      "The Baseline train RMSE logerror is :0.16339650601805303\n"
     ]
    }
   ],
   "source": [
    "# Lets first establish a baseline\n",
    "\n",
    "train[\"base_logerror\"] = train.logerror.mean()\n",
    "\n",
    "RMSE_base = sqrt(mean_squared_error(train.logerror,train.base_logerror))\n",
    "\n",
    "print(f'The Baseline train RMSE logerror is :{RMSE_base}')"
   ]
  },
  {
   "cell_type": "code",
   "execution_count": 13,
   "metadata": {},
   "outputs": [
    {
     "name": "stdout",
     "output_type": "stream",
     "text": [
      "The baseline test RMSE =  0.17107394558243763 , R2 = 0.0\n"
     ]
    }
   ],
   "source": [
    "validate[\"base_logerror\"] = validate.logerror.mean()\n",
    "RMSE_validate = sqrt(mean_squared_error(validate.logerror,validate.base_logerror))\n",
    "R2_validate = r2_score(validate.logerror,validate.base_logerror)\n",
    "print(f'The baseline test RMSE =  {RMSE_validate} , R2 = {R2_validate}')"
   ]
  },
  {
   "cell_type": "code",
   "execution_count": 14,
   "metadata": {},
   "outputs": [
    {
     "name": "stdout",
     "output_type": "stream",
     "text": [
      "The baseline test RMSE =  0.15607026290260517 , R2 = 0.0\n"
     ]
    }
   ],
   "source": [
    "#Baseline for test dataset\n",
    "test[\"base_logerror\"] = test.logerror.mean()\n",
    "RMSE_test = sqrt(mean_squared_error(test.logerror,test.base_logerror))\n",
    "R2_test = r2_score(test.logerror,test.base_logerror)\n",
    "print(f'The baseline test RMSE =  {RMSE_test} , R2 = {R2_test}')\n"
   ]
  },
  {
   "cell_type": "markdown",
   "metadata": {},
   "source": [
    "***"
   ]
  },
  {
   "cell_type": "markdown",
   "metadata": {},
   "source": [
    "### Polynomial Regression Method\n"
   ]
  },
  {
   "cell_type": "code",
   "execution_count": 15,
   "metadata": {},
   "outputs": [
    {
     "name": "stdout",
     "output_type": "stream",
     "text": [
      " The RMSE is : 0.163 and R2 is 0.006\n"
     ]
    },
    {
     "data": {
      "text/plain": [
       "LinearRegression(copy_X=True, fit_intercept=True, n_jobs=None, normalize=False)"
      ]
     },
     "execution_count": 15,
     "metadata": {},
     "output_type": "execute_result"
    }
   ],
   "source": [
    "#polynomial model on train data\n",
    "features = ['bathroomcnt', 'bedroomcnt', 'finishedsquarefeet12', 'taxvaluedollarcnt', 'median_income', 'living_area']\n",
    "RMSE, R2, y_train, lm_poly, poly = model.poly_regression(train, features,3)\n",
    "print(f' The RMSE is : {RMSE} and R2 is {R2}')\n",
    "lm_poly"
   ]
  },
  {
   "cell_type": "code",
   "execution_count": 16,
   "metadata": {},
   "outputs": [
    {
     "name": "stdout",
     "output_type": "stream",
     "text": [
      " The RMSE is : 0.171 and R2 is -0.001\n"
     ]
    }
   ],
   "source": [
    "RMSE, R2, y_test = model.poly_regression_1(validate, lm_poly,poly, features)\n",
    "print(f' The RMSE is : {RMSE} and R2 is {R2}')"
   ]
  },
  {
   "cell_type": "code",
   "execution_count": 17,
   "metadata": {},
   "outputs": [
    {
     "name": "stdout",
     "output_type": "stream",
     "text": [
      " The RMSE is : 0.156 and R2 is 0.002\n"
     ]
    }
   ],
   "source": [
    "RMSE, R2, y_test = model.poly_regression_1(test, lm_poly,poly, features)\n",
    "print(f' The RMSE is : {RMSE} and R2 is {R2}')"
   ]
  },
  {
   "cell_type": "markdown",
   "metadata": {},
   "source": [
    "***"
   ]
  },
  {
   "cell_type": "markdown",
   "metadata": {},
   "source": [
    "### Simple Linear Regression Method"
   ]
  },
  {
   "cell_type": "code",
   "execution_count": 18,
   "metadata": {},
   "outputs": [
    {
     "name": "stdout",
     "output_type": "stream",
     "text": [
      " The RMSE is : 0.163 and R2 is 0.002\n"
     ]
    }
   ],
   "source": [
    "features = ['bathroomcnt', 'bedroomcnt', 'finishedsquarefeet12', 'taxvaluedollarcnt', 'median_income', 'living_area']\n",
    "RMSE, R2, lm, y_train = model.linear_reg(train, features)\n",
    "print(f' The RMSE is : {RMSE} and R2 is {R2}')"
   ]
  },
  {
   "cell_type": "code",
   "execution_count": 19,
   "metadata": {},
   "outputs": [
    {
     "name": "stdout",
     "output_type": "stream",
     "text": [
      " The RMSE is : 0.171 and R2 is 0.001\n"
     ]
    }
   ],
   "source": [
    "RMSE, R2, y_train = model.linear_reg1(validate, features, lm)\n",
    "print(f' The RMSE is : {RMSE} and R2 is {R2}')"
   ]
  },
  {
   "cell_type": "markdown",
   "metadata": {},
   "source": [
    "***"
   ]
  },
  {
   "cell_type": "markdown",
   "metadata": {},
   "source": [
    "### GAM Model"
   ]
  },
  {
   "cell_type": "code",
   "execution_count": 20,
   "metadata": {},
   "outputs": [
    {
     "name": "stderr",
     "output_type": "stream",
     "text": [
      "100% (11 of 11) |########################| Elapsed Time: 0:00:10 Time:  0:00:10\n"
     ]
    },
    {
     "name": "stdout",
     "output_type": "stream",
     "text": [
      " The RMSE is : 0.163 and R2 is 0.004\n"
     ]
    }
   ],
   "source": [
    "features = ['bathroomcnt', 'bedroomcnt', 'finishedsquarefeet12', 'taxvaluedollarcnt', 'median_income', 'living_area']\n",
    "\n",
    "RMSE, R2, gam = model.GAM_model(train, features)\n",
    "print(f' The RMSE is : {RMSE} and R2 is {R2}')"
   ]
  },
  {
   "cell_type": "code",
   "execution_count": 21,
   "metadata": {
    "scrolled": true
   },
   "outputs": [
    {
     "name": "stdout",
     "output_type": "stream",
     "text": [
      " The RMSE is : 0.171 and R2 is 0.003\n"
     ]
    }
   ],
   "source": [
    "RMSE, R2 = model.GAM_model1(validate, features, gam)\n",
    "print(f' The RMSE is : {RMSE} and R2 is {R2}')"
   ]
  },
  {
   "cell_type": "markdown",
   "metadata": {},
   "source": [
    "***\n",
    "### Run all functions together with a single function"
   ]
  },
  {
   "cell_type": "code",
   "execution_count": 20,
   "metadata": {},
   "outputs": [
    {
     "name": "stderr",
     "output_type": "stream",
     "text": [
      "100% (11 of 11) |########################| Elapsed Time: 0:00:13 Time:  0:00:13\n"
     ]
    },
    {
     "data": {
      "text/html": [
       "<div>\n",
       "<style scoped>\n",
       "    .dataframe tbody tr th:only-of-type {\n",
       "        vertical-align: middle;\n",
       "    }\n",
       "\n",
       "    .dataframe tbody tr th {\n",
       "        vertical-align: top;\n",
       "    }\n",
       "\n",
       "    .dataframe thead th {\n",
       "        text-align: right;\n",
       "    }\n",
       "</style>\n",
       "<table border=\"1\" class=\"dataframe\">\n",
       "  <thead>\n",
       "    <tr style=\"text-align: right;\">\n",
       "      <th></th>\n",
       "      <th>RMSE</th>\n",
       "      <th>R2</th>\n",
       "    </tr>\n",
       "  </thead>\n",
       "  <tbody>\n",
       "    <tr>\n",
       "      <th>Baseline</th>\n",
       "      <td>0.163</td>\n",
       "      <td>0.000</td>\n",
       "    </tr>\n",
       "    <tr>\n",
       "      <th>Linear_model</th>\n",
       "      <td>0.163</td>\n",
       "      <td>0.002</td>\n",
       "    </tr>\n",
       "    <tr>\n",
       "      <th>polynomial_LR</th>\n",
       "      <td>0.161</td>\n",
       "      <td>0.032</td>\n",
       "    </tr>\n",
       "    <tr>\n",
       "      <th>GAM</th>\n",
       "      <td>0.163</td>\n",
       "      <td>0.004</td>\n",
       "    </tr>\n",
       "  </tbody>\n",
       "</table>\n",
       "</div>"
      ],
      "text/plain": [
       "               RMSE    R2\n",
       "Baseline      0.163 0.000\n",
       "Linear_model  0.163 0.002\n",
       "polynomial_LR 0.161 0.032\n",
       "GAM           0.163 0.004"
      ]
     },
     "execution_count": 20,
     "metadata": {},
     "output_type": "execute_result"
    }
   ],
   "source": [
    "features = ['bathroomcnt', 'bedroomcnt', 'finishedsquarefeet12', 'taxvaluedollarcnt', 'median_income', 'living_area']\n",
    "\n",
    "summary_results_train, lm_poly, poly, lm, gam = model.run_all_functions_train(train,features)\n",
    "summary_results_train"
   ]
  },
  {
   "cell_type": "code",
   "execution_count": 21,
   "metadata": {},
   "outputs": [
    {
     "name": "stderr",
     "output_type": "stream",
     "text": [
      "100% (11 of 11) |########################| Elapsed Time: 0:00:14 Time:  0:00:14\n"
     ]
    },
    {
     "data": {
      "text/html": [
       "<div>\n",
       "<style scoped>\n",
       "    .dataframe tbody tr th:only-of-type {\n",
       "        vertical-align: middle;\n",
       "    }\n",
       "\n",
       "    .dataframe tbody tr th {\n",
       "        vertical-align: top;\n",
       "    }\n",
       "\n",
       "    .dataframe thead th {\n",
       "        text-align: right;\n",
       "    }\n",
       "</style>\n",
       "<table border=\"1\" class=\"dataframe\">\n",
       "  <thead>\n",
       "    <tr style=\"text-align: right;\">\n",
       "      <th></th>\n",
       "      <th>RMSE</th>\n",
       "      <th>R2</th>\n",
       "    </tr>\n",
       "  </thead>\n",
       "  <tbody>\n",
       "    <tr>\n",
       "      <th>Baseline</th>\n",
       "      <td>0.171</td>\n",
       "      <td>0.000</td>\n",
       "    </tr>\n",
       "    <tr>\n",
       "      <th>Linear_model</th>\n",
       "      <td>0.171</td>\n",
       "      <td>0.001</td>\n",
       "    </tr>\n",
       "    <tr>\n",
       "      <th>polynomial_LR</th>\n",
       "      <td>0.262</td>\n",
       "      <td>-1.345</td>\n",
       "    </tr>\n",
       "    <tr>\n",
       "      <th>GAM</th>\n",
       "      <td>0.171</td>\n",
       "      <td>0.003</td>\n",
       "    </tr>\n",
       "  </tbody>\n",
       "</table>\n",
       "</div>"
      ],
      "text/plain": [
       "               RMSE     R2\n",
       "Baseline      0.171  0.000\n",
       "Linear_model  0.171  0.001\n",
       "polynomial_LR 0.262 -1.345\n",
       "GAM           0.171  0.003"
      ]
     },
     "execution_count": 21,
     "metadata": {},
     "output_type": "execute_result"
    }
   ],
   "source": [
    "summary_results_validate = model.run_all_functions_test(validate,train,features)\n",
    "summary_results_validate"
   ]
  },
  {
   "cell_type": "markdown",
   "metadata": {},
   "source": [
    "### Seems like polynomial linear regression model performed best. Lets run the test dataset on polynomial LR model"
   ]
  },
  {
   "cell_type": "code",
   "execution_count": 22,
   "metadata": {},
   "outputs": [
    {
     "name": "stdout",
     "output_type": "stream",
     "text": [
      " The baseline test  RMSE is : 0.15607026290260517 and R2 is 0.0\n",
      " The model RMSE is : 0.156 and R2 is 0.0\n"
     ]
    }
   ],
   "source": [
    "features = ['bathroomcnt', 'bedroomcnt', 'finishedsquarefeet12', 'taxvaluedollarcnt', 'median_income', 'living_area']\n",
    "RMSE, R2, y_test = model.linear_reg1(test, features,lm)\n",
    "print(f' The baseline test  RMSE is : {RMSE_test} and R2 is {R2_test}')\n",
    "print(f' The model RMSE is : {RMSE} and R2 is {R2}')"
   ]
  },
  {
   "cell_type": "code",
   "execution_count": 23,
   "metadata": {},
   "outputs": [
    {
     "data": {
      "image/png": "[encoded data removed]",
      "text/plain": [
       "<Figure size 432x288 with 1 Axes>"
      ]
     },
     "metadata": {
      "needs_background": "light"
     },
     "output_type": "display_data"
    },
    {
     "data": {
      "text/plain": [
       "<Figure size 864x576 with 0 Axes>"
      ]
     },
     "metadata": {},
     "output_type": "display_data"
    }
   ],
   "source": [
    "model.plot_scatter(y_test['logerror'], y_test['predicted'])"
   ]
  },
  {
   "cell_type": "markdown",
   "metadata": {},
   "source": [
    "***"
   ]
  },
  {
   "cell_type": "markdown",
   "metadata": {},
   "source": [
    "### Now we will regression model based on clusters we made based with finished square feet feature"
   ]
  },
  {
   "cell_type": "code",
   "execution_count": 24,
   "metadata": {},
   "outputs": [
    {
     "data": {
      "text/plain": [
       "(-3.0, 3.0)"
      ]
     },
     "execution_count": 24,
     "metadata": {},
     "output_type": "execute_result"
    },
    {
     "data": {
      "image/png": "[encoded data removed]",
      "text/plain": [
       "<Figure size 432x288 with 1 Axes>"
      ]
     },
     "metadata": {
      "needs_background": "light"
     },
     "output_type": "display_data"
    }
   ],
   "source": [
    "# Create 4 clusters based on finished square feet\n",
    "X = train[['finishedsquarefeet12']]\n",
    "train, X_scaled, scaler, kmeans, centroids = explore.cluster(train, X, 4)\n",
    "sns.scatterplot(x = 'logerror', y = 'finishedsquarefeet12',data = train, hue = 'cluster')\n",
    "plt.xlim(-3,3)"
   ]
  },
  {
   "cell_type": "code",
   "execution_count": 25,
   "metadata": {},
   "outputs": [],
   "source": [
    "#features tobe used on polynomal model \n",
    "features = ['bathroomcnt', 'bedroomcnt', 'finishedsquarefeet12', 'taxvaluedollarcnt', 'median_income', 'living_area']"
   ]
  },
  {
   "cell_type": "code",
   "execution_count": 26,
   "metadata": {},
   "outputs": [
    {
     "data": {
      "text/html": [
       "<div>\n",
       "<style scoped>\n",
       "    .dataframe tbody tr th:only-of-type {\n",
       "        vertical-align: middle;\n",
       "    }\n",
       "\n",
       "    .dataframe tbody tr th {\n",
       "        vertical-align: top;\n",
       "    }\n",
       "\n",
       "    .dataframe thead th {\n",
       "        text-align: right;\n",
       "    }\n",
       "</style>\n",
       "<table border=\"1\" class=\"dataframe\">\n",
       "  <thead>\n",
       "    <tr style=\"text-align: right;\">\n",
       "      <th></th>\n",
       "      <th>RMSE</th>\n",
       "      <th>R2</th>\n",
       "    </tr>\n",
       "  </thead>\n",
       "  <tbody>\n",
       "    <tr>\n",
       "      <th>cluster_0</th>\n",
       "      <td>0.155</td>\n",
       "      <td>0.001</td>\n",
       "    </tr>\n",
       "    <tr>\n",
       "      <th>cluster_1</th>\n",
       "      <td>0.161</td>\n",
       "      <td>0.003</td>\n",
       "    </tr>\n",
       "    <tr>\n",
       "      <th>cluster_2</th>\n",
       "      <td>0.192</td>\n",
       "      <td>0.001</td>\n",
       "    </tr>\n",
       "    <tr>\n",
       "      <th>cluster_3</th>\n",
       "      <td>0.162</td>\n",
       "      <td>0.001</td>\n",
       "    </tr>\n",
       "    <tr>\n",
       "      <th>overall</th>\n",
       "      <td>0.163</td>\n",
       "      <td>0.003</td>\n",
       "    </tr>\n",
       "  </tbody>\n",
       "</table>\n",
       "</div>"
      ],
      "text/plain": [
       "           RMSE    R2\n",
       "cluster_0 0.155 0.001\n",
       "cluster_1 0.161 0.003\n",
       "cluster_2 0.192 0.001\n",
       "cluster_3 0.162 0.001\n",
       "overall   0.163 0.003"
      ]
     },
     "execution_count": 26,
     "metadata": {},
     "output_type": "execute_result"
    }
   ],
   "source": [
    "# This function will take a dataset and run polynomial model on each clusters. The predicted values from\n",
    "# each cluster is concatanated and then overall RMSE and R2 is calculated.\n",
    "# Running this on train dataset\n",
    "df1, y_train_comb, lm0, lm1, lm1, lm3  = model.cluster_lm_model(train, features)\n",
    "df1"
   ]
  },
  {
   "cell_type": "code",
   "execution_count": 27,
   "metadata": {},
   "outputs": [
    {
     "name": "stdout",
     "output_type": "stream",
     "text": [
      "The baseline train RMSE: 0.16339650601805303\n"
     ]
    }
   ],
   "source": [
    "print(f'The baseline train RMSE: {RMSE_base}')"
   ]
  },
  {
   "cell_type": "markdown",
   "metadata": {},
   "source": [
    "#### Lets run this on validate data set"
   ]
  },
  {
   "cell_type": "code",
   "execution_count": 28,
   "metadata": {},
   "outputs": [],
   "source": [
    "validate = model.clusters(validate,kmeans)\n",
    "test = model.clusters(test,kmeans)"
   ]
  },
  {
   "cell_type": "code",
   "execution_count": 29,
   "metadata": {},
   "outputs": [
    {
     "data": {
      "text/html": [
       "<div>\n",
       "<style scoped>\n",
       "    .dataframe tbody tr th:only-of-type {\n",
       "        vertical-align: middle;\n",
       "    }\n",
       "\n",
       "    .dataframe tbody tr th {\n",
       "        vertical-align: top;\n",
       "    }\n",
       "\n",
       "    .dataframe thead th {\n",
       "        text-align: right;\n",
       "    }\n",
       "</style>\n",
       "<table border=\"1\" class=\"dataframe\">\n",
       "  <thead>\n",
       "    <tr style=\"text-align: right;\">\n",
       "      <th></th>\n",
       "      <th>RMSE</th>\n",
       "      <th>R2</th>\n",
       "    </tr>\n",
       "  </thead>\n",
       "  <tbody>\n",
       "    <tr>\n",
       "      <th>cluster_0</th>\n",
       "      <td>0.198</td>\n",
       "      <td>0.001</td>\n",
       "    </tr>\n",
       "    <tr>\n",
       "      <th>cluster_1</th>\n",
       "      <td>0.165</td>\n",
       "      <td>-0.006</td>\n",
       "    </tr>\n",
       "    <tr>\n",
       "      <th>cluster_2</th>\n",
       "      <td>0.202</td>\n",
       "      <td>-0.003</td>\n",
       "    </tr>\n",
       "    <tr>\n",
       "      <th>cluster_3</th>\n",
       "      <td>0.155</td>\n",
       "      <td>-0.002</td>\n",
       "    </tr>\n",
       "    <tr>\n",
       "      <th>overall</th>\n",
       "      <td>0.171</td>\n",
       "      <td>-0.002</td>\n",
       "    </tr>\n",
       "  </tbody>\n",
       "</table>\n",
       "</div>"
      ],
      "text/plain": [
       "           RMSE     R2\n",
       "cluster_0 0.198  0.001\n",
       "cluster_1 0.165 -0.006\n",
       "cluster_2 0.202 -0.003\n",
       "cluster_3 0.155 -0.002\n",
       "overall   0.171 -0.002"
      ]
     },
     "execution_count": 29,
     "metadata": {},
     "output_type": "execute_result"
    }
   ],
   "source": [
    "validate_summary, y_validate_comb  = model.cluster_lm_test(validate, features, lm0, lm1, lm1, lm3)\n",
    "validate_summary"
   ]
  },
  {
   "cell_type": "code",
   "execution_count": 30,
   "metadata": {},
   "outputs": [
    {
     "name": "stdout",
     "output_type": "stream",
     "text": [
      "The baseline validate RMSE: 0.17107394558243763\n"
     ]
    }
   ],
   "source": [
    "# The Baseline for validate data is:\n",
    "print(f'The baseline validate RMSE: {RMSE_validate}')"
   ]
  },
  {
   "cell_type": "markdown",
   "metadata": {},
   "source": [
    "#### Lets run this on test data set\n"
   ]
  },
  {
   "cell_type": "code",
   "execution_count": 31,
   "metadata": {},
   "outputs": [
    {
     "data": {
      "text/html": [
       "<div>\n",
       "<style scoped>\n",
       "    .dataframe tbody tr th:only-of-type {\n",
       "        vertical-align: middle;\n",
       "    }\n",
       "\n",
       "    .dataframe tbody tr th {\n",
       "        vertical-align: top;\n",
       "    }\n",
       "\n",
       "    .dataframe thead th {\n",
       "        text-align: right;\n",
       "    }\n",
       "</style>\n",
       "<table border=\"1\" class=\"dataframe\">\n",
       "  <thead>\n",
       "    <tr style=\"text-align: right;\">\n",
       "      <th></th>\n",
       "      <th>RMSE</th>\n",
       "      <th>R2</th>\n",
       "    </tr>\n",
       "  </thead>\n",
       "  <tbody>\n",
       "    <tr>\n",
       "      <th>cluster_0</th>\n",
       "      <td>0.132</td>\n",
       "      <td>-0.003</td>\n",
       "    </tr>\n",
       "    <tr>\n",
       "      <th>cluster_1</th>\n",
       "      <td>0.168</td>\n",
       "      <td>-0.007</td>\n",
       "    </tr>\n",
       "    <tr>\n",
       "      <th>cluster_2</th>\n",
       "      <td>0.204</td>\n",
       "      <td>-0.001</td>\n",
       "    </tr>\n",
       "    <tr>\n",
       "      <th>cluster_3</th>\n",
       "      <td>0.141</td>\n",
       "      <td>0.001</td>\n",
       "    </tr>\n",
       "    <tr>\n",
       "      <th>overall</th>\n",
       "      <td>0.156</td>\n",
       "      <td>-0.003</td>\n",
       "    </tr>\n",
       "  </tbody>\n",
       "</table>\n",
       "</div>"
      ],
      "text/plain": [
       "           RMSE     R2\n",
       "cluster_0 0.132 -0.003\n",
       "cluster_1 0.168 -0.007\n",
       "cluster_2 0.204 -0.001\n",
       "cluster_3 0.141  0.001\n",
       "overall   0.156 -0.003"
      ]
     },
     "execution_count": 31,
     "metadata": {},
     "output_type": "execute_result"
    }
   ],
   "source": [
    "test_summary, y_test_comb  = model.cluster_lm_test(test, features, lm0, lm1, lm1, lm3)\n",
    "test_summary"
   ]
  },
  {
   "cell_type": "code",
   "execution_count": 32,
   "metadata": {},
   "outputs": [
    {
     "name": "stdout",
     "output_type": "stream",
     "text": [
      "The baseline test RMSE: 0.15607026290260517\n"
     ]
    }
   ],
   "source": [
    "# The Baseline for validate data is:\n",
    "print(f'The baseline test RMSE: {RMSE_test}')"
   ]
  },
  {
   "cell_type": "code",
   "execution_count": 33,
   "metadata": {},
   "outputs": [
    {
     "data": {
      "image/png": "[encoded data removed]",
      "text/plain": [
       "<Figure size 432x288 with 1 Axes>"
      ]
     },
     "metadata": {
      "needs_background": "light"
     },
     "output_type": "display_data"
    }
   ],
   "source": [
    "evaluate.plot_residuals(y_train.logerror, y_train.predicted, y_train)"
   ]
  },
  {
   "cell_type": "markdown",
   "metadata": {},
   "source": [
    "### Conclusions:\n",
    "#### 1. Zestimate is really good!!\n",
    "#### 2. Linear regression model worked best, but the it did no"
   ]
  },
  {
   "cell_type": "code",
   "execution_count": null,
   "metadata": {},
   "outputs": [],
   "source": []
  }
 ],
 "metadata": {
  "kernelspec": {
   "display_name": "Python 3",
   "language": "python",
   "name": "python3"
  },
  "language_info": {
   "codemirror_mode": {
    "name": "ipython",
    "version": 3
   },
   "file_extension": ".py",
   "mimetype": "text/x-python",
   "name": "python",
   "nbconvert_exporter": "python",
   "pygments_lexer": "ipython3",
   "version": "3.7.4"
  }
 },
 "nbformat": 4,
 "nbformat_minor": 2
}
