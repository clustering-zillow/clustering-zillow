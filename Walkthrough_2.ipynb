{
 "cells": [
  {
   "cell_type": "code",
   "execution_count": 1,
   "metadata": {},
   "outputs": [],
   "source": [
    "import pandas as pd\n",
    "import numpy as np\n",
    "import googlemaps\n",
    "from datetime import datetime\n",
    "import acquire_r\n",
    "from env import google_key, google_key1\n",
    "from googlemaps import convert\n",
    "import wrangle_zillow_r\n",
    "import wrangle_zillow\n",
    "import seaborn as sns\n",
    "import matplotlib.pyplot as plt\n",
    "import warnings\n",
    "warnings.filterwarnings(\"ignore\")\n",
    "import scipy.stats as stats\n",
    "from sklearn.experimental import enable_iterative_imputer\n",
    "from sklearn.impute import IterativeImputer\n",
    "from sklearn.model_selection import train_test_split\n",
    "from sklearn.cluster import KMeans\n",
    "from sklearn.preprocessing import MinMaxScaler\n",
    "import gmaps\n",
    "import gmaps.datasets\n",
    "gmaps.configure(api_key=google_key1) # Fill in with your API key\n",
    "%matplotlib inline\n",
    "import zillow_fe\n",
    "import feature_selection\n",
    "from sklearn.linear_model import LinearRegression\n",
    "from sklearn.feature_selection import RFE\n",
    "from sklearn.metrics import median_absolute_error, r2_score, mean_absolute_error\n",
    "from math import sqrt\n",
    "from sklearn.preprocessing import PolynomialFeatures\n",
    "from pygam import LogisticGAM, LinearGAM, s, f, te\n",
    "from sklearn.linear_model import RidgeCV\n",
    "from sklearn.linear_model import LinearRegression\n",
    "from sklearn.metrics import mean_squared_error\n",
    "from scipy import stats\n",
    "import explore\n",
    "import model\n",
    "from sklearn.preprocessing import LabelEncoder, OneHotEncoder\n",
    "from sklearn.preprocessing import MinMaxScaler"
   ]
  },
  {
   "cell_type": "code",
   "execution_count": 2,
   "metadata": {},
   "outputs": [
    {
     "name": "stdout",
     "output_type": "stream",
     "text": [
      "There are 64747 rows and 48 columns in the zillow dataframe.\n"
     ]
    }
   ],
   "source": [
    "# Read CSV file which was saved after data wrangling\n",
    "zillow = pd.read_csv('zillow_fe.csv')\n",
    "orig_rows = zillow.shape[0]\n",
    "orig_cols = zillow.shape[1]\n",
    "print (f'There are {orig_rows} rows and {orig_cols} columns in the zillow dataframe.')"
   ]
  },
  {
   "cell_type": "code",
   "execution_count": 3,
   "metadata": {},
   "outputs": [
    {
     "name": "stdout",
     "output_type": "stream",
     "text": [
      "<class 'pandas.core.frame.DataFrame'>\n",
      "RangeIndex: 64747 entries, 0 to 64746\n",
      "Data columns (total 48 columns):\n",
      "Unnamed: 0                        64747 non-null int64\n",
      "bathroomcnt                       64747 non-null int64\n",
      "bedroomcnt                        64747 non-null int64\n",
      "finishedsquarefeet12              64747 non-null int64\n",
      "garagecarcnt                      64747 non-null int64\n",
      "garagetotalsqft                   64747 non-null int64\n",
      "hashottuborspa                    64747 non-null int64\n",
      "latitude                          64747 non-null float64\n",
      "longitude                         64747 non-null float64\n",
      "lotsizesquarefeet                 64747 non-null int64\n",
      "poolcnt                           64747 non-null int64\n",
      "poolsizesum                       64747 non-null int64\n",
      "numberofstories                   64747 non-null int64\n",
      "structuretaxvaluedollarcnt        64747 non-null int64\n",
      "taxvaluedollarcnt                 64747 non-null int64\n",
      "taxamount                         64747 non-null int64\n",
      "taxdelinquencyflag                64747 non-null int64\n",
      "taxdelinquencyyear                64747 non-null int64\n",
      "logerror                          64747 non-null float64\n",
      "transactiondate                   64747 non-null object\n",
      "haversine_distance                64747 non-null float64\n",
      "regionid_zip                      64747 non-null float64\n",
      "census_tractandblock              64747 non-null float64\n",
      "new_zip                           64747 non-null float64\n",
      "median_income                     64747 non-null float64\n",
      "county                            64747 non-null object\n",
      "age                               64747 non-null int64\n",
      "tax_rate                          64747 non-null float64\n",
      "cost_structure_sf                 64747 non-null float64\n",
      "has_ac                            64747 non-null int64\n",
      "has_heating                       64747 non-null int64\n",
      "has_fire                          64747 non-null int64\n",
      "has_garage                        64747 non-null int64\n",
      "has_deck                          64747 non-null int64\n",
      "LA                                64747 non-null int64\n",
      "OC                                64747 non-null int64\n",
      "VC                                64747 non-null int64\n",
      "sf_bin                            64747 non-null int64\n",
      "age_bin                           64747 non-null int64\n",
      "tax_bin                           64747 non-null float64\n",
      "cluster_fancy                     64747 non-null object\n",
      "centroid_buildingqualitytypeid    64747 non-null float64\n",
      "centroid_roomcnt                  64747 non-null float64\n",
      "centroid_is_extra                 64747 non-null float64\n",
      "cluster_lot                       64747 non-null object\n",
      "centroid_lotsizesquarefeet        64747 non-null float64\n",
      "centroid_landtaxvaluedollarcnt    64747 non-null float64\n",
      "centroid_new_zip                  64747 non-null float64\n",
      "dtypes: float64(17), int64(27), object(4)\n",
      "memory usage: 23.7+ MB\n"
     ]
    }
   ],
   "source": [
    "zillow.info()"
   ]
  },
  {
   "cell_type": "code",
   "execution_count": 12,
   "metadata": {},
   "outputs": [],
   "source": [
    "X = train[['finishedsquarefeet12']]\n",
    "train, X_scaled, scaler, kmeans, centroids = explore.cluster(train, X, 4)\n",
    "#explore.scatter_plot('logerror','finishedsquarefeet12',zillow,kmeans, X_scaled, scaler)"
   ]
  },
  {
   "cell_type": "code",
   "execution_count": 16,
   "metadata": {},
   "outputs": [],
   "source": [
    "#fix median_income coversion from object to float\n",
    "#zillow = wrangle_zillow_r.fix_med(zillow)\n",
    "zillow['living_area'] = zillow.lotsizesquarefeet/zillow.finishedsquarefeet12"
   ]
  },
  {
   "cell_type": "code",
   "execution_count": 17,
   "metadata": {},
   "outputs": [],
   "source": [
    "# split data in train/test (80/20)\n",
    "train, test = wrangle_zillow.split_my_data(zillow, 0.8)"
   ]
  },
  {
   "cell_type": "code",
   "execution_count": 18,
   "metadata": {},
   "outputs": [
    {
     "data": {
      "text/plain": [
       "((51797, 49), (12950, 49))"
      ]
     },
     "execution_count": 18,
     "metadata": {},
     "output_type": "execute_result"
    }
   ],
   "source": [
    "train.shape, test.shape"
   ]
  },
  {
   "cell_type": "code",
   "execution_count": 19,
   "metadata": {},
   "outputs": [],
   "source": [
    "# Split the train into train and validate sets (80/20)\n",
    "train, validate = wrangle_zillow.split_my_data(train, 0.8)"
   ]
  },
  {
   "cell_type": "code",
   "execution_count": 20,
   "metadata": {},
   "outputs": [
    {
     "data": {
      "text/plain": [
       "((41437, 49), (10360, 49))"
      ]
     },
     "execution_count": 20,
     "metadata": {},
     "output_type": "execute_result"
    }
   ],
   "source": [
    "#check train and validate shapes\n",
    "train.shape, validate.shape"
   ]
  },
  {
   "cell_type": "code",
   "execution_count": 21,
   "metadata": {},
   "outputs": [],
   "source": [
    "#add onehot encoding if needed\n",
    "#function in model.py\n",
    "# add age as a variable\n",
    "\n",
    "X = train[['finishedsquarefeet12']]\n",
    "train, X_scaled, scaler, kmeans, centroids = explore.cluster(train, X, 4)\n",
    "#explore.scatter_plot('logerror','finishedsquarefeet12',train,kmeans, X_scaled, scaler)"
   ]
  },
  {
   "cell_type": "markdown",
   "metadata": {},
   "source": [
    "# Modeling"
   ]
  },
  {
   "cell_type": "markdown",
   "metadata": {},
   "source": [
    "### Baseline\n"
   ]
  },
  {
   "cell_type": "code",
   "execution_count": 15,
   "metadata": {},
   "outputs": [
    {
     "name": "stdout",
     "output_type": "stream",
     "text": [
      "The Baseline RMSE logerror is :0.16322244734951857\n"
     ]
    }
   ],
   "source": [
    "# Lets first establish a baseline\n",
    "\n",
    "zillow[\"base_logerror\"] = zillow.logerror.mean()\n",
    "\n",
    "RMSE_base = sqrt(mean_squared_error(zillow.logerror,zillow.base_logerror))\n",
    "\n",
    "print(f'The Baseline RMSE logerror is :{RMSE_base}')"
   ]
  },
  {
   "cell_type": "code",
   "execution_count": 16,
   "metadata": {},
   "outputs": [],
   "source": [
    "# Lets first establish a baseline\n",
    "\n",
    "test[\"base_logerror\"] = test.logerror.mean()\n",
    "RMSE_test = sqrt(mean_squared_error(test.logerror,test.base_logerror))\n",
    "R2_test = r2_score(test.logerror,test.base_logerror)\n",
    "# print(f'The Baseline RMSE logerror is :{RMSE_test}')\n",
    "# print(f'The Baseline R2 logerror is :{R2_test}')"
   ]
  },
  {
   "cell_type": "code",
   "execution_count": 24,
   "metadata": {},
   "outputs": [
    {
     "data": {
      "text/plain": [
       "cluster_3    15274\n",
       "cluster_1    13862\n",
       "cluster_0     8595\n",
       "cluster_2     3706\n",
       "Name: cluster, dtype: int64"
      ]
     },
     "execution_count": 24,
     "metadata": {},
     "output_type": "execute_result"
    }
   ],
   "source": [
    "train.cluster.value_counts()"
   ]
  },
  {
   "cell_type": "markdown",
   "metadata": {},
   "source": [
    "***"
   ]
  },
  {
   "cell_type": "markdown",
   "metadata": {},
   "source": [
    "### Polynomial Regression Method\n"
   ]
  },
  {
   "cell_type": "code",
   "execution_count": 13,
   "metadata": {},
   "outputs": [
    {
     "name": "stdout",
     "output_type": "stream",
     "text": [
      " The RMSE is : 0.161 and R2 is 0.032\n"
     ]
    }
   ],
   "source": [
    "features = ['bathroomcnt', 'bedroomcnt', 'finishedsquarefeet12', 'taxvaluedollarcnt', 'median_income', 'living_area']\n",
    "RMSE, R2 = model.poly_regression(train, features,6)\n",
    "print(f' The RMSE is : {RMSE} and R2 is {R2}')"
   ]
  },
  {
   "cell_type": "code",
   "execution_count": 14,
   "metadata": {},
   "outputs": [
    {
     "name": "stdout",
     "output_type": "stream",
     "text": [
      " The RMSE is : 0.161 and R2 is 0.112\n"
     ]
    }
   ],
   "source": [
    "features = ['bathroomcnt', 'bedroomcnt', 'finishedsquarefeet12', 'taxvaluedollarcnt', 'median_income', 'living_area']\n",
    "RMSE, R2 = model.poly_regression(validate, features,6)\n",
    "print(f' The RMSE is : {RMSE} and R2 is {R2}')"
   ]
  },
  {
   "cell_type": "markdown",
   "metadata": {},
   "source": [
    "***"
   ]
  },
  {
   "cell_type": "markdown",
   "metadata": {},
   "source": [
    "### Simple Linear Regression Method"
   ]
  },
  {
   "cell_type": "code",
   "execution_count": 15,
   "metadata": {},
   "outputs": [
    {
     "name": "stdout",
     "output_type": "stream",
     "text": [
      " The RMSE is : 0.163 and R2 is 0.002\n"
     ]
    }
   ],
   "source": [
    "features = ['bathroomcnt', 'bedroomcnt', 'finishedsquarefeet12', 'taxvaluedollarcnt', 'median_income', 'living_area']\n",
    "RMSE, R2 = model.linear_reg(train, features)\n",
    "print(f' The RMSE is : {RMSE} and R2 is {R2}')"
   ]
  },
  {
   "cell_type": "code",
   "execution_count": 16,
   "metadata": {},
   "outputs": [
    {
     "name": "stdout",
     "output_type": "stream",
     "text": [
      " The RMSE is : 0.171 and R2 is 0.002\n"
     ]
    }
   ],
   "source": [
    "features = ['bathroomcnt', 'bedroomcnt', 'finishedsquarefeet12', 'taxvaluedollarcnt', 'median_income', 'living_area']\n",
    "RMSE, R2 = model.linear_reg(validate, features)\n",
    "print(f' The RMSE is : {RMSE} and R2 is {R2}')"
   ]
  },
  {
   "cell_type": "markdown",
   "metadata": {},
   "source": [
    "***"
   ]
  },
  {
   "cell_type": "markdown",
   "metadata": {},
   "source": [
    "### GAM Model"
   ]
  },
  {
   "cell_type": "code",
   "execution_count": 15,
   "metadata": {},
   "outputs": [
    {
     "name": "stderr",
     "output_type": "stream",
     "text": [
      "100% (11 of 11) |########################| Elapsed Time: 0:00:11 Time:  0:00:11\n"
     ]
    },
    {
     "data": {
      "text/plain": [
       "(0.161, 0.004)"
      ]
     },
     "execution_count": 15,
     "metadata": {},
     "output_type": "execute_result"
    }
   ],
   "source": [
    "features = ['bathroomcnt', 'bedroomcnt', 'finishedsquarefeet12', 'taxvaluedollarcnt', 'median_income', 'living_area']\n",
    "\n",
    "model.GAM_model(train, features)"
   ]
  },
  {
   "cell_type": "code",
   "execution_count": 16,
   "metadata": {},
   "outputs": [
    {
     "name": "stderr",
     "output_type": "stream",
     "text": [
      "100% (11 of 11) |########################| Elapsed Time: 0:00:02 Time:  0:00:02\n"
     ]
    },
    {
     "data": {
      "text/plain": [
       "(0.162, 0.006)"
      ]
     },
     "execution_count": 16,
     "metadata": {},
     "output_type": "execute_result"
    }
   ],
   "source": [
    "model.GAM_model(validate, features)"
   ]
  },
  {
   "cell_type": "code",
   "execution_count": 17,
   "metadata": {},
   "outputs": [
    {
     "name": "stderr",
     "output_type": "stream",
     "text": [
      "100% (11 of 11) |########################| Elapsed Time: 0:00:03 Time:  0:00:03\n"
     ]
    },
    {
     "data": {
      "text/plain": [
       "(0.17, 0.007)"
      ]
     },
     "execution_count": 17,
     "metadata": {},
     "output_type": "execute_result"
    }
   ],
   "source": [
    "model.GAM_model(test, features)"
   ]
  },
  {
   "cell_type": "markdown",
   "metadata": {},
   "source": [
    "***\n",
    "### Run all functions together with a single function"
   ]
  },
  {
   "cell_type": "code",
   "execution_count": 12,
   "metadata": {},
   "outputs": [
    {
     "name": "stderr",
     "output_type": "stream",
     "text": [
      "100% (11 of 11) |########################| Elapsed Time: 0:00:13 Time:  0:00:13\n"
     ]
    },
    {
     "data": {
      "text/html": [
       "<div>\n",
       "<style scoped>\n",
       "    .dataframe tbody tr th:only-of-type {\n",
       "        vertical-align: middle;\n",
       "    }\n",
       "\n",
       "    .dataframe tbody tr th {\n",
       "        vertical-align: top;\n",
       "    }\n",
       "\n",
       "    .dataframe thead th {\n",
       "        text-align: right;\n",
       "    }\n",
       "</style>\n",
       "<table border=\"1\" class=\"dataframe\">\n",
       "  <thead>\n",
       "    <tr style=\"text-align: right;\">\n",
       "      <th></th>\n",
       "      <th>RMSE</th>\n",
       "      <th>R2</th>\n",
       "    </tr>\n",
       "  </thead>\n",
       "  <tbody>\n",
       "    <tr>\n",
       "      <th>Baseline</th>\n",
       "      <td>0.163</td>\n",
       "      <td>0.000</td>\n",
       "    </tr>\n",
       "    <tr>\n",
       "      <th>Linear_model</th>\n",
       "      <td>0.163</td>\n",
       "      <td>0.002</td>\n",
       "    </tr>\n",
       "    <tr>\n",
       "      <th>polynomial_LR</th>\n",
       "      <td>0.161</td>\n",
       "      <td>0.032</td>\n",
       "    </tr>\n",
       "    <tr>\n",
       "      <th>GAM</th>\n",
       "      <td>0.163</td>\n",
       "      <td>0.004</td>\n",
       "    </tr>\n",
       "  </tbody>\n",
       "</table>\n",
       "</div>"
      ],
      "text/plain": [
       "               RMSE    R2\n",
       "Baseline      0.163 0.000\n",
       "Linear_model  0.163 0.002\n",
       "polynomial_LR 0.161 0.032\n",
       "GAM           0.163 0.004"
      ]
     },
     "execution_count": 12,
     "metadata": {},
     "output_type": "execute_result"
    }
   ],
   "source": [
    "features = ['bathroomcnt', 'bedroomcnt', 'finishedsquarefeet12', 'taxvaluedollarcnt', 'median_income', 'living_area']\n",
    "\n",
    "summary_results_train = model.run_all_functions(train,features)\n",
    "summary_results_train"
   ]
  },
  {
   "cell_type": "code",
   "execution_count": 13,
   "metadata": {},
   "outputs": [
    {
     "name": "stderr",
     "output_type": "stream",
     "text": [
      "100% (11 of 11) |########################| Elapsed Time: 0:00:03 Time:  0:00:03\n"
     ]
    },
    {
     "data": {
      "text/html": [
       "<div>\n",
       "<style scoped>\n",
       "    .dataframe tbody tr th:only-of-type {\n",
       "        vertical-align: middle;\n",
       "    }\n",
       "\n",
       "    .dataframe tbody tr th {\n",
       "        vertical-align: top;\n",
       "    }\n",
       "\n",
       "    .dataframe thead th {\n",
       "        text-align: right;\n",
       "    }\n",
       "</style>\n",
       "<table border=\"1\" class=\"dataframe\">\n",
       "  <thead>\n",
       "    <tr style=\"text-align: right;\">\n",
       "      <th></th>\n",
       "      <th>RMSE</th>\n",
       "      <th>R2</th>\n",
       "    </tr>\n",
       "  </thead>\n",
       "  <tbody>\n",
       "    <tr>\n",
       "      <th>Baseline</th>\n",
       "      <td>0.171</td>\n",
       "      <td>0.000</td>\n",
       "    </tr>\n",
       "    <tr>\n",
       "      <th>Linear_model</th>\n",
       "      <td>0.171</td>\n",
       "      <td>0.002</td>\n",
       "    </tr>\n",
       "    <tr>\n",
       "      <th>polynomial_LR</th>\n",
       "      <td>0.161</td>\n",
       "      <td>0.112</td>\n",
       "    </tr>\n",
       "    <tr>\n",
       "      <th>GAM</th>\n",
       "      <td>0.171</td>\n",
       "      <td>0.007</td>\n",
       "    </tr>\n",
       "  </tbody>\n",
       "</table>\n",
       "</div>"
      ],
      "text/plain": [
       "               RMSE    R2\n",
       "Baseline      0.171 0.000\n",
       "Linear_model  0.171 0.002\n",
       "polynomial_LR 0.161 0.112\n",
       "GAM           0.171 0.007"
      ]
     },
     "execution_count": 13,
     "metadata": {},
     "output_type": "execute_result"
    }
   ],
   "source": [
    "summary_results_validate = model.run_all_functions(validate,features)\n",
    "summary_results_validate"
   ]
  },
  {
   "cell_type": "markdown",
   "metadata": {},
   "source": [
    "#### Seems like polynomial linear regression model performed best. Lets run the test dataset on polynomial LR model"
   ]
  },
  {
   "cell_type": "code",
   "execution_count": 20,
   "metadata": {},
   "outputs": [
    {
     "name": "stdout",
     "output_type": "stream",
     "text": [
      " The Test baseline RMSE is : 0.15607026290260517 and R2 is 0.0\n",
      " The model RMSE is : 0.145 and R2 is 0.132\n"
     ]
    }
   ],
   "source": [
    "features = ['bathroomcnt', 'bedroomcnt', 'finishedsquarefeet12', 'taxvaluedollarcnt', 'median_income', 'living_area']\n",
    "RMSE, R2 = model.poly_regression(test, features,6)\n",
    "print(f' The Test baseline RMSE is : {RMSE_test} and R2 is {R2_test}')\n",
    "print(f' The model RMSE is : {RMSE} and R2 is {R2}')"
   ]
  },
  {
   "cell_type": "code",
   "execution_count": null,
   "metadata": {},
   "outputs": [],
   "source": []
  },
  {
   "cell_type": "code",
   "execution_count": 22,
   "metadata": {},
   "outputs": [
    {
     "name": "stdout",
     "output_type": "stream",
     "text": [
      " The RMSE is : 0.148 and R2 is 0.095\n"
     ]
    }
   ],
   "source": [
    "features = ['bathroomcnt', 'bedroomcnt', 'finishedsquarefeet12', 'taxvaluedollarcnt', 'median_income', 'living_area']\n",
    "train_0 = train[train.cluster == 'cluster_0']\n",
    "RMSE, R2, y_train0= model.poly_regression(train_0, features,6)\n",
    "print(f' The RMSE is : {RMSE} and R2 is {R2}')"
   ]
  },
  {
   "cell_type": "code",
   "execution_count": 23,
   "metadata": {},
   "outputs": [
    {
     "name": "stdout",
     "output_type": "stream",
     "text": [
      " The RMSE is : 0.155 and R2 is 0.081\n"
     ]
    }
   ],
   "source": [
    "features = ['bathroomcnt', 'bedroomcnt', 'finishedsquarefeet12', 'taxvaluedollarcnt', 'median_income', 'living_area']\n",
    "train_1 = train[train.cluster == 'cluster_1']\n",
    "RMSE, R2,y_train1 = model.poly_regression(train_1, features,6)\n",
    "print(f' The RMSE is : {RMSE} and R2 is {R2}')"
   ]
  },
  {
   "cell_type": "code",
   "execution_count": 24,
   "metadata": {},
   "outputs": [
    {
     "name": "stdout",
     "output_type": "stream",
     "text": [
      " The RMSE is : 0.158 and R2 is 0.326\n"
     ]
    }
   ],
   "source": [
    "features = ['bathroomcnt', 'bedroomcnt', 'finishedsquarefeet12', 'taxvaluedollarcnt', 'median_income', 'living_area']\n",
    "train_2 = train[train.cluster == 'cluster_2']\n",
    "RMSE, R2, y_train2 = model.poly_regression(train_2, features,6)\n",
    "print(f' The RMSE is : {RMSE} and R2 is {R2}')"
   ]
  },
  {
   "cell_type": "code",
   "execution_count": 25,
   "metadata": {},
   "outputs": [
    {
     "name": "stdout",
     "output_type": "stream",
     "text": [
      " The RMSE is : 0.157 and R2 is 0.058\n"
     ]
    }
   ],
   "source": [
    "features = ['bathroomcnt', 'bedroomcnt', 'finishedsquarefeet12', 'taxvaluedollarcnt', 'median_income', 'living_area']\n",
    "train_3 = train[train.cluster == 'cluster_3']\n",
    "RMSE, R2, y_train3 = model.poly_regression(train_3, features,6)\n",
    "print(f' The RMSE is : {RMSE} and R2 is {R2}')"
   ]
  },
  {
   "cell_type": "code",
   "execution_count": 26,
   "metadata": {},
   "outputs": [],
   "source": [
    " y_train_comb= pd.concat([y_train0, y_train1,y_train2,y_train3])"
   ]
  },
  {
   "cell_type": "code",
   "execution_count": 27,
   "metadata": {},
   "outputs": [],
   "source": [
    "RMSE_train = sqrt(mean_squared_error(y_train_comb.logerror,y_train_comb.predicted_poly))\n",
    "R2_train = r2_score(y_train_comb.logerror,y_train_comb.predicted_poly)"
   ]
  },
  {
   "cell_type": "code",
   "execution_count": 23,
   "metadata": {},
   "outputs": [
    {
     "data": {
      "text/plain": [
       "(0.1546663833400847, 0.10400346660235071)"
      ]
     },
     "execution_count": 23,
     "metadata": {},
     "output_type": "execute_result"
    }
   ],
   "source": [
    "RMSE_train, R2_train"
   ]
  },
  {
   "cell_type": "code",
   "execution_count": 27,
   "metadata": {},
   "outputs": [],
   "source": [
    "# Fit kmeans on validate \n",
    "X = validate[['finishedsquarefeet12','logerror']]\n",
    "scaler = MinMaxScaler(copy=True, feature_range=(0,1)).fit(X)\n",
    "X_scaled = pd.DataFrame(scaler.transform(X), columns=X.columns.values).set_index([X.index.values])\n",
    "kmeans.predict(X_scaled)\n",
    "validate['cluster'] = kmeans.predict(X_scaled)\n",
    "validate['cluster'] = 'cluster_' + validate.cluster.astype(str)"
   ]
  },
  {
   "cell_type": "code",
   "execution_count": 29,
   "metadata": {},
   "outputs": [
    {
     "name": "stdout",
     "output_type": "stream",
     "text": [
      " The RMSE is : 0.133 and R2 is 0.547\n"
     ]
    }
   ],
   "source": [
    "features = ['bathroomcnt', 'bedroomcnt', 'finishedsquarefeet12', 'taxvaluedollarcnt', 'median_income', 'living_area']\n",
    "validate_0 = validate[validate.cluster == 'cluster_0']\n",
    "RMSE, R2, y_validate0= model.poly_regression(validate_0, features,6)\n",
    "print(f' The RMSE is : {RMSE} and R2 is {R2}')"
   ]
  },
  {
   "cell_type": "code",
   "execution_count": 30,
   "metadata": {},
   "outputs": [
    {
     "name": "stdout",
     "output_type": "stream",
     "text": [
      " The RMSE is : 0.148 and R2 is 0.197\n"
     ]
    }
   ],
   "source": [
    "features = ['bathroomcnt', 'bedroomcnt', 'finishedsquarefeet12', 'taxvaluedollarcnt', 'median_income', 'living_area']\n",
    "validate_1 = validate[validate.cluster == 'cluster_1']\n",
    "RMSE, R2, y_validate1= model.poly_regression(validate_1, features,6)\n",
    "print(f' The RMSE is : {RMSE} and R2 is {R2}')"
   ]
  },
  {
   "cell_type": "code",
   "execution_count": 31,
   "metadata": {},
   "outputs": [
    {
     "name": "stdout",
     "output_type": "stream",
     "text": [
      " The RMSE is : 0.039 and R2 is 0.962\n"
     ]
    }
   ],
   "source": [
    "features = ['bathroomcnt', 'bedroomcnt', 'finishedsquarefeet12', 'taxvaluedollarcnt', 'median_income', 'living_area']\n",
    "validate_2 = validate[validate.cluster == 'cluster_2']\n",
    "RMSE, R2, y_validate2= model.poly_regression(validate_2, features,6)\n",
    "print(f' The RMSE is : {RMSE} and R2 is {R2}')"
   ]
  },
  {
   "cell_type": "code",
   "execution_count": 32,
   "metadata": {},
   "outputs": [
    {
     "name": "stdout",
     "output_type": "stream",
     "text": [
      " The RMSE is : 0.137 and R2 is 0.218\n"
     ]
    }
   ],
   "source": [
    "features = ['bathroomcnt', 'bedroomcnt', 'finishedsquarefeet12', 'taxvaluedollarcnt', 'median_income', 'living_area']\n",
    "validate_3 = validate[validate.cluster == 'cluster_3']\n",
    "RMSE, R2, y_validate3= model.poly_regression(validate_3, features,6)\n",
    "print(f' The RMSE is : {RMSE} and R2 is {R2}')"
   ]
  },
  {
   "cell_type": "code",
   "execution_count": 33,
   "metadata": {},
   "outputs": [],
   "source": [
    " y_validate_comb= pd.concat([y_validate0, y_validate1,y_validate2,y_validate3])"
   ]
  },
  {
   "cell_type": "code",
   "execution_count": 34,
   "metadata": {},
   "outputs": [],
   "source": [
    "RMSE_validate = sqrt(mean_squared_error(y_validate_comb.logerror,y_validate_comb.predicted_poly))\n",
    "R2_validate = r2_score(y_validate_comb.logerror,y_validate_comb.predicted_poly)"
   ]
  },
  {
   "cell_type": "code",
   "execution_count": 35,
   "metadata": {},
   "outputs": [
    {
     "data": {
      "text/plain": [
       "(0.13668867253334133, 0.3615934886828699)"
      ]
     },
     "execution_count": 35,
     "metadata": {},
     "output_type": "execute_result"
    }
   ],
   "source": [
    "RMSE_validate, R2_validate "
   ]
  },
  {
   "cell_type": "code",
   "execution_count": 36,
   "metadata": {},
   "outputs": [],
   "source": [
    "# Fit kmeans on test\n",
    "X = test[['finishedsquarefeet12','logerror']]\n",
    "scaler = MinMaxScaler(copy=True, feature_range=(0,1)).fit(X)\n",
    "X_scaled = pd.DataFrame(scaler.transform(X), columns=X.columns.values).set_index([X.index.values])\n",
    "kmeans.predict(X_scaled)\n",
    "test['cluster'] = kmeans.predict(X_scaled)\n",
    "test['cluster'] = 'cluster_' + test.cluster.astype(str)"
   ]
  },
  {
   "cell_type": "code",
   "execution_count": 38,
   "metadata": {},
   "outputs": [
    {
     "name": "stdout",
     "output_type": "stream",
     "text": [
      " The RMSE is : 0.109 and R2 is 0.382\n"
     ]
    }
   ],
   "source": [
    "features = ['bathroomcnt', 'bedroomcnt', 'finishedsquarefeet12', 'taxvaluedollarcnt', 'median_income', 'living_area']\n",
    "test_0 = test[test.cluster == 'cluster_0']\n",
    "RMSE, R2, y_test0= model.poly_regression(test_0, features,6)\n",
    "print(f' The RMSE is : {RMSE} and R2 is {R2}')"
   ]
  },
  {
   "cell_type": "code",
   "execution_count": null,
   "metadata": {},
   "outputs": [],
   "source": [
    "features = ['bathroomcnt', 'bedroomcnt', 'finishedsquarefeet12', 'taxvaluedollarcnt', 'median_income', 'living_area']\n",
    "test_1 = test[test.cluster == 'cluster_1']\n",
    "RMSE, R2, y_test1= model.poly_regression(test_1, features,6)\n",
    "print(f' The RMSE is : {RMSE} and R2 is {R2}')"
   ]
  },
  {
   "cell_type": "code",
   "execution_count": 39,
   "metadata": {},
   "outputs": [
    {
     "name": "stdout",
     "output_type": "stream",
     "text": [
      " The RMSE is : 0.147 and R2 is 0.223\n"
     ]
    }
   ],
   "source": [
    "features = ['bathroomcnt', 'bedroomcnt', 'finishedsquarefeet12', 'taxvaluedollarcnt', 'median_income', 'living_area']\n",
    "test_1 = test[test.cluster == 'cluster_1']\n",
    "RMSE, R2, y_test1= model.poly_regression(test_1, features,6)\n",
    "print(f' The RMSE is : {RMSE} and R2 is {R2}')"
   ]
  },
  {
   "cell_type": "code",
   "execution_count": 40,
   "metadata": {},
   "outputs": [
    {
     "name": "stdout",
     "output_type": "stream",
     "text": [
      " The RMSE is : 0.073 and R2 is 0.87\n"
     ]
    }
   ],
   "source": [
    "features = ['bathroomcnt', 'bedroomcnt', 'finishedsquarefeet12', 'taxvaluedollarcnt', 'median_income', 'living_area']\n",
    "test_2 = test[test.cluster == 'cluster_2']\n",
    "RMSE, R2, y_test2= model.poly_regression(test_2, features,6)\n",
    "print(f' The RMSE is : {RMSE} and R2 is {R2}')"
   ]
  },
  {
   "cell_type": "code",
   "execution_count": 41,
   "metadata": {},
   "outputs": [
    {
     "name": "stdout",
     "output_type": "stream",
     "text": [
      " The RMSE is : 0.118 and R2 is 0.272\n"
     ]
    }
   ],
   "source": [
    "features = ['bathroomcnt', 'bedroomcnt', 'finishedsquarefeet12', 'taxvaluedollarcnt', 'median_income', 'living_area']\n",
    "test_3 = test[test.cluster == 'cluster_3']\n",
    "RMSE, R2, y_test3 = model.poly_regression(test_3, features,6)\n",
    "print(f' The RMSE is : {RMSE} and R2 is {R2}')"
   ]
  },
  {
   "cell_type": "code",
   "execution_count": 42,
   "metadata": {},
   "outputs": [],
   "source": [
    " y_test_comb= pd.concat([y_test0, y_test1,y_test2,y_test3])"
   ]
  },
  {
   "cell_type": "code",
   "execution_count": 44,
   "metadata": {},
   "outputs": [],
   "source": [
    "RMSE_test = sqrt(mean_squared_error(y_test_comb.logerror,y_test_comb.predicted_poly))\n",
    "R2_validate = r2_score(y_test_comb.logerror,y_test_comb.predicted_poly)"
   ]
  },
  {
   "cell_type": "code",
   "execution_count": 46,
   "metadata": {},
   "outputs": [
    {
     "data": {
      "text/plain": [
       "(0.12585256247538126, 0.34974484872986444)"
      ]
     },
     "execution_count": 46,
     "metadata": {},
     "output_type": "execute_result"
    }
   ],
   "source": [
    "RMSE_test, R2_validate"
   ]
  }
 ],
 "metadata": {
  "kernelspec": {
   "display_name": "Python 3",
   "language": "python",
   "name": "python3"
  },
  "language_info": {
   "codemirror_mode": {
    "name": "ipython",
    "version": 3
   },
   "file_extension": ".py",
   "mimetype": "text/x-python",
   "name": "python",
   "nbconvert_exporter": "python",
   "pygments_lexer": "ipython3",
   "version": "3.7.4"
  }
 },
 "nbformat": 4,
 "nbformat_minor": 2
}
